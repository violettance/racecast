{
  "cells": [
    {
      "cell_type": "markdown",
      "metadata": {},
      "source": [
        "# F1 Dataset Analysis\n"
      ]
    },
    {
      "cell_type": "code",
      "execution_count": 1,
      "metadata": {},
      "outputs": [],
      "source": [
        "import pandas as pd\n",
        "import plotly.express as px\n",
        "from pathlib import Path\n",
        "import plotly.graph_objects as go\n",
        "import numpy as np\n",
        "import re"
      ]
    },
    {
      "cell_type": "code",
      "execution_count": 2,
      "metadata": {},
      "outputs": [],
      "source": [
        "data_path = Path('../data/processed/xgboost/enhanced_f1_dataset.csv')\n",
        "df = pd.read_csv(data_path)"
      ]
    },
    {
      "cell_type": "code",
      "execution_count": 3,
      "metadata": {},
      "outputs": [
        {
          "data": {
            "text/html": [
              "<div>\n",
              "<style scoped>\n",
              "    .dataframe tbody tr th:only-of-type {\n",
              "        vertical-align: middle;\n",
              "    }\n",
              "\n",
              "    .dataframe tbody tr th {\n",
              "        vertical-align: top;\n",
              "    }\n",
              "\n",
              "    .dataframe thead th {\n",
              "        text-align: right;\n",
              "    }\n",
              "</style>\n",
              "<table border=\"1\" class=\"dataframe\">\n",
              "  <thead>\n",
              "    <tr style=\"text-align: right;\">\n",
              "      <th></th>\n",
              "      <th>year</th>\n",
              "      <th>round</th>\n",
              "      <th>circuit_id</th>\n",
              "      <th>circuit_name</th>\n",
              "      <th>country</th>\n",
              "      <th>date</th>\n",
              "      <th>driver_id</th>\n",
              "      <th>driver_first_name</th>\n",
              "      <th>driver_last_name</th>\n",
              "      <th>driver_nationality</th>\n",
              "      <th>...</th>\n",
              "      <th>avg_speed_rank_in_race</th>\n",
              "      <th>grid_to_finish_change</th>\n",
              "      <th>position_gained</th>\n",
              "      <th>position_lost</th>\n",
              "      <th>has_fastf1_data</th>\n",
              "      <th>group_key</th>\n",
              "      <th>target_position</th>\n",
              "      <th>rank</th>\n",
              "      <th>race_size</th>\n",
              "      <th>position_percentile</th>\n",
              "    </tr>\n",
              "  </thead>\n",
              "  <tbody>\n",
              "    <tr>\n",
              "      <th>0</th>\n",
              "      <td>2018</td>\n",
              "      <td>1</td>\n",
              "      <td>albert_park</td>\n",
              "      <td>Albert Park Grand Prix Circuit</td>\n",
              "      <td>Australia</td>\n",
              "      <td>2018-03-25</td>\n",
              "      <td>vettel</td>\n",
              "      <td>Sebastian</td>\n",
              "      <td>Vettel</td>\n",
              "      <td>German</td>\n",
              "      <td>...</td>\n",
              "      <td>9.0</td>\n",
              "      <td>2.0</td>\n",
              "      <td>2.0</td>\n",
              "      <td>0.0</td>\n",
              "      <td>True</td>\n",
              "      <td>2018_1</td>\n",
              "      <td>1</td>\n",
              "      <td>1</td>\n",
              "      <td>20</td>\n",
              "      <td>0.05</td>\n",
              "    </tr>\n",
              "    <tr>\n",
              "      <th>1</th>\n",
              "      <td>2018</td>\n",
              "      <td>1</td>\n",
              "      <td>albert_park</td>\n",
              "      <td>Albert Park Grand Prix Circuit</td>\n",
              "      <td>Australia</td>\n",
              "      <td>2018-03-25</td>\n",
              "      <td>hamilton</td>\n",
              "      <td>Lewis</td>\n",
              "      <td>Hamilton</td>\n",
              "      <td>British</td>\n",
              "      <td>...</td>\n",
              "      <td>20.0</td>\n",
              "      <td>-1.0</td>\n",
              "      <td>0.0</td>\n",
              "      <td>1.0</td>\n",
              "      <td>True</td>\n",
              "      <td>2018_1</td>\n",
              "      <td>2</td>\n",
              "      <td>2</td>\n",
              "      <td>20</td>\n",
              "      <td>0.10</td>\n",
              "    </tr>\n",
              "    <tr>\n",
              "      <th>2</th>\n",
              "      <td>2018</td>\n",
              "      <td>1</td>\n",
              "      <td>albert_park</td>\n",
              "      <td>Albert Park Grand Prix Circuit</td>\n",
              "      <td>Australia</td>\n",
              "      <td>2018-03-25</td>\n",
              "      <td>raikkonen</td>\n",
              "      <td>Kimi</td>\n",
              "      <td>Räikkönen</td>\n",
              "      <td>Finnish</td>\n",
              "      <td>...</td>\n",
              "      <td>13.0</td>\n",
              "      <td>-1.0</td>\n",
              "      <td>0.0</td>\n",
              "      <td>1.0</td>\n",
              "      <td>True</td>\n",
              "      <td>2018_1</td>\n",
              "      <td>3</td>\n",
              "      <td>3</td>\n",
              "      <td>20</td>\n",
              "      <td>0.15</td>\n",
              "    </tr>\n",
              "    <tr>\n",
              "      <th>3</th>\n",
              "      <td>2018</td>\n",
              "      <td>1</td>\n",
              "      <td>albert_park</td>\n",
              "      <td>Albert Park Grand Prix Circuit</td>\n",
              "      <td>Australia</td>\n",
              "      <td>2018-03-25</td>\n",
              "      <td>ricciardo</td>\n",
              "      <td>Daniel</td>\n",
              "      <td>Ricciardo</td>\n",
              "      <td>Australian</td>\n",
              "      <td>...</td>\n",
              "      <td>6.0</td>\n",
              "      <td>4.0</td>\n",
              "      <td>4.0</td>\n",
              "      <td>0.0</td>\n",
              "      <td>True</td>\n",
              "      <td>2018_1</td>\n",
              "      <td>4</td>\n",
              "      <td>4</td>\n",
              "      <td>20</td>\n",
              "      <td>0.20</td>\n",
              "    </tr>\n",
              "    <tr>\n",
              "      <th>4</th>\n",
              "      <td>2018</td>\n",
              "      <td>1</td>\n",
              "      <td>albert_park</td>\n",
              "      <td>Albert Park Grand Prix Circuit</td>\n",
              "      <td>Australia</td>\n",
              "      <td>2018-03-25</td>\n",
              "      <td>alonso</td>\n",
              "      <td>Fernando</td>\n",
              "      <td>Alonso</td>\n",
              "      <td>Spanish</td>\n",
              "      <td>...</td>\n",
              "      <td>18.5</td>\n",
              "      <td>5.0</td>\n",
              "      <td>5.0</td>\n",
              "      <td>0.0</td>\n",
              "      <td>True</td>\n",
              "      <td>2018_1</td>\n",
              "      <td>5</td>\n",
              "      <td>5</td>\n",
              "      <td>20</td>\n",
              "      <td>0.25</td>\n",
              "    </tr>\n",
              "  </tbody>\n",
              "</table>\n",
              "<p>5 rows × 110 columns</p>\n",
              "</div>"
            ],
            "text/plain": [
              "   year  round   circuit_id                    circuit_name    country  \\\n",
              "0  2018      1  albert_park  Albert Park Grand Prix Circuit  Australia   \n",
              "1  2018      1  albert_park  Albert Park Grand Prix Circuit  Australia   \n",
              "2  2018      1  albert_park  Albert Park Grand Prix Circuit  Australia   \n",
              "3  2018      1  albert_park  Albert Park Grand Prix Circuit  Australia   \n",
              "4  2018      1  albert_park  Albert Park Grand Prix Circuit  Australia   \n",
              "\n",
              "         date  driver_id driver_first_name driver_last_name  \\\n",
              "0  2018-03-25     vettel         Sebastian           Vettel   \n",
              "1  2018-03-25   hamilton             Lewis         Hamilton   \n",
              "2  2018-03-25  raikkonen              Kimi        Räikkönen   \n",
              "3  2018-03-25  ricciardo            Daniel        Ricciardo   \n",
              "4  2018-03-25     alonso          Fernando           Alonso   \n",
              "\n",
              "  driver_nationality  ... avg_speed_rank_in_race grid_to_finish_change  \\\n",
              "0             German  ...                    9.0                   2.0   \n",
              "1            British  ...                   20.0                  -1.0   \n",
              "2            Finnish  ...                   13.0                  -1.0   \n",
              "3         Australian  ...                    6.0                   4.0   \n",
              "4            Spanish  ...                   18.5                   5.0   \n",
              "\n",
              "  position_gained  position_lost  has_fastf1_data  group_key  target_position  \\\n",
              "0             2.0            0.0             True     2018_1                1   \n",
              "1             0.0            1.0             True     2018_1                2   \n",
              "2             0.0            1.0             True     2018_1                3   \n",
              "3             4.0            0.0             True     2018_1                4   \n",
              "4             5.0            0.0             True     2018_1                5   \n",
              "\n",
              "   rank  race_size  position_percentile  \n",
              "0     1         20                 0.05  \n",
              "1     2         20                 0.10  \n",
              "2     3         20                 0.15  \n",
              "3     4         20                 0.20  \n",
              "4     5         20                 0.25  \n",
              "\n",
              "[5 rows x 110 columns]"
            ]
          },
          "execution_count": 3,
          "metadata": {},
          "output_type": "execute_result"
        }
      ],
      "source": [
        "pd.set_option(\"display.max_rows\", None)\n",
        "df.head(5)"
      ]
    },
    {
      "cell_type": "code",
      "execution_count": 4,
      "metadata": {},
      "outputs": [],
      "source": [
        "df = df.drop('is_2018_2021_era', axis=1)"
      ]
    },
    {
      "cell_type": "code",
      "execution_count": 5,
      "metadata": {},
      "outputs": [],
      "source": [
        "\n",
        "df[\"driver_full_name\"] = df[\"driver_first_name\"] + \" \" + df[\"driver_last_name\"]"
      ]
    },
    {
      "cell_type": "code",
      "execution_count": 6,
      "metadata": {},
      "outputs": [
        {
          "data": {
            "text/html": [
              "<div>\n",
              "<style scoped>\n",
              "    .dataframe tbody tr th:only-of-type {\n",
              "        vertical-align: middle;\n",
              "    }\n",
              "\n",
              "    .dataframe tbody tr th {\n",
              "        vertical-align: top;\n",
              "    }\n",
              "\n",
              "    .dataframe thead th {\n",
              "        text-align: right;\n",
              "    }\n",
              "</style>\n",
              "<table border=\"1\" class=\"dataframe\">\n",
              "  <thead>\n",
              "    <tr style=\"text-align: right;\">\n",
              "      <th></th>\n",
              "      <th>driver_id</th>\n",
              "      <th>driver_first_name</th>\n",
              "      <th>driver_last_name</th>\n",
              "      <th>driver_full_name</th>\n",
              "      <th>driver_nationality</th>\n",
              "      <th>driver_abbreviation</th>\n",
              "      <th>driver_number</th>\n",
              "    </tr>\n",
              "  </thead>\n",
              "  <tbody>\n",
              "    <tr>\n",
              "      <th>0</th>\n",
              "      <td>vettel</td>\n",
              "      <td>Sebastian</td>\n",
              "      <td>Vettel</td>\n",
              "      <td>Sebastian Vettel</td>\n",
              "      <td>German</td>\n",
              "      <td>VET</td>\n",
              "      <td>5.0</td>\n",
              "    </tr>\n",
              "    <tr>\n",
              "      <th>1</th>\n",
              "      <td>hamilton</td>\n",
              "      <td>Lewis</td>\n",
              "      <td>Hamilton</td>\n",
              "      <td>Lewis Hamilton</td>\n",
              "      <td>British</td>\n",
              "      <td>HAM</td>\n",
              "      <td>44.0</td>\n",
              "    </tr>\n",
              "    <tr>\n",
              "      <th>2</th>\n",
              "      <td>raikkonen</td>\n",
              "      <td>Kimi</td>\n",
              "      <td>Räikkönen</td>\n",
              "      <td>Kimi Räikkönen</td>\n",
              "      <td>Finnish</td>\n",
              "      <td>RAI</td>\n",
              "      <td>7.0</td>\n",
              "    </tr>\n",
              "    <tr>\n",
              "      <th>3</th>\n",
              "      <td>ricciardo</td>\n",
              "      <td>Daniel</td>\n",
              "      <td>Ricciardo</td>\n",
              "      <td>Daniel Ricciardo</td>\n",
              "      <td>Australian</td>\n",
              "      <td>RIC</td>\n",
              "      <td>3.0</td>\n",
              "    </tr>\n",
              "    <tr>\n",
              "      <th>4</th>\n",
              "      <td>alonso</td>\n",
              "      <td>Fernando</td>\n",
              "      <td>Alonso</td>\n",
              "      <td>Fernando Alonso</td>\n",
              "      <td>Spanish</td>\n",
              "      <td>ALO</td>\n",
              "      <td>14.0</td>\n",
              "    </tr>\n",
              "  </tbody>\n",
              "</table>\n",
              "</div>"
            ],
            "text/plain": [
              "   driver_id driver_first_name driver_last_name  driver_full_name  \\\n",
              "0     vettel         Sebastian           Vettel  Sebastian Vettel   \n",
              "1   hamilton             Lewis         Hamilton    Lewis Hamilton   \n",
              "2  raikkonen              Kimi        Räikkönen    Kimi Räikkönen   \n",
              "3  ricciardo            Daniel        Ricciardo  Daniel Ricciardo   \n",
              "4     alonso          Fernando           Alonso   Fernando Alonso   \n",
              "\n",
              "  driver_nationality driver_abbreviation  driver_number  \n",
              "0             German                 VET            5.0  \n",
              "1            British                 HAM           44.0  \n",
              "2            Finnish                 RAI            7.0  \n",
              "3         Australian                 RIC            3.0  \n",
              "4            Spanish                 ALO           14.0  "
            ]
          },
          "execution_count": 6,
          "metadata": {},
          "output_type": "execute_result"
        }
      ],
      "source": [
        "\n",
        "drivers = df[['driver_id', 'driver_first_name', 'driver_last_name', \"driver_full_name\", 'driver_nationality', 'driver_abbreviation', 'driver_number']].drop_duplicates()\n",
        "drivers.head(5)"
      ]
    },
    {
      "cell_type": "code",
      "execution_count": 7,
      "metadata": {},
      "outputs": [
        {
          "data": {
            "text/html": [
              "<div>\n",
              "<style scoped>\n",
              "    .dataframe tbody tr th:only-of-type {\n",
              "        vertical-align: middle;\n",
              "    }\n",
              "\n",
              "    .dataframe tbody tr th {\n",
              "        vertical-align: top;\n",
              "    }\n",
              "\n",
              "    .dataframe thead th {\n",
              "        text-align: right;\n",
              "    }\n",
              "</style>\n",
              "<table border=\"1\" class=\"dataframe\">\n",
              "  <thead>\n",
              "    <tr style=\"text-align: right;\">\n",
              "      <th></th>\n",
              "      <th>driver_full_name</th>\n",
              "      <th>typology</th>\n",
              "      <th>enneagram</th>\n",
              "      <th>heaight</th>\n",
              "      <th>why_choose_number</th>\n",
              "      <th>why_choose_number_categorical</th>\n",
              "    </tr>\n",
              "  </thead>\n",
              "  <tbody>\n",
              "    <tr>\n",
              "      <th>0</th>\n",
              "      <td>Sebastian Vettel</td>\n",
              "      <td>INFJ</td>\n",
              "      <td>9w1</td>\n",
              "      <td>175</td>\n",
              "      <td>Chose 5 from karting success; last used by him...</td>\n",
              "      <td>Karting Success</td>\n",
              "    </tr>\n",
              "    <tr>\n",
              "      <th>1</th>\n",
              "      <td>Lewis Hamilton</td>\n",
              "      <td>ISFP</td>\n",
              "      <td>3w4</td>\n",
              "      <td>174</td>\n",
              "      <td>From his dad's car number plate F44 when he st...</td>\n",
              "      <td>Personal Connection</td>\n",
              "    </tr>\n",
              "    <tr>\n",
              "      <th>2</th>\n",
              "      <td>Kimi Räikkönen</td>\n",
              "      <td>ISTP</td>\n",
              "      <td>5w4</td>\n",
              "      <td>175</td>\n",
              "      <td>Karting number; kept it for career.</td>\n",
              "      <td>Karting Success</td>\n",
              "    </tr>\n",
              "    <tr>\n",
              "      <th>3</th>\n",
              "      <td>Daniel Ricciardo</td>\n",
              "      <td>ENFP</td>\n",
              "      <td>7w6</td>\n",
              "      <td>179</td>\n",
              "      <td>Half of his favorite number 33 (birth year 198...</td>\n",
              "      <td>Karting Success</td>\n",
              "    </tr>\n",
              "    <tr>\n",
              "      <th>4</th>\n",
              "      <td>Fernando Alonso</td>\n",
              "      <td>ENTJ</td>\n",
              "      <td>1w2</td>\n",
              "      <td>171</td>\n",
              "      <td>At age 14 on July 14, won karting world champi...</td>\n",
              "      <td>Karting Success</td>\n",
              "    </tr>\n",
              "  </tbody>\n",
              "</table>\n",
              "</div>"
            ],
            "text/plain": [
              "   driver_full_name typology enneagram  heaight  \\\n",
              "0  Sebastian Vettel     INFJ       9w1      175   \n",
              "1    Lewis Hamilton     ISFP       3w4      174   \n",
              "2    Kimi Räikkönen     ISTP       5w4      175   \n",
              "3  Daniel Ricciardo     ENFP       7w6      179   \n",
              "4   Fernando Alonso     ENTJ       1w2      171   \n",
              "\n",
              "                                   why_choose_number  \\\n",
              "0  Chose 5 from karting success; last used by him...   \n",
              "1  From his dad's car number plate F44 when he st...   \n",
              "2                Karting number; kept it for career.   \n",
              "3  Half of his favorite number 33 (birth year 198...   \n",
              "4  At age 14 on July 14, won karting world champi...   \n",
              "\n",
              "  why_choose_number_categorical  \n",
              "0               Karting Success  \n",
              "1           Personal Connection  \n",
              "2               Karting Success  \n",
              "3               Karting Success  \n",
              "4               Karting Success  "
            ]
          },
          "execution_count": 7,
          "metadata": {},
          "output_type": "execute_result"
        }
      ],
      "source": [
        "extra_df = pd.read_csv('../data/extended/f1_driver_data.csv')\n",
        "extra_df.head(5)"
      ]
    },
    {
      "cell_type": "code",
      "execution_count": 8,
      "metadata": {},
      "outputs": [
        {
          "data": {
            "text/html": [
              "<div>\n",
              "<style scoped>\n",
              "    .dataframe tbody tr th:only-of-type {\n",
              "        vertical-align: middle;\n",
              "    }\n",
              "\n",
              "    .dataframe tbody tr th {\n",
              "        vertical-align: top;\n",
              "    }\n",
              "\n",
              "    .dataframe thead th {\n",
              "        text-align: right;\n",
              "    }\n",
              "</style>\n",
              "<table border=\"1\" class=\"dataframe\">\n",
              "  <thead>\n",
              "    <tr style=\"text-align: right;\">\n",
              "      <th></th>\n",
              "      <th>year</th>\n",
              "      <th>round</th>\n",
              "      <th>circuit_id</th>\n",
              "      <th>circuit_name</th>\n",
              "      <th>country</th>\n",
              "      <th>date</th>\n",
              "      <th>driver_id</th>\n",
              "      <th>driver_first_name</th>\n",
              "      <th>driver_last_name</th>\n",
              "      <th>driver_nationality</th>\n",
              "      <th>...</th>\n",
              "      <th>target_position</th>\n",
              "      <th>rank</th>\n",
              "      <th>race_size</th>\n",
              "      <th>position_percentile</th>\n",
              "      <th>driver_full_name</th>\n",
              "      <th>typology</th>\n",
              "      <th>enneagram</th>\n",
              "      <th>heaight</th>\n",
              "      <th>why_choose_number</th>\n",
              "      <th>why_choose_number_categorical</th>\n",
              "    </tr>\n",
              "  </thead>\n",
              "  <tbody>\n",
              "    <tr>\n",
              "      <th>0</th>\n",
              "      <td>2018</td>\n",
              "      <td>1</td>\n",
              "      <td>albert_park</td>\n",
              "      <td>Albert Park Grand Prix Circuit</td>\n",
              "      <td>Australia</td>\n",
              "      <td>2018-03-25</td>\n",
              "      <td>vettel</td>\n",
              "      <td>Sebastian</td>\n",
              "      <td>Vettel</td>\n",
              "      <td>German</td>\n",
              "      <td>...</td>\n",
              "      <td>1</td>\n",
              "      <td>1</td>\n",
              "      <td>20</td>\n",
              "      <td>0.05</td>\n",
              "      <td>Sebastian Vettel</td>\n",
              "      <td>INFJ</td>\n",
              "      <td>9w1</td>\n",
              "      <td>175</td>\n",
              "      <td>Chose 5 from karting success; last used by him...</td>\n",
              "      <td>Karting Success</td>\n",
              "    </tr>\n",
              "    <tr>\n",
              "      <th>1</th>\n",
              "      <td>2018</td>\n",
              "      <td>1</td>\n",
              "      <td>albert_park</td>\n",
              "      <td>Albert Park Grand Prix Circuit</td>\n",
              "      <td>Australia</td>\n",
              "      <td>2018-03-25</td>\n",
              "      <td>hamilton</td>\n",
              "      <td>Lewis</td>\n",
              "      <td>Hamilton</td>\n",
              "      <td>British</td>\n",
              "      <td>...</td>\n",
              "      <td>2</td>\n",
              "      <td>2</td>\n",
              "      <td>20</td>\n",
              "      <td>0.10</td>\n",
              "      <td>Lewis Hamilton</td>\n",
              "      <td>ISFP</td>\n",
              "      <td>3w4</td>\n",
              "      <td>174</td>\n",
              "      <td>From his dad's car number plate F44 when he st...</td>\n",
              "      <td>Personal Connection</td>\n",
              "    </tr>\n",
              "    <tr>\n",
              "      <th>2</th>\n",
              "      <td>2018</td>\n",
              "      <td>1</td>\n",
              "      <td>albert_park</td>\n",
              "      <td>Albert Park Grand Prix Circuit</td>\n",
              "      <td>Australia</td>\n",
              "      <td>2018-03-25</td>\n",
              "      <td>raikkonen</td>\n",
              "      <td>Kimi</td>\n",
              "      <td>Räikkönen</td>\n",
              "      <td>Finnish</td>\n",
              "      <td>...</td>\n",
              "      <td>3</td>\n",
              "      <td>3</td>\n",
              "      <td>20</td>\n",
              "      <td>0.15</td>\n",
              "      <td>Kimi Räikkönen</td>\n",
              "      <td>ISTP</td>\n",
              "      <td>5w4</td>\n",
              "      <td>175</td>\n",
              "      <td>Karting number; kept it for career.</td>\n",
              "      <td>Karting Success</td>\n",
              "    </tr>\n",
              "    <tr>\n",
              "      <th>3</th>\n",
              "      <td>2018</td>\n",
              "      <td>1</td>\n",
              "      <td>albert_park</td>\n",
              "      <td>Albert Park Grand Prix Circuit</td>\n",
              "      <td>Australia</td>\n",
              "      <td>2018-03-25</td>\n",
              "      <td>ricciardo</td>\n",
              "      <td>Daniel</td>\n",
              "      <td>Ricciardo</td>\n",
              "      <td>Australian</td>\n",
              "      <td>...</td>\n",
              "      <td>4</td>\n",
              "      <td>4</td>\n",
              "      <td>20</td>\n",
              "      <td>0.20</td>\n",
              "      <td>Daniel Ricciardo</td>\n",
              "      <td>ENFP</td>\n",
              "      <td>7w6</td>\n",
              "      <td>179</td>\n",
              "      <td>Half of his favorite number 33 (birth year 198...</td>\n",
              "      <td>Karting Success</td>\n",
              "    </tr>\n",
              "    <tr>\n",
              "      <th>4</th>\n",
              "      <td>2018</td>\n",
              "      <td>1</td>\n",
              "      <td>albert_park</td>\n",
              "      <td>Albert Park Grand Prix Circuit</td>\n",
              "      <td>Australia</td>\n",
              "      <td>2018-03-25</td>\n",
              "      <td>alonso</td>\n",
              "      <td>Fernando</td>\n",
              "      <td>Alonso</td>\n",
              "      <td>Spanish</td>\n",
              "      <td>...</td>\n",
              "      <td>5</td>\n",
              "      <td>5</td>\n",
              "      <td>20</td>\n",
              "      <td>0.25</td>\n",
              "      <td>Fernando Alonso</td>\n",
              "      <td>ENTJ</td>\n",
              "      <td>1w2</td>\n",
              "      <td>171</td>\n",
              "      <td>At age 14 on July 14, won karting world champi...</td>\n",
              "      <td>Karting Success</td>\n",
              "    </tr>\n",
              "  </tbody>\n",
              "</table>\n",
              "<p>5 rows × 115 columns</p>\n",
              "</div>"
            ],
            "text/plain": [
              "   year  round   circuit_id                    circuit_name    country  \\\n",
              "0  2018      1  albert_park  Albert Park Grand Prix Circuit  Australia   \n",
              "1  2018      1  albert_park  Albert Park Grand Prix Circuit  Australia   \n",
              "2  2018      1  albert_park  Albert Park Grand Prix Circuit  Australia   \n",
              "3  2018      1  albert_park  Albert Park Grand Prix Circuit  Australia   \n",
              "4  2018      1  albert_park  Albert Park Grand Prix Circuit  Australia   \n",
              "\n",
              "         date  driver_id driver_first_name driver_last_name  \\\n",
              "0  2018-03-25     vettel         Sebastian           Vettel   \n",
              "1  2018-03-25   hamilton             Lewis         Hamilton   \n",
              "2  2018-03-25  raikkonen              Kimi        Räikkönen   \n",
              "3  2018-03-25  ricciardo            Daniel        Ricciardo   \n",
              "4  2018-03-25     alonso          Fernando           Alonso   \n",
              "\n",
              "  driver_nationality  ... target_position rank race_size  position_percentile  \\\n",
              "0             German  ...               1    1        20                 0.05   \n",
              "1            British  ...               2    2        20                 0.10   \n",
              "2            Finnish  ...               3    3        20                 0.15   \n",
              "3         Australian  ...               4    4        20                 0.20   \n",
              "4            Spanish  ...               5    5        20                 0.25   \n",
              "\n",
              "   driver_full_name  typology  enneagram  heaight  \\\n",
              "0  Sebastian Vettel      INFJ        9w1      175   \n",
              "1    Lewis Hamilton      ISFP        3w4      174   \n",
              "2    Kimi Räikkönen      ISTP        5w4      175   \n",
              "3  Daniel Ricciardo      ENFP        7w6      179   \n",
              "4   Fernando Alonso      ENTJ        1w2      171   \n",
              "\n",
              "                                   why_choose_number  \\\n",
              "0  Chose 5 from karting success; last used by him...   \n",
              "1  From his dad's car number plate F44 when he st...   \n",
              "2                Karting number; kept it for career.   \n",
              "3  Half of his favorite number 33 (birth year 198...   \n",
              "4  At age 14 on July 14, won karting world champi...   \n",
              "\n",
              "   why_choose_number_categorical  \n",
              "0                Karting Success  \n",
              "1            Personal Connection  \n",
              "2                Karting Success  \n",
              "3                Karting Success  \n",
              "4                Karting Success  \n",
              "\n",
              "[5 rows x 115 columns]"
            ]
          },
          "execution_count": 8,
          "metadata": {},
          "output_type": "execute_result"
        }
      ],
      "source": [
        "merged = df.merge(\n",
        "    extra_df,\n",
        "    on=\"driver_full_name\",   \n",
        "    how=\"left\"               \n",
        ")\n",
        "\n",
        "merged.head()"
      ]
    },
    {
      "cell_type": "code",
      "execution_count": 9,
      "metadata": {},
      "outputs": [
        {
          "data": {
            "application/vnd.plotly.v1+json": {
              "config": {
                "plotlyServerURL": "https://plot.ly"
              },
              "data": [
                {
                  "hovertemplate": "Number of Drivers=%{x}<br>MBTI Type=%{y}<br>text=%{text}<extra></extra>",
                  "legendgroup": "",
                  "marker": {
                    "color": "#636efa",
                    "pattern": {
                      "shape": ""
                    }
                  },
                  "name": "",
                  "orientation": "h",
                  "showlegend": false,
                  "text": {
                    "bdata": "AAAAAAAA8D8AAAAAAADwPwAAAAAAAPA/AAAAAAAA8D8AAAAAAADwPwAAAAAAAABAAAAAAAAAAEAAAAAAAAAAQAAAAAAAAAhAAAAAAAAACEAAAAAAAAAIQAAAAAAAABBAAAAAAAAAEEAAAAAAAAAiQA==",
                    "dtype": "f8"
                  },
                  "textposition": "outside",
                  "type": "bar",
                  "x": {
                    "bdata": "AQEBAQECAgIDAwMEBAk=",
                    "dtype": "i1"
                  },
                  "xaxis": "x",
                  "y": [
                    "INTJ",
                    "ENTP",
                    "ESFJ",
                    "ESTJ",
                    "ESTP",
                    "INFJ",
                    "ENTJ",
                    "ENFJ",
                    "ENFP",
                    "ISFJ",
                    "ESFP",
                    "ISFP",
                    "INFP",
                    "ISTP"
                  ],
                  "yaxis": "y"
                }
              ],
              "layout": {
                "barmode": "relative",
                "height": 600,
                "legend": {
                  "tracegroupgap": 0
                },
                "template": {
                  "data": {
                    "bar": [
                      {
                        "error_x": {
                          "color": "#2a3f5f"
                        },
                        "error_y": {
                          "color": "#2a3f5f"
                        },
                        "marker": {
                          "line": {
                            "color": "#E5ECF6",
                            "width": 0.5
                          },
                          "pattern": {
                            "fillmode": "overlay",
                            "size": 10,
                            "solidity": 0.2
                          }
                        },
                        "type": "bar"
                      }
                    ],
                    "barpolar": [
                      {
                        "marker": {
                          "line": {
                            "color": "#E5ECF6",
                            "width": 0.5
                          },
                          "pattern": {
                            "fillmode": "overlay",
                            "size": 10,
                            "solidity": 0.2
                          }
                        },
                        "type": "barpolar"
                      }
                    ],
                    "carpet": [
                      {
                        "aaxis": {
                          "endlinecolor": "#2a3f5f",
                          "gridcolor": "white",
                          "linecolor": "white",
                          "minorgridcolor": "white",
                          "startlinecolor": "#2a3f5f"
                        },
                        "baxis": {
                          "endlinecolor": "#2a3f5f",
                          "gridcolor": "white",
                          "linecolor": "white",
                          "minorgridcolor": "white",
                          "startlinecolor": "#2a3f5f"
                        },
                        "type": "carpet"
                      }
                    ],
                    "choropleth": [
                      {
                        "colorbar": {
                          "outlinewidth": 0,
                          "ticks": ""
                        },
                        "type": "choropleth"
                      }
                    ],
                    "contour": [
                      {
                        "colorbar": {
                          "outlinewidth": 0,
                          "ticks": ""
                        },
                        "colorscale": [
                          [
                            0,
                            "#0d0887"
                          ],
                          [
                            0.1111111111111111,
                            "#46039f"
                          ],
                          [
                            0.2222222222222222,
                            "#7201a8"
                          ],
                          [
                            0.3333333333333333,
                            "#9c179e"
                          ],
                          [
                            0.4444444444444444,
                            "#bd3786"
                          ],
                          [
                            0.5555555555555556,
                            "#d8576b"
                          ],
                          [
                            0.6666666666666666,
                            "#ed7953"
                          ],
                          [
                            0.7777777777777778,
                            "#fb9f3a"
                          ],
                          [
                            0.8888888888888888,
                            "#fdca26"
                          ],
                          [
                            1,
                            "#f0f921"
                          ]
                        ],
                        "type": "contour"
                      }
                    ],
                    "contourcarpet": [
                      {
                        "colorbar": {
                          "outlinewidth": 0,
                          "ticks": ""
                        },
                        "type": "contourcarpet"
                      }
                    ],
                    "heatmap": [
                      {
                        "colorbar": {
                          "outlinewidth": 0,
                          "ticks": ""
                        },
                        "colorscale": [
                          [
                            0,
                            "#0d0887"
                          ],
                          [
                            0.1111111111111111,
                            "#46039f"
                          ],
                          [
                            0.2222222222222222,
                            "#7201a8"
                          ],
                          [
                            0.3333333333333333,
                            "#9c179e"
                          ],
                          [
                            0.4444444444444444,
                            "#bd3786"
                          ],
                          [
                            0.5555555555555556,
                            "#d8576b"
                          ],
                          [
                            0.6666666666666666,
                            "#ed7953"
                          ],
                          [
                            0.7777777777777778,
                            "#fb9f3a"
                          ],
                          [
                            0.8888888888888888,
                            "#fdca26"
                          ],
                          [
                            1,
                            "#f0f921"
                          ]
                        ],
                        "type": "heatmap"
                      }
                    ],
                    "histogram": [
                      {
                        "marker": {
                          "pattern": {
                            "fillmode": "overlay",
                            "size": 10,
                            "solidity": 0.2
                          }
                        },
                        "type": "histogram"
                      }
                    ],
                    "histogram2d": [
                      {
                        "colorbar": {
                          "outlinewidth": 0,
                          "ticks": ""
                        },
                        "colorscale": [
                          [
                            0,
                            "#0d0887"
                          ],
                          [
                            0.1111111111111111,
                            "#46039f"
                          ],
                          [
                            0.2222222222222222,
                            "#7201a8"
                          ],
                          [
                            0.3333333333333333,
                            "#9c179e"
                          ],
                          [
                            0.4444444444444444,
                            "#bd3786"
                          ],
                          [
                            0.5555555555555556,
                            "#d8576b"
                          ],
                          [
                            0.6666666666666666,
                            "#ed7953"
                          ],
                          [
                            0.7777777777777778,
                            "#fb9f3a"
                          ],
                          [
                            0.8888888888888888,
                            "#fdca26"
                          ],
                          [
                            1,
                            "#f0f921"
                          ]
                        ],
                        "type": "histogram2d"
                      }
                    ],
                    "histogram2dcontour": [
                      {
                        "colorbar": {
                          "outlinewidth": 0,
                          "ticks": ""
                        },
                        "colorscale": [
                          [
                            0,
                            "#0d0887"
                          ],
                          [
                            0.1111111111111111,
                            "#46039f"
                          ],
                          [
                            0.2222222222222222,
                            "#7201a8"
                          ],
                          [
                            0.3333333333333333,
                            "#9c179e"
                          ],
                          [
                            0.4444444444444444,
                            "#bd3786"
                          ],
                          [
                            0.5555555555555556,
                            "#d8576b"
                          ],
                          [
                            0.6666666666666666,
                            "#ed7953"
                          ],
                          [
                            0.7777777777777778,
                            "#fb9f3a"
                          ],
                          [
                            0.8888888888888888,
                            "#fdca26"
                          ],
                          [
                            1,
                            "#f0f921"
                          ]
                        ],
                        "type": "histogram2dcontour"
                      }
                    ],
                    "mesh3d": [
                      {
                        "colorbar": {
                          "outlinewidth": 0,
                          "ticks": ""
                        },
                        "type": "mesh3d"
                      }
                    ],
                    "parcoords": [
                      {
                        "line": {
                          "colorbar": {
                            "outlinewidth": 0,
                            "ticks": ""
                          }
                        },
                        "type": "parcoords"
                      }
                    ],
                    "pie": [
                      {
                        "automargin": true,
                        "type": "pie"
                      }
                    ],
                    "scatter": [
                      {
                        "fillpattern": {
                          "fillmode": "overlay",
                          "size": 10,
                          "solidity": 0.2
                        },
                        "type": "scatter"
                      }
                    ],
                    "scatter3d": [
                      {
                        "line": {
                          "colorbar": {
                            "outlinewidth": 0,
                            "ticks": ""
                          }
                        },
                        "marker": {
                          "colorbar": {
                            "outlinewidth": 0,
                            "ticks": ""
                          }
                        },
                        "type": "scatter3d"
                      }
                    ],
                    "scattercarpet": [
                      {
                        "marker": {
                          "colorbar": {
                            "outlinewidth": 0,
                            "ticks": ""
                          }
                        },
                        "type": "scattercarpet"
                      }
                    ],
                    "scattergeo": [
                      {
                        "marker": {
                          "colorbar": {
                            "outlinewidth": 0,
                            "ticks": ""
                          }
                        },
                        "type": "scattergeo"
                      }
                    ],
                    "scattergl": [
                      {
                        "marker": {
                          "colorbar": {
                            "outlinewidth": 0,
                            "ticks": ""
                          }
                        },
                        "type": "scattergl"
                      }
                    ],
                    "scattermap": [
                      {
                        "marker": {
                          "colorbar": {
                            "outlinewidth": 0,
                            "ticks": ""
                          }
                        },
                        "type": "scattermap"
                      }
                    ],
                    "scattermapbox": [
                      {
                        "marker": {
                          "colorbar": {
                            "outlinewidth": 0,
                            "ticks": ""
                          }
                        },
                        "type": "scattermapbox"
                      }
                    ],
                    "scatterpolar": [
                      {
                        "marker": {
                          "colorbar": {
                            "outlinewidth": 0,
                            "ticks": ""
                          }
                        },
                        "type": "scatterpolar"
                      }
                    ],
                    "scatterpolargl": [
                      {
                        "marker": {
                          "colorbar": {
                            "outlinewidth": 0,
                            "ticks": ""
                          }
                        },
                        "type": "scatterpolargl"
                      }
                    ],
                    "scatterternary": [
                      {
                        "marker": {
                          "colorbar": {
                            "outlinewidth": 0,
                            "ticks": ""
                          }
                        },
                        "type": "scatterternary"
                      }
                    ],
                    "surface": [
                      {
                        "colorbar": {
                          "outlinewidth": 0,
                          "ticks": ""
                        },
                        "colorscale": [
                          [
                            0,
                            "#0d0887"
                          ],
                          [
                            0.1111111111111111,
                            "#46039f"
                          ],
                          [
                            0.2222222222222222,
                            "#7201a8"
                          ],
                          [
                            0.3333333333333333,
                            "#9c179e"
                          ],
                          [
                            0.4444444444444444,
                            "#bd3786"
                          ],
                          [
                            0.5555555555555556,
                            "#d8576b"
                          ],
                          [
                            0.6666666666666666,
                            "#ed7953"
                          ],
                          [
                            0.7777777777777778,
                            "#fb9f3a"
                          ],
                          [
                            0.8888888888888888,
                            "#fdca26"
                          ],
                          [
                            1,
                            "#f0f921"
                          ]
                        ],
                        "type": "surface"
                      }
                    ],
                    "table": [
                      {
                        "cells": {
                          "fill": {
                            "color": "#EBF0F8"
                          },
                          "line": {
                            "color": "white"
                          }
                        },
                        "header": {
                          "fill": {
                            "color": "#C8D4E3"
                          },
                          "line": {
                            "color": "white"
                          }
                        },
                        "type": "table"
                      }
                    ]
                  },
                  "layout": {
                    "annotationdefaults": {
                      "arrowcolor": "#2a3f5f",
                      "arrowhead": 0,
                      "arrowwidth": 1
                    },
                    "autotypenumbers": "strict",
                    "coloraxis": {
                      "colorbar": {
                        "outlinewidth": 0,
                        "ticks": ""
                      }
                    },
                    "colorscale": {
                      "diverging": [
                        [
                          0,
                          "#8e0152"
                        ],
                        [
                          0.1,
                          "#c51b7d"
                        ],
                        [
                          0.2,
                          "#de77ae"
                        ],
                        [
                          0.3,
                          "#f1b6da"
                        ],
                        [
                          0.4,
                          "#fde0ef"
                        ],
                        [
                          0.5,
                          "#f7f7f7"
                        ],
                        [
                          0.6,
                          "#e6f5d0"
                        ],
                        [
                          0.7,
                          "#b8e186"
                        ],
                        [
                          0.8,
                          "#7fbc41"
                        ],
                        [
                          0.9,
                          "#4d9221"
                        ],
                        [
                          1,
                          "#276419"
                        ]
                      ],
                      "sequential": [
                        [
                          0,
                          "#0d0887"
                        ],
                        [
                          0.1111111111111111,
                          "#46039f"
                        ],
                        [
                          0.2222222222222222,
                          "#7201a8"
                        ],
                        [
                          0.3333333333333333,
                          "#9c179e"
                        ],
                        [
                          0.4444444444444444,
                          "#bd3786"
                        ],
                        [
                          0.5555555555555556,
                          "#d8576b"
                        ],
                        [
                          0.6666666666666666,
                          "#ed7953"
                        ],
                        [
                          0.7777777777777778,
                          "#fb9f3a"
                        ],
                        [
                          0.8888888888888888,
                          "#fdca26"
                        ],
                        [
                          1,
                          "#f0f921"
                        ]
                      ],
                      "sequentialminus": [
                        [
                          0,
                          "#0d0887"
                        ],
                        [
                          0.1111111111111111,
                          "#46039f"
                        ],
                        [
                          0.2222222222222222,
                          "#7201a8"
                        ],
                        [
                          0.3333333333333333,
                          "#9c179e"
                        ],
                        [
                          0.4444444444444444,
                          "#bd3786"
                        ],
                        [
                          0.5555555555555556,
                          "#d8576b"
                        ],
                        [
                          0.6666666666666666,
                          "#ed7953"
                        ],
                        [
                          0.7777777777777778,
                          "#fb9f3a"
                        ],
                        [
                          0.8888888888888888,
                          "#fdca26"
                        ],
                        [
                          1,
                          "#f0f921"
                        ]
                      ]
                    },
                    "colorway": [
                      "#636efa",
                      "#EF553B",
                      "#00cc96",
                      "#ab63fa",
                      "#FFA15A",
                      "#19d3f3",
                      "#FF6692",
                      "#B6E880",
                      "#FF97FF",
                      "#FECB52"
                    ],
                    "font": {
                      "color": "#2a3f5f"
                    },
                    "geo": {
                      "bgcolor": "white",
                      "lakecolor": "white",
                      "landcolor": "#E5ECF6",
                      "showlakes": true,
                      "showland": true,
                      "subunitcolor": "white"
                    },
                    "hoverlabel": {
                      "align": "left"
                    },
                    "hovermode": "closest",
                    "mapbox": {
                      "style": "light"
                    },
                    "paper_bgcolor": "white",
                    "plot_bgcolor": "#E5ECF6",
                    "polar": {
                      "angularaxis": {
                        "gridcolor": "white",
                        "linecolor": "white",
                        "ticks": ""
                      },
                      "bgcolor": "#E5ECF6",
                      "radialaxis": {
                        "gridcolor": "white",
                        "linecolor": "white",
                        "ticks": ""
                      }
                    },
                    "scene": {
                      "xaxis": {
                        "backgroundcolor": "#E5ECF6",
                        "gridcolor": "white",
                        "gridwidth": 2,
                        "linecolor": "white",
                        "showbackground": true,
                        "ticks": "",
                        "zerolinecolor": "white"
                      },
                      "yaxis": {
                        "backgroundcolor": "#E5ECF6",
                        "gridcolor": "white",
                        "gridwidth": 2,
                        "linecolor": "white",
                        "showbackground": true,
                        "ticks": "",
                        "zerolinecolor": "white"
                      },
                      "zaxis": {
                        "backgroundcolor": "#E5ECF6",
                        "gridcolor": "white",
                        "gridwidth": 2,
                        "linecolor": "white",
                        "showbackground": true,
                        "ticks": "",
                        "zerolinecolor": "white"
                      }
                    },
                    "shapedefaults": {
                      "line": {
                        "color": "#2a3f5f"
                      }
                    },
                    "ternary": {
                      "aaxis": {
                        "gridcolor": "white",
                        "linecolor": "white",
                        "ticks": ""
                      },
                      "baxis": {
                        "gridcolor": "white",
                        "linecolor": "white",
                        "ticks": ""
                      },
                      "bgcolor": "#E5ECF6",
                      "caxis": {
                        "gridcolor": "white",
                        "linecolor": "white",
                        "ticks": ""
                      }
                    },
                    "title": {
                      "x": 0.05
                    },
                    "xaxis": {
                      "automargin": true,
                      "gridcolor": "white",
                      "linecolor": "white",
                      "ticks": "",
                      "title": {
                        "standoff": 15
                      },
                      "zerolinecolor": "white",
                      "zerolinewidth": 2
                    },
                    "yaxis": {
                      "automargin": true,
                      "gridcolor": "white",
                      "linecolor": "white",
                      "ticks": "",
                      "title": {
                        "standoff": 15
                      },
                      "zerolinecolor": "white",
                      "zerolinewidth": 2
                    }
                  }
                },
                "title": {
                  "text": "Unique Driver Count by MBTI Personality Type"
                },
                "width": 800,
                "xaxis": {
                  "anchor": "y",
                  "domain": [
                    0,
                    1
                  ],
                  "title": {
                    "text": "Number of Drivers"
                  }
                },
                "yaxis": {
                  "anchor": "x",
                  "domain": [
                    0,
                    1
                  ],
                  "title": {
                    "text": "MBTI Personality Type"
                  }
                }
              }
            }
          },
          "metadata": {},
          "output_type": "display_data"
        },
        {
          "name": "stdout",
          "output_type": "stream",
          "text": [
            "Driver distribution by personality type:\n",
            "ISTP: 9 drivers\n",
            "ISFP: 4 drivers\n",
            "INFP: 4 drivers\n",
            "ENFP: 3 drivers\n",
            "ISFJ: 3 drivers\n",
            "ESFP: 3 drivers\n",
            "INFJ: 2 drivers\n",
            "ENTJ: 2 drivers\n",
            "ENFJ: 2 drivers\n",
            "INTJ: 1 drivers\n",
            "ENTP: 1 drivers\n",
            "ESFJ: 1 drivers\n",
            "ESTJ: 1 drivers\n",
            "ESTP: 1 drivers\n",
            "\n",
            "Total drivers with typology data: 43\n"
          ]
        }
      ],
      "source": [
        "# Driver count by typology from extra_df\n",
        "typology_counts = extra_df['typology'].value_counts().sort_values(ascending=True)\n",
        "\n",
        "fig = px.bar(\n",
        "    x=typology_counts.values,\n",
        "    y=typology_counts.index,\n",
        "    orientation='h',\n",
        "    title='Unique Driver Count by MBTI Personality Type',\n",
        "    labels={'x': 'Number of Drivers', 'y': 'MBTI Type'},\n",
        "    text=typology_counts.values\n",
        ")\n",
        "\n",
        "fig.update_layout(\n",
        "    width=800,\n",
        "    height=600,\n",
        "    xaxis_title=\"Number of Drivers\",\n",
        "    yaxis_title=\"MBTI Personality Type\"\n",
        ")\n",
        "\n",
        "fig.update_traces(textposition='outside')\n",
        "fig.show()\n",
        "\n",
        "print(\"Driver distribution by personality type:\")\n",
        "for mbti_type, count in typology_counts.sort_values(ascending=False).items():\n",
        "    print(f\"{mbti_type}: {count} drivers\")\n",
        "    \n",
        "print(f\"\\nTotal drivers with typology data: {len(extra_df)}\")"
      ]
    },
    {
      "cell_type": "code",
      "execution_count": 10,
      "metadata": {},
      "outputs": [
        {
          "data": {
            "text/html": [
              "<div>\n",
              "<style scoped>\n",
              "    .dataframe tbody tr th:only-of-type {\n",
              "        vertical-align: middle;\n",
              "    }\n",
              "\n",
              "    .dataframe tbody tr th {\n",
              "        vertical-align: top;\n",
              "    }\n",
              "\n",
              "    .dataframe thead th {\n",
              "        text-align: right;\n",
              "    }\n",
              "</style>\n",
              "<table border=\"1\" class=\"dataframe\">\n",
              "  <thead>\n",
              "    <tr style=\"text-align: right;\">\n",
              "      <th></th>\n",
              "      <th>Category</th>\n",
              "      <th>Column</th>\n",
              "      <th>Source</th>\n",
              "      <th>Type</th>\n",
              "      <th>Description</th>\n",
              "      <th>Data_Type</th>\n",
              "      <th>Missing_Count</th>\n",
              "      <th>Missing_Percentage</th>\n",
              "      <th>Completeness_Percentage</th>\n",
              "    </tr>\n",
              "  </thead>\n",
              "  <tbody>\n",
              "    <tr>\n",
              "      <th>0</th>\n",
              "      <td>ERGAST API - BASIC RACE DATA</td>\n",
              "      <td>year</td>\n",
              "      <td>Ergast API</td>\n",
              "      <td>Raw API Data</td>\n",
              "      <td>Basic F1 race information, results, driver/tea...</td>\n",
              "      <td>int64</td>\n",
              "      <td>0</td>\n",
              "      <td>0.0</td>\n",
              "      <td>100.0</td>\n",
              "    </tr>\n",
              "    <tr>\n",
              "      <th>1</th>\n",
              "      <td>ERGAST API - BASIC RACE DATA</td>\n",
              "      <td>round</td>\n",
              "      <td>Ergast API</td>\n",
              "      <td>Raw API Data</td>\n",
              "      <td>Basic F1 race information, results, driver/tea...</td>\n",
              "      <td>int64</td>\n",
              "      <td>0</td>\n",
              "      <td>0.0</td>\n",
              "      <td>100.0</td>\n",
              "    </tr>\n",
              "    <tr>\n",
              "      <th>2</th>\n",
              "      <td>ERGAST API - BASIC RACE DATA</td>\n",
              "      <td>date</td>\n",
              "      <td>Ergast API</td>\n",
              "      <td>Raw API Data</td>\n",
              "      <td>Basic F1 race information, results, driver/tea...</td>\n",
              "      <td>object</td>\n",
              "      <td>0</td>\n",
              "      <td>0.0</td>\n",
              "      <td>100.0</td>\n",
              "    </tr>\n",
              "    <tr>\n",
              "      <th>3</th>\n",
              "      <td>ERGAST API - BASIC RACE DATA</td>\n",
              "      <td>circuit_id</td>\n",
              "      <td>Ergast API</td>\n",
              "      <td>Raw API Data</td>\n",
              "      <td>Basic F1 race information, results, driver/tea...</td>\n",
              "      <td>object</td>\n",
              "      <td>0</td>\n",
              "      <td>0.0</td>\n",
              "      <td>100.0</td>\n",
              "    </tr>\n",
              "    <tr>\n",
              "      <th>4</th>\n",
              "      <td>ERGAST API - BASIC RACE DATA</td>\n",
              "      <td>circuit_name</td>\n",
              "      <td>Ergast API</td>\n",
              "      <td>Raw API Data</td>\n",
              "      <td>Basic F1 race information, results, driver/tea...</td>\n",
              "      <td>object</td>\n",
              "      <td>0</td>\n",
              "      <td>0.0</td>\n",
              "      <td>100.0</td>\n",
              "    </tr>\n",
              "  </tbody>\n",
              "</table>\n",
              "</div>"
            ],
            "text/plain": [
              "                       Category        Column      Source          Type  \\\n",
              "0  ERGAST API - BASIC RACE DATA          year  Ergast API  Raw API Data   \n",
              "1  ERGAST API - BASIC RACE DATA         round  Ergast API  Raw API Data   \n",
              "2  ERGAST API - BASIC RACE DATA          date  Ergast API  Raw API Data   \n",
              "3  ERGAST API - BASIC RACE DATA    circuit_id  Ergast API  Raw API Data   \n",
              "4  ERGAST API - BASIC RACE DATA  circuit_name  Ergast API  Raw API Data   \n",
              "\n",
              "                                         Description Data_Type  Missing_Count  \\\n",
              "0  Basic F1 race information, results, driver/tea...     int64              0   \n",
              "1  Basic F1 race information, results, driver/tea...     int64              0   \n",
              "2  Basic F1 race information, results, driver/tea...    object              0   \n",
              "3  Basic F1 race information, results, driver/tea...    object              0   \n",
              "4  Basic F1 race information, results, driver/tea...    object              0   \n",
              "\n",
              "   Missing_Percentage  Completeness_Percentage  \n",
              "0                 0.0                    100.0  \n",
              "1                 0.0                    100.0  \n",
              "2                 0.0                    100.0  \n",
              "3                 0.0                    100.0  \n",
              "4                 0.0                    100.0  "
            ]
          },
          "execution_count": 10,
          "metadata": {},
          "output_type": "execute_result"
        }
      ],
      "source": [
        "column_analysis = {\n",
        "    'ERGAST API - BASIC RACE DATA': {\n",
        "        'columns': [\n",
        "            'year', 'round', 'race_name', 'date', 'circuit_id', 'circuit_name', 'country',\n",
        "            'driver_id', 'driver_first_name', 'driver_last_name', 'driver_nationality',\n",
        "            'constructor_id', 'constructor_name', 'constructor_nationality',\n",
        "            'grid_position', 'position', 'target_position'\n",
        "        ],\n",
        "        'source': 'Ergast API',\n",
        "        'type': 'Raw API Data',\n",
        "        'description': 'Basic F1 race information, results, driver/team details'\n",
        "    },\n",
        "    \n",
        "    'ERGAST FEATURE ENGINEERED': {\n",
        "        'columns': [\n",
        "            'group_key', 'rank', 'race_size', 'position_percentile',\n",
        "            'driver_career_wins', 'driver_career_podiums', 'driver_career_total_points',\n",
        "            'driver_career_avg_points', 'driver_career_avg_position', 'driver_career_race_count',\n",
        "            'driver_win_rate', 'driver_podium_rate', 'driver_points_rate',\n",
        "            'constructor_career_wins', 'constructor_career_podiums', 'constructor_career_total_points',\n",
        "            'constructor_career_avg_points', 'constructor_career_avg_position', 'constructor_career_race_count',\n",
        "            'constructor_win_rate', 'constructor_podium_rate', 'constructor_points_rate',\n",
        "            'driver_track_avg_points', 'driver_track_avg_position', 'driver_track_race_count',\n",
        "            'constructor_track_avg_points', 'constructor_track_avg_position', 'constructor_track_race_count'\n",
        "        ],\n",
        "        'source': 'Ergast API (Processed)',\n",
        "        'type': 'Feature Engineered',\n",
        "        'description': 'Career statistics, track-specific performance, ratios'\n",
        "    },\n",
        "    \n",
        "    'FASTF1 API - TELEMETRY DATA': {\n",
        "        'columns': [\n",
        "            'driver_abbreviation', 'driver_number', 'fastest_lap_time', 'avg_lap_time', 'lap_time_std', 'total_laps',\n",
        "            'avg_sector1_time', 'avg_sector2_time', 'avg_sector3_time', 'max_speed', 'avg_speed', 'speed_variance',\n",
        "            'main_compound', 'compound_changes', 'pit_stops', 'is_soft_primary', 'is_hard_primary', 'is_medium_primary',\n",
        "            'is_intermediate', 'is_wet', 'air_temp', 'track_temp', 'humidity', 'wind_speed'\n",
        "        ],\n",
        "        'source': 'FastF1 API',\n",
        "        'type': 'Raw API Data',\n",
        "        'description': 'Telemetry data, tire strategy, weather conditions'\n",
        "    },\n",
        "    \n",
        "    'FASTF1 FEATURE ENGINEERED': {\n",
        "        'columns': [\n",
        "            'compound_changes_normalized', 'pit_stops_normalized', 'low_pit_strategy', 'aggressive_pit_strategy',\n",
        "            'speed_consistency', 'speed_efficiency', 'total_sector_time', 'sector1_dominance', 'sector2_dominance',\n",
        "            'sector3_dominance', 'lap_time_efficiency', 'lap_time_consistency_score', 'temp_differential',\n",
        "            'is_hot_conditions', 'is_cold_conditions', 'is_high_track_temp', 'is_high_humidity', 'is_low_humidity',\n",
        "            'is_windy_conditions', 'era_adjusted_speed', 'era_adjusted_laps', 'avg_lap_time_vs_race_avg',\n",
        "            'avg_lap_time_vs_race_best', 'avg_lap_time_rank_in_race', 'max_speed_vs_race_avg', 'max_speed_vs_race_best',\n",
        "            'max_speed_rank_in_race', 'avg_speed_vs_race_avg', 'avg_speed_vs_race_best', 'avg_speed_rank_in_race',\n",
        "            'grid_to_finish_change', 'position_gained', 'position_lost', 'has_fastf1_data'\n",
        "        ],\n",
        "        'source': 'FastF1 API (Processed)',\n",
        "        'type': 'Feature Engineered',\n",
        "        'description': 'Normalizations, comparisons, boolean flags'\n",
        "    },\n",
        "    \n",
        "    'ERA AND REGULATION FLAGS': {\n",
        "        'columns': [\n",
        "            'is_2017_plus_era', 'is_2018_2021_era', 'is_2022_plus_era', 'is_2022_plus_era_fastf1',\n",
        "            'is_covid_season_2020', 'is_covid_season_2020_fastf1', 'has_sprint_format', 'has_sprint_format_fastf1'\n",
        "        ],\n",
        "        'source': 'Multiple Sources',\n",
        "        'type': 'Feature Engineered',\n",
        "        'description': 'Regulation periods, special formats'\n",
        "    }\n",
        "}\n",
        "\n",
        "# Appendix DataFrame oluştur\n",
        "appendix_data = []\n",
        "\n",
        "for category, info in column_analysis.items():\n",
        "    found_columns = [col for col in info['columns'] if col in merged.columns]\n",
        "    \n",
        "    for col in found_columns:\n",
        "        \n",
        "        missing_count = merged[col].isnull().sum()\n",
        "        missing_percentage = (missing_count / len(merged)) * 100\n",
        "        data_type = str(merged[col].dtype)\n",
        "        \n",
        "        appendix_data.append({\n",
        "            'Category': category,\n",
        "            'Column': col,\n",
        "            'Source': info['source'],\n",
        "            'Type': info['type'],\n",
        "            'Description': info['description'],\n",
        "            'Data_Type': data_type,\n",
        "            'Missing_Count': missing_count,\n",
        "            'Missing_Percentage': round(missing_percentage, 1),\n",
        "            'Completeness_Percentage': round(100 - missing_percentage, 1)\n",
        "        })\n",
        "\n",
        "appendix_df = pd.DataFrame(appendix_data)\n",
        "appendix_df.head()"
      ]
    },
    {
      "cell_type": "code",
      "execution_count": 11,
      "metadata": {},
      "outputs": [
        {
          "data": {
            "text/plain": [
              "Category                      Source                \n",
              "ERA AND REGULATION FLAGS      Multiple Sources           0.0\n",
              "ERGAST API - BASIC RACE DATA  Ergast API                 0.0\n",
              "ERGAST FEATURE ENGINEERED     Ergast API (Processed)     0.0\n",
              "FASTF1 API - TELEMETRY DATA   FastF1 API                28.7\n",
              "FASTF1 FEATURE ENGINEERED     FastF1 API (Processed)    30.3\n",
              "Name: Missing_Percentage, dtype: float64"
            ]
          },
          "execution_count": 11,
          "metadata": {},
          "output_type": "execute_result"
        }
      ],
      "source": [
        "appendix_df.groupby([\"Category\", \"Source\"])[\"Missing_Percentage\"].median()"
      ]
    },
    {
      "cell_type": "markdown",
      "metadata": {},
      "source": [
        "## **FASTF1 TELEMETRY DATA - Missing Values Analysis**\n",
        "\n",
        "### **Category Overview:**\n",
        "- **Total columns:** 24\n",
        "- **Data source:** FastF1 API (Raw telemetry data)\n",
        "\n",
        "### **Detailed Analysis:**\n",
        "\n",
        "| Column Group | Column | Missing % | Status |\n",
        "|--------------|--------|-----------|--------|\n",
        "| **Driver Info** | `driver_abbreviation` | 28.7% | 🟡 Moderate |\n",
        "| | `driver_number` | 28.7% | 🟡 Moderate |\n",
        "| **Lap & Speed Data** | `fastest_lap_time` | 30.3% | 🟠 High |\n",
        "| | `avg_lap_time` | 30.3% | 🟠 High |\n",
        "| | `lap_time_std` | 31.4% | 🟠 High |\n",
        "| | `total_laps` | 28.7% | 🟡 Moderate |\n",
        "| | `max_speed` | 30.3% | 🟠 High |\n",
        "| | `avg_speed` | 30.3% | 🟠 High |\n",
        "| | `speed_variance` | 30.8% | 🟠 High |\n",
        "| **Sector Times** | `avg_sector1_time` | 30.8% | 🟠 High |\n",
        "| | `avg_sector2_time` | 30.3% | 🟠 High |\n",
        "| | `avg_sector3_time` | 30.3% | 🟠 High |\n",
        "| **Tire Strategy** | `main_compound` | 28.8% | 🟡 Moderate |\n",
        "| | `compound_changes` | 28.7% | 🟡 Moderate |\n",
        "| | `pit_stops` | 28.7% | 🟡 Moderate |\n",
        "| | `is_soft_primary` | 28.7% | 🟡 Moderate |\n",
        "| | `is_hard_primary` | 28.7% | 🟡 Moderate |\n",
        "| | `is_medium_primary` | 28.7% | 🟡 Moderate |\n",
        "| | `is_intermediate` | 28.7% | 🟡 Moderate |\n",
        "| | `is_wet` | 28.7% | 🟡 Moderate |\n",
        "\n",
        "### **Missing Value Distribution:**\n",
        "- **Moderate (10-30%):** 11 columns  \n",
        "- **High (30-50%):** 9 columns  "
      ]
    },
    {
      "cell_type": "code",
      "execution_count": 12,
      "metadata": {},
      "outputs": [],
      "source": [
        "numeric_cols = merged.select_dtypes(include=[np.number]).columns.tolist()\n",
        "\n",
        "# Correlation matrix\n",
        "corr_matrix = merged[numeric_cols].corr()"
      ]
    },
    {
      "cell_type": "code",
      "execution_count": 13,
      "metadata": {},
      "outputs": [
        {
          "name": "stdout",
          "output_type": "stream",
          "text": [
            "High correlation(|r| > 0.8):\n",
            "                       Feature1                        Feature2  Correlation\n",
            "                           rank             position_percentile        1.000\n",
            "              has_sprint_format        has_sprint_format_fastf1        1.000\n",
            "        constructor_career_wins            constructor_win_rate        1.000\n",
            "                       position                 target_position        1.000\n",
            "                       position             position_percentile        1.000\n",
            "                       position                            rank        1.000\n",
            "           is_covid_season_2020     is_covid_season_2020_fastf1        1.000\n",
            "                target_position                            rank        1.000\n",
            "               is_2022_plus_era         is_2022_plus_era_fastf1        1.000\n",
            "                target_position             position_percentile        1.000\n",
            "                      max_speed              era_adjusted_speed        0.999\n",
            "     constructor_career_podiums         constructor_podium_rate        0.999\n",
            "constructor_career_total_points      constructor_career_podiums        0.997\n",
            "constructor_career_total_points         constructor_podium_rate        0.996\n",
            "  constructor_career_avg_points         constructor_podium_rate        0.993\n",
            "                     total_laps               era_adjusted_laps        0.993\n",
            "constructor_career_total_points   constructor_career_avg_points        0.991\n",
            "             driver_career_wins                 driver_win_rate        0.989\n",
            "constructor_career_avg_position         constructor_points_rate       -0.989\n",
            "  constructor_career_avg_points      constructor_career_podiums        0.989\n",
            "     driver_career_total_points           driver_career_podiums        0.983\n",
            "  constructor_career_avg_points constructor_career_avg_position       -0.983\n",
            "       driver_career_avg_points              driver_podium_rate        0.981\n",
            "     driver_career_avg_position              driver_points_rate       -0.980\n",
            "                      max_speed                       avg_speed        0.975\n",
            "          driver_career_podiums              driver_podium_rate        0.974\n",
            "                      avg_speed              era_adjusted_speed        0.972\n",
            "               fastest_lap_time                    avg_lap_time        0.971\n",
            "     driver_career_total_points        driver_career_avg_points        0.968\n",
            "                   avg_lap_time               total_sector_time        0.967\n",
            "       driver_career_avg_points      driver_career_avg_position       -0.960\n",
            "constructor_career_total_points constructor_career_avg_position       -0.959\n",
            "constructor_career_avg_position         constructor_podium_rate       -0.958\n",
            "       driver_career_avg_points           driver_career_podiums        0.957\n",
            "  constructor_career_avg_points         constructor_points_rate        0.954\n",
            "               fastest_lap_time               total_sector_time        0.954\n",
            "     driver_career_total_points              driver_podium_rate        0.951\n",
            "constructor_career_avg_position      constructor_career_podiums       -0.951\n",
            "         max_speed_vs_race_best          avg_speed_vs_race_best        0.944\n",
            "           constructor_win_rate         constructor_podium_rate        0.943\n",
            "        constructor_career_wins         constructor_podium_rate        0.943\n",
            "        constructor_career_wins      constructor_career_podiums        0.943\n",
            "     constructor_career_podiums            constructor_win_rate        0.942\n",
            "  constructor_career_avg_points    constructor_track_avg_points        0.941\n",
            " constructor_track_avg_position    constructor_track_avg_points       -0.936\n",
            "        constructor_podium_rate    constructor_track_avg_points        0.934\n",
            "constructor_career_total_points    constructor_track_avg_points        0.933\n",
            "constructor_career_total_points         constructor_career_wins        0.931\n",
            "     constructor_career_podiums    constructor_track_avg_points        0.931\n",
            "constructor_career_total_points            constructor_win_rate        0.930\n",
            "          driver_career_podiums                 driver_win_rate        0.929\n",
            "             driver_career_wins           driver_career_podiums        0.929\n",
            "       avg_lap_time_vs_race_avg       avg_lap_time_vs_race_best        0.927\n",
            "  constructor_career_avg_points            constructor_win_rate        0.927\n",
            "  constructor_career_avg_points         constructor_career_wins        0.926\n",
            "constructor_career_avg_position    constructor_track_avg_points       -0.926\n",
            "constructor_career_total_points         constructor_points_rate        0.918\n",
            "        constructor_podium_rate         constructor_points_rate        0.914\n",
            "     driver_career_total_points      driver_career_avg_position       -0.911\n",
            "                driver_win_rate              driver_podium_rate        0.910\n",
            "       driver_career_avg_points              driver_points_rate        0.909\n",
            "     driver_career_avg_position              driver_podium_rate       -0.904\n",
            "     constructor_career_podiums         constructor_points_rate        0.904\n",
            "        constructor_points_rate    constructor_track_avg_points        0.899\n",
            "constructor_career_avg_position  constructor_track_avg_position        0.898\n",
            "     driver_career_total_points              driver_career_wins        0.898\n",
            "     driver_career_total_points                 driver_win_rate        0.894\n",
            "      driver_track_avg_position         driver_track_avg_points       -0.889\n",
            "        constructor_points_rate  constructor_track_avg_position       -0.888\n",
            "  constructor_career_avg_points  constructor_track_avg_position       -0.882\n",
            "       driver_career_avg_points                 driver_win_rate        0.880\n",
            "             driver_career_wins              driver_podium_rate        0.879\n",
            "          grid_to_finish_change                   position_lost       -0.878\n",
            "       driver_career_avg_points         driver_track_avg_points        0.872\n",
            "           constructor_win_rate    constructor_track_avg_points        0.872\n",
            "                           year         is_2022_plus_era_fastf1        0.871\n",
            "        constructor_career_wins    constructor_track_avg_points        0.871\n",
            "                           year                is_2022_plus_era        0.870\n",
            "constructor_career_avg_position            constructor_win_rate       -0.868\n",
            "     driver_career_avg_position           driver_career_podiums       -0.866\n",
            "constructor_career_avg_position         constructor_career_wins       -0.866\n",
            "constructor_career_total_points  constructor_track_avg_position       -0.860\n",
            "     driver_career_total_points              driver_points_rate        0.860\n",
            "        constructor_podium_rate  constructor_track_avg_position       -0.859\n",
            "                           year        has_sprint_format_fastf1        0.856\n",
            "             driver_podium_rate         driver_track_avg_points        0.855\n",
            "                      avg_speed                speed_efficiency        0.855\n",
            "     constructor_career_podiums  constructor_track_avg_position       -0.852\n",
            "       driver_career_avg_points              driver_career_wins        0.850\n",
            "                     track_temp               temp_differential        0.848\n",
            "                           year               has_sprint_format        0.847\n",
            "     driver_career_total_points         driver_track_avg_points        0.846\n",
            "     driver_career_avg_position         driver_track_avg_points       -0.837\n",
            "          driver_career_podiums         driver_track_avg_points        0.835\n",
            "             driver_podium_rate              driver_points_rate        0.827\n",
            "               speed_efficiency              era_adjusted_speed        0.827\n",
            "                      max_speed                speed_efficiency        0.827\n",
            "          max_speed_vs_race_avg           avg_speed_vs_race_avg        0.816\n",
            "           constructor_win_rate         constructor_points_rate        0.812\n",
            "        constructor_career_wins         constructor_points_rate        0.809\n"
          ]
        }
      ],
      "source": [
        "high_corr_pairs = []\n",
        "\n",
        "for i in range(len(corr_matrix.columns)):\n",
        "    for j in range(i+1, len(corr_matrix.columns)):\n",
        "        corr_val = corr_matrix.iloc[i, j]\n",
        "        if abs(corr_val) > 0.8:\n",
        "            high_corr_pairs.append({\n",
        "                'Feature1': corr_matrix.columns[i],\n",
        "                'Feature2': corr_matrix.columns[j],\n",
        "                'Correlation': round(corr_val, 3)\n",
        "            })\n",
        "\n",
        "high_corr_df = pd.DataFrame(high_corr_pairs)\n",
        "if not high_corr_df.empty:\n",
        "    high_corr_df = high_corr_df.sort_values('Correlation', key=abs, ascending=False)\n",
        "    print(f\"High correlation(|r| > 0.8):\")\n",
        "    print(high_corr_df.to_string(index=False))\n"
      ]
    },
    {
      "cell_type": "code",
      "execution_count": 14,
      "metadata": {},
      "outputs": [
        {
          "name": "stdout",
          "output_type": "stream",
          "text": [
            "Features to drop: 19\n",
            "Remaining features: 76\n",
            "\n",
            "Dataset shape after dropping correlated features: (3318, 96)\n"
          ]
        }
      ],
      "source": [
        "# Features to drop based on correlation analysis\n",
        "features_to_drop = [\n",
        "    # Perfect duplicates (r=1.0) - keep one from each pair\n",
        "    'position_percentile',  # keep rank instead\n",
        "    'has_sprint_format_fastf1',  # keep has_sprint_format\n",
        "    'constructor_win_rate',  # keep constructor_career_wins\n",
        "    'target_position',  # keep position \n",
        "    'is_covid_season_2020_fastf1',  # keep is_covid_season_2020\n",
        "    'is_2022_plus_era_fastf1',  # keep is_2022_plus_era\n",
        "    \n",
        "    # Speed redundancy (r>0.97)\n",
        "    'era_adjusted_speed',  # keep max_speed and avg_speed\n",
        "    'era_adjusted_laps',   # keep total_laps\n",
        "    \n",
        "    # Career stats redundancy - keep raw counts, drop rates\n",
        "    'constructor_podium_rate',  # keep constructor_career_podiums\n",
        "    'driver_win_rate',  # keep driver_career_wins\n",
        "    'driver_podium_rate',  # keep driver_career_podiums\n",
        "    'constructor_points_rate',  # keep constructor_career_total_points\n",
        "    'driver_points_rate',  # keep driver_career_total_points\n",
        "    \n",
        "    # Lap time redundancy\n",
        "    'total_sector_time',  # keep avg_lap_time and fastest_lap_time\n",
        "    \n",
        "    # Track performance redundancy \n",
        "    'constructor_track_avg_points',  # highly correlated with career stats\n",
        "    'driver_track_avg_points',  # highly correlated with career stats\n",
        "    \n",
        "    # Race comparison redundancy\n",
        "    'avg_speed_vs_race_best',  # keep avg_speed_vs_race_avg\n",
        "    'max_speed_vs_race_best',  # keep max_speed_vs_race_avg\n",
        "    'avg_lap_time_vs_race_best',  # keep avg_lap_time_vs_race_avg\n",
        "]\n",
        "\n",
        "print(f\"Features to drop: {len(features_to_drop)}\")\n",
        "print(f\"Remaining features: {len(numeric_cols) - len(features_to_drop)}\")\n",
        "\n",
        "# Apply the drops\n",
        "merged_clean = merged.drop(columns=features_to_drop, errors='ignore')\n",
        "print(f\"\\nDataset shape after dropping correlated features: {merged_clean.shape}\")\n"
      ]
    },
    {
      "cell_type": "code",
      "execution_count": 15,
      "metadata": {},
      "outputs": [
        {
          "name": "stdout",
          "output_type": "stream",
          "text": [
            "Final model dataset: (3318, 87)\n",
            "Grid position kept: True\n"
          ]
        }
      ],
      "source": [
        "# Remove ID columns and target leakage columns (KEEP grid_position!)\n",
        "id_columns = ['driver_id', 'circuit_id', 'constructor_id', 'group_key']\n",
        "target_leakage = ['rank', 'points', 'status', 'grid_to_finish_change', 'position_gained', 'position_lost']\n",
        "\n",
        "# Keep grid_position as feature, only remove 'position' as target  \n",
        "model_features = merged_clean.drop(columns=id_columns + target_leakage + ['position'], errors='ignore')\n",
        "print(f\"Final model dataset: {model_features.shape}\")\n",
        "print(f\"Grid position kept: {'grid_position' in model_features.columns}\")"
      ]
    },
    {
      "cell_type": "code",
      "execution_count": 16,
      "metadata": {},
      "outputs": [
        {
          "name": "stdout",
          "output_type": "stream",
          "text": [
            "Final model dataset: (3318, 80)\n"
          ]
        }
      ],
      "source": [
        "# Drop unnecessary categorical columns\n",
        "drop_categorical = ['date', 'circuit_name', 'driver_first_name', 'driver_last_name', \n",
        "                   'driver_full_name', 'constructor_name', 'why_choose_number']\n",
        "\n",
        "final_model_data = model_features.drop(columns=drop_categorical, errors='ignore')\n",
        "print(f\"Final model dataset: {final_model_data.shape}\")\n"
      ]
    },
    {
      "cell_type": "code",
      "execution_count": 28,
      "metadata": {},
      "outputs": [
        {
          "name": "stdout",
          "output_type": "stream",
          "text": [
            "final_model_data shape: (3318, 80)\n",
            "final_model_data columns: 80\n",
            "First few columns: ['year', 'round', 'country', 'driver_nationality', 'constructor_nationality']\n",
            "\n",
            "Successfully saved to: ../data/processed/xgboost/final_model_dataset.csv\n"
          ]
        }
      ],
      "source": [
        "# Save final_model_data to CSV\n",
        "output_path = '../data/processed/xgboost/final_model_dataset.csv'\n",
        "\n",
        "try:\n",
        "    print(f\"final_model_data shape: {final_model_data.shape}\")\n",
        "    print(f\"final_model_data columns: {len(final_model_data.columns)}\")\n",
        "    print(f\"First few columns: {final_model_data.columns[:5].tolist()}\")\n",
        "\n",
        "    final_model_data.to_csv(output_path, index=False)\n",
        "    print(f\"\\nSuccessfully saved to: {output_path}\")\n",
        "\n",
        "except NameError:\n",
        "    print(\"final_model_data not found - checking other datasets...\")\n",
        "    datasets = ['merged', 'merged_clean', 'model_features', 'data_clean']\n",
        "    for dataset in datasets:\n",
        "        try:\n",
        "            df = eval(dataset)\n",
        "            print(f\"\\n{dataset} shape: {df.shape}\")\n",
        "            print(f\"{dataset} columns: {len(df.columns)}\")\n",
        "            print(f\"First few columns: {df.columns[:5].tolist()}\")\n",
        "\n",
        "            # Save the best available dataset\n",
        "            output_path = f'../data/processed/xgboost/{dataset}_dataset.csv'\n",
        "            df.to_csv(output_path, index=False)\n",
        "            print(f\"Saved {dataset} to: {output_path}\")\n",
        "            break\n",
        "        except:\n",
        "            continue\n",
        "\n",
        "except Exception as e:\n",
        "    print(f\"Error: {e}\")\n"
      ]
    }
  ],
  "metadata": {
    "kernelspec": {
      "display_name": "racecast_env",
      "language": "python",
      "name": "python3"
    },
    "language_info": {
      "codemirror_mode": {
        "name": "ipython",
        "version": 3
      },
      "file_extension": ".py",
      "mimetype": "text/x-python",
      "name": "python",
      "nbconvert_exporter": "python",
      "pygments_lexer": "ipython3",
      "version": "3.9.6"
    }
  },
  "nbformat": 4,
  "nbformat_minor": 2
}
