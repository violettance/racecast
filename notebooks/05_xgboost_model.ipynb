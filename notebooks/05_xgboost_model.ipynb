{
 "cells": [
  {
   "cell_type": "markdown",
   "id": "ff328ee7",
   "metadata": {},
   "source": [
    "# XGBoost Model Development - F1 Race Prediction\n",
    "\n",
    "In this notebook, we will develop an XGBoost model for F1 race predictions.\n",
    "\n",
    "## Contents:\n",
    "1. Data loading and preprocessing\n",
    "2. Model training and validation\n",
    "3. Hyperparameter optimization\n",
    "4. Model evaluation and feature importance analysis\n",
    "5. Predictions and results analysis\n"
   ]
  },
  {
   "cell_type": "code",
   "execution_count": 1,
   "id": "3e16082e",
   "metadata": {},
   "outputs": [],
   "source": [
    "# Import necessary libraries\n",
    "import pandas as pd\n",
    "import numpy as np\n",
    "import plotly.graph_objects as go\n",
    "import plotly.express as px\n",
    "from plotly.subplots import make_subplots\n",
    "from sklearn.model_selection import train_test_split, cross_val_score, StratifiedKFold\n",
    "from sklearn.metrics import mean_squared_error, mean_absolute_error, r2_score\n",
    "from sklearn.preprocessing import StandardScaler, LabelEncoder\n",
    "import xgboost as xgb\n",
    "import optuna\n",
    "from optuna import Trial, visualization\n",
    "import warnings\n",
    "warnings.filterwarnings('ignore')\n",
    "\n",
    "# Initialize plotly for notebooks\n",
    "import plotly.io as pio\n",
    "pio.templates.default = \"plotly_white\"\n"
   ]
  },
  {
   "cell_type": "code",
   "execution_count": 2,
   "id": "bae97208",
   "metadata": {},
   "outputs": [
    {
     "name": "stdout",
     "output_type": "stream",
     "text": [
      "Loading dataset...\n",
      "Dataset shape: (3318, 52)\n",
      "Number of columns: 52\n"
     ]
    },
    {
     "data": {
      "text/html": [
       "<div>\n",
       "<style scoped>\n",
       "    .dataframe tbody tr th:only-of-type {\n",
       "        vertical-align: middle;\n",
       "    }\n",
       "\n",
       "    .dataframe tbody tr th {\n",
       "        vertical-align: top;\n",
       "    }\n",
       "\n",
       "    .dataframe thead th {\n",
       "        text-align: right;\n",
       "    }\n",
       "</style>\n",
       "<table border=\"1\" class=\"dataframe\">\n",
       "  <thead>\n",
       "    <tr style=\"text-align: right;\">\n",
       "      <th></th>\n",
       "      <th>year</th>\n",
       "      <th>round</th>\n",
       "      <th>country</th>\n",
       "      <th>driver_nationality</th>\n",
       "      <th>constructor_nationality</th>\n",
       "      <th>grid_position</th>\n",
       "      <th>is_2017_plus_era</th>\n",
       "      <th>is_2022_plus_era</th>\n",
       "      <th>is_covid_season_2020</th>\n",
       "      <th>has_sprint_format</th>\n",
       "      <th>...</th>\n",
       "      <th>is_high_humidity</th>\n",
       "      <th>is_low_humidity</th>\n",
       "      <th>is_windy_conditions</th>\n",
       "      <th>has_fastf1_data</th>\n",
       "      <th>race_size</th>\n",
       "      <th>typology</th>\n",
       "      <th>enneagram</th>\n",
       "      <th>heaight</th>\n",
       "      <th>why_choose_number_categorical</th>\n",
       "      <th>target_position</th>\n",
       "    </tr>\n",
       "  </thead>\n",
       "  <tbody>\n",
       "    <tr>\n",
       "      <th>0</th>\n",
       "      <td>2018</td>\n",
       "      <td>1</td>\n",
       "      <td>Australia</td>\n",
       "      <td>German</td>\n",
       "      <td>Italian</td>\n",
       "      <td>3.0</td>\n",
       "      <td>1</td>\n",
       "      <td>0</td>\n",
       "      <td>0</td>\n",
       "      <td>0</td>\n",
       "      <td>...</td>\n",
       "      <td>0.0</td>\n",
       "      <td>0.0</td>\n",
       "      <td>0.0</td>\n",
       "      <td>True</td>\n",
       "      <td>20</td>\n",
       "      <td>INFJ</td>\n",
       "      <td>9w1</td>\n",
       "      <td>175</td>\n",
       "      <td>Karting Success</td>\n",
       "      <td>1</td>\n",
       "    </tr>\n",
       "    <tr>\n",
       "      <th>1</th>\n",
       "      <td>2018</td>\n",
       "      <td>1</td>\n",
       "      <td>Australia</td>\n",
       "      <td>British</td>\n",
       "      <td>German</td>\n",
       "      <td>1.0</td>\n",
       "      <td>1</td>\n",
       "      <td>0</td>\n",
       "      <td>0</td>\n",
       "      <td>0</td>\n",
       "      <td>...</td>\n",
       "      <td>0.0</td>\n",
       "      <td>0.0</td>\n",
       "      <td>0.0</td>\n",
       "      <td>True</td>\n",
       "      <td>20</td>\n",
       "      <td>ISFP</td>\n",
       "      <td>3w4</td>\n",
       "      <td>174</td>\n",
       "      <td>Personal Connection</td>\n",
       "      <td>2</td>\n",
       "    </tr>\n",
       "    <tr>\n",
       "      <th>2</th>\n",
       "      <td>2018</td>\n",
       "      <td>1</td>\n",
       "      <td>Australia</td>\n",
       "      <td>Finnish</td>\n",
       "      <td>Italian</td>\n",
       "      <td>2.0</td>\n",
       "      <td>1</td>\n",
       "      <td>0</td>\n",
       "      <td>0</td>\n",
       "      <td>0</td>\n",
       "      <td>...</td>\n",
       "      <td>0.0</td>\n",
       "      <td>0.0</td>\n",
       "      <td>0.0</td>\n",
       "      <td>True</td>\n",
       "      <td>20</td>\n",
       "      <td>ISTP</td>\n",
       "      <td>5w4</td>\n",
       "      <td>175</td>\n",
       "      <td>Karting Success</td>\n",
       "      <td>3</td>\n",
       "    </tr>\n",
       "    <tr>\n",
       "      <th>3</th>\n",
       "      <td>2018</td>\n",
       "      <td>1</td>\n",
       "      <td>Australia</td>\n",
       "      <td>Australian</td>\n",
       "      <td>Austrian</td>\n",
       "      <td>5.0</td>\n",
       "      <td>1</td>\n",
       "      <td>0</td>\n",
       "      <td>0</td>\n",
       "      <td>0</td>\n",
       "      <td>...</td>\n",
       "      <td>0.0</td>\n",
       "      <td>0.0</td>\n",
       "      <td>0.0</td>\n",
       "      <td>True</td>\n",
       "      <td>20</td>\n",
       "      <td>ENFP</td>\n",
       "      <td>7w6</td>\n",
       "      <td>179</td>\n",
       "      <td>Karting Success</td>\n",
       "      <td>4</td>\n",
       "    </tr>\n",
       "    <tr>\n",
       "      <th>4</th>\n",
       "      <td>2018</td>\n",
       "      <td>1</td>\n",
       "      <td>Australia</td>\n",
       "      <td>Spanish</td>\n",
       "      <td>British</td>\n",
       "      <td>11.0</td>\n",
       "      <td>1</td>\n",
       "      <td>0</td>\n",
       "      <td>0</td>\n",
       "      <td>0</td>\n",
       "      <td>...</td>\n",
       "      <td>0.0</td>\n",
       "      <td>0.0</td>\n",
       "      <td>0.0</td>\n",
       "      <td>True</td>\n",
       "      <td>20</td>\n",
       "      <td>ENTJ</td>\n",
       "      <td>1w2</td>\n",
       "      <td>171</td>\n",
       "      <td>Karting Success</td>\n",
       "      <td>5</td>\n",
       "    </tr>\n",
       "  </tbody>\n",
       "</table>\n",
       "<p>5 rows × 52 columns</p>\n",
       "</div>"
      ],
      "text/plain": [
       "   year  round    country driver_nationality constructor_nationality  \\\n",
       "0  2018      1  Australia             German                 Italian   \n",
       "1  2018      1  Australia            British                  German   \n",
       "2  2018      1  Australia            Finnish                 Italian   \n",
       "3  2018      1  Australia         Australian                Austrian   \n",
       "4  2018      1  Australia            Spanish                 British   \n",
       "\n",
       "   grid_position  is_2017_plus_era  is_2022_plus_era  is_covid_season_2020  \\\n",
       "0            3.0                 1                 0                     0   \n",
       "1            1.0                 1                 0                     0   \n",
       "2            2.0                 1                 0                     0   \n",
       "3            5.0                 1                 0                     0   \n",
       "4           11.0                 1                 0                     0   \n",
       "\n",
       "   has_sprint_format  ...  is_high_humidity  is_low_humidity  \\\n",
       "0                  0  ...               0.0              0.0   \n",
       "1                  0  ...               0.0              0.0   \n",
       "2                  0  ...               0.0              0.0   \n",
       "3                  0  ...               0.0              0.0   \n",
       "4                  0  ...               0.0              0.0   \n",
       "\n",
       "   is_windy_conditions  has_fastf1_data  race_size  typology  enneagram  \\\n",
       "0                  0.0             True         20      INFJ        9w1   \n",
       "1                  0.0             True         20      ISFP        3w4   \n",
       "2                  0.0             True         20      ISTP        5w4   \n",
       "3                  0.0             True         20      ENFP        7w6   \n",
       "4                  0.0             True         20      ENTJ        1w2   \n",
       "\n",
       "   heaight  why_choose_number_categorical  target_position  \n",
       "0      175                Karting Success                1  \n",
       "1      174            Personal Connection                2  \n",
       "2      175                Karting Success                3  \n",
       "3      179                Karting Success                4  \n",
       "4      171                Karting Success                5  \n",
       "\n",
       "[5 rows x 52 columns]"
      ]
     },
     "execution_count": 2,
     "metadata": {},
     "output_type": "execute_result"
    }
   ],
   "source": [
    "# Load the dataset\n",
    "print(\"Loading dataset...\")\n",
    "df = pd.read_csv('../data/processed/xgboost/final_model_dataset.csv')\n",
    "print(f\"Dataset shape: {df.shape}\")\n",
    "print(f\"Number of columns: {len(df.columns)}\")\n",
    "\n",
    "# Display first few rows\n",
    "df.head()\n"
   ]
  },
  {
   "cell_type": "code",
   "execution_count": 3,
   "id": "34b3fc0b",
   "metadata": {},
   "outputs": [
    {
     "name": "stdout",
     "output_type": "stream",
     "text": [
      "Dataset information:\n",
      "<class 'pandas.core.frame.DataFrame'>\n",
      "RangeIndex: 3318 entries, 0 to 3317\n",
      "Data columns (total 52 columns):\n",
      " #   Column                           Non-Null Count  Dtype  \n",
      "---  ------                           --------------  -----  \n",
      " 0   year                             3318 non-null   int64  \n",
      " 1   round                            3318 non-null   int64  \n",
      " 2   country                          3318 non-null   object \n",
      " 3   driver_nationality               3318 non-null   object \n",
      " 4   constructor_nationality          3318 non-null   object \n",
      " 5   grid_position                    3318 non-null   float64\n",
      " 6   is_2017_plus_era                 3318 non-null   int64  \n",
      " 7   is_2022_plus_era                 3318 non-null   int64  \n",
      " 8   is_covid_season_2020             3318 non-null   int64  \n",
      " 9   has_sprint_format                3318 non-null   int64  \n",
      " 10  driver_career_total_points       3318 non-null   float64\n",
      " 11  driver_career_avg_points         3318 non-null   float64\n",
      " 12  driver_career_avg_position       3318 non-null   float64\n",
      " 13  driver_career_race_count         3318 non-null   int64  \n",
      " 14  driver_career_wins               3318 non-null   int64  \n",
      " 15  driver_career_podiums            3318 non-null   int64  \n",
      " 16  constructor_career_total_points  3318 non-null   float64\n",
      " 17  constructor_career_avg_points    3318 non-null   float64\n",
      " 18  constructor_career_avg_position  3318 non-null   float64\n",
      " 19  constructor_career_race_count    3318 non-null   int64  \n",
      " 20  constructor_career_wins          3318 non-null   int64  \n",
      " 21  constructor_career_podiums       3318 non-null   int64  \n",
      " 22  driver_track_avg_position        3318 non-null   float64\n",
      " 23  driver_track_race_count          3318 non-null   int64  \n",
      " 24  constructor_track_avg_position   3318 non-null   float64\n",
      " 25  constructor_track_race_count     3318 non-null   int64  \n",
      " 26  driver_abbreviation              2366 non-null   object \n",
      " 27  driver_number                    2366 non-null   float64\n",
      " 28  air_temp                         3278 non-null   float64\n",
      " 29  track_temp                       3278 non-null   float64\n",
      " 30  humidity                         3278 non-null   float64\n",
      " 31  wind_speed                       3278 non-null   float64\n",
      " 32  main_compound                    2362 non-null   object \n",
      " 33  is_soft_primary                  2366 non-null   float64\n",
      " 34  is_hard_primary                  2366 non-null   float64\n",
      " 35  is_medium_primary                2366 non-null   float64\n",
      " 36  is_intermediate                  2366 non-null   float64\n",
      " 37  is_wet                           2366 non-null   float64\n",
      " 38  temp_differential                3278 non-null   float64\n",
      " 39  is_hot_conditions                2366 non-null   float64\n",
      " 40  is_cold_conditions               2366 non-null   float64\n",
      " 41  is_high_track_temp               2366 non-null   float64\n",
      " 42  is_high_humidity                 2366 non-null   float64\n",
      " 43  is_low_humidity                  2366 non-null   float64\n",
      " 44  is_windy_conditions              2366 non-null   float64\n",
      " 45  has_fastf1_data                  3318 non-null   bool   \n",
      " 46  race_size                        3318 non-null   int64  \n",
      " 47  typology                         3231 non-null   object \n",
      " 48  enneagram                        3231 non-null   object \n",
      " 49  heaight                          3318 non-null   int64  \n",
      " 50  why_choose_number_categorical    3143 non-null   object \n",
      " 51  target_position                  3318 non-null   int64  \n",
      "dtypes: bool(1), float64(26), int64(17), object(8)\n",
      "memory usage: 1.3+ MB\n"
     ]
    }
   ],
   "source": [
    "# Get dataset information\n",
    "print(\"Dataset information:\")\n",
    "df.info()\n"
   ]
  },
  {
   "cell_type": "code",
   "execution_count": 4,
   "id": "d6ff6015",
   "metadata": {},
   "outputs": [
    {
     "name": "stdout",
     "output_type": "stream",
     "text": [
      "Missing values analysis:\n",
      "main_compound                    956\n",
      "driver_abbreviation              952\n",
      "is_intermediate                  952\n",
      "is_windy_conditions              952\n",
      "is_low_humidity                  952\n",
      "is_high_humidity                 952\n",
      "is_high_track_temp               952\n",
      "is_cold_conditions               952\n",
      "is_hot_conditions                952\n",
      "driver_number                    952\n",
      "is_wet                           952\n",
      "is_medium_primary                952\n",
      "is_hard_primary                  952\n",
      "is_soft_primary                  952\n",
      "why_choose_number_categorical    175\n",
      "typology                          87\n",
      "enneagram                         87\n",
      "temp_differential                 40\n",
      "wind_speed                        40\n",
      "humidity                          40\n",
      "track_temp                        40\n",
      "air_temp                          40\n",
      "dtype: int64\n"
     ]
    }
   ],
   "source": [
    "# Check for missing values\n",
    "print(\"Missing values analysis:\")\n",
    "missing_info = df.isnull().sum()\n",
    "missing_columns = missing_info[missing_info > 0]\n",
    "if len(missing_columns) > 0:\n",
    "    print(missing_columns.sort_values(ascending=False))\n",
    "else:\n",
    "    print(\"No missing values found!\")\n"
   ]
  },
  {
   "cell_type": "code",
   "execution_count": 5,
   "id": "6e87b769",
   "metadata": {},
   "outputs": [
    {
     "name": "stdout",
     "output_type": "stream",
     "text": [
      "Numeric columns (43):\n",
      "['year', 'round', 'grid_position', 'is_2017_plus_era', 'is_2022_plus_era', 'is_covid_season_2020', 'has_sprint_format', 'driver_career_total_points', 'driver_career_avg_points', 'driver_career_avg_position'] ...\n",
      "\n",
      "Categorical columns (9):\n",
      "['country', 'driver_nationality', 'constructor_nationality', 'driver_abbreviation', 'main_compound', 'has_fastf1_data', 'typology', 'enneagram', 'why_choose_number_categorical']\n"
     ]
    }
   ],
   "source": [
    "# Separate numeric and categorical columns\n",
    "numeric_columns = df.select_dtypes(include=[np.number]).columns.tolist()\n",
    "categorical_columns = df.select_dtypes(exclude=[np.number]).columns.tolist()\n",
    "\n",
    "print(f\"Numeric columns ({len(numeric_columns)}):\")\n",
    "print(numeric_columns[:10], \"...\")  # Show first 10\n",
    "\n",
    "print(f\"\\nCategorical columns ({len(categorical_columns)}):\")\n",
    "print(categorical_columns)\n"
   ]
  },
  {
   "cell_type": "code",
   "execution_count": 6,
   "id": "92e969f2",
   "metadata": {},
   "outputs": [
    {
     "name": "stdout",
     "output_type": "stream",
     "text": [
      "Target variable: target_position\n",
      "Target distribution:\n"
     ]
    },
    {
     "data": {
      "text/plain": [
       "count    3318.000000\n",
       "mean       10.494274\n",
       "std         5.764167\n",
       "min         1.000000\n",
       "25%         5.250000\n",
       "50%        10.000000\n",
       "75%        15.000000\n",
       "max        20.000000\n",
       "Name: target_position, dtype: float64"
      ]
     },
     "execution_count": 6,
     "metadata": {},
     "output_type": "execute_result"
    }
   ],
   "source": [
    "# Determine target variable\n",
    "# According to dataset_info.txt, target is target_position (race finish position)\n",
    "target_column = 'target_position'\n",
    "\n",
    "print(f\"Target variable: {target_column}\")\n",
    "print(\"Target distribution:\")\n",
    "df[target_column].describe()\n"
   ]
  },
  {
   "cell_type": "code",
   "execution_count": null,
   "id": "74d86512",
   "metadata": {},
   "outputs": [
    {
     "name": "stdout",
     "output_type": "stream",
     "text": [
      "Feature matrix shape: (3318, 51)\n",
      "Target variable shape: (3318,)\n"
     ]
    }
   ],
   "source": [
    "# Prepare the dataset\n",
    "# Encode categorical variables\n",
    "le_dict = {}\n",
    "for col in categorical_columns:\n",
    "    le = LabelEncoder()\n",
    "    df[col] = le.fit_transform(df[col])\n",
    "    le_dict[col] = le\n",
    "\n",
    "# Split features and target\n",
    "feature_columns = [col for col in df.columns if col != target_column]\n",
    "X = df[feature_columns]\n",
    "y = df[target_column]\n",
    "\n",
    "print(f\"Feature matrix shape: {X.shape}\")\n",
    "print(f\"Target variable shape: {y.shape}\")\n"
   ]
  },
  {
   "cell_type": "code",
   "execution_count": null,
   "id": "433d1d28",
   "metadata": {},
   "outputs": [
    {
     "name": "stdout",
     "output_type": "stream",
     "text": [
      "Training set size: (2654, 51)\n",
      "Test set size: (664, 51)\n"
     ]
    }
   ],
   "source": [
    "# Split dataset into training and test sets\n",
    "X_train, X_test, y_train, y_test = train_test_split(\n",
    "    X, y, test_size=0.2, random_state=42, stratify=y\n",
    ")\n",
    "\n",
    "print(f\"Training set size: {X_train.shape}\")\n",
    "print(f\"Test set size: {X_test.shape}\")\n"
   ]
  },
  {
   "cell_type": "markdown",
   "id": "c111b125",
   "metadata": {},
   "source": [
    "## 2. Baseline XGBoost Model\n",
    "\n",
    "First, let's create a baseline model with default parameters.\n"
   ]
  },
  {
   "cell_type": "code",
   "execution_count": null,
   "id": "fa798612",
   "metadata": {},
   "outputs": [
    {
     "name": "stdout",
     "output_type": "stream",
     "text": [
      "Training baseline model...\n"
     ]
    },
    {
     "data": {
      "text/html": [
       "<style>#sk-container-id-1 {\n",
       "  /* Definition of color scheme common for light and dark mode */\n",
       "  --sklearn-color-text: #000;\n",
       "  --sklearn-color-text-muted: #666;\n",
       "  --sklearn-color-line: gray;\n",
       "  /* Definition of color scheme for unfitted estimators */\n",
       "  --sklearn-color-unfitted-level-0: #fff5e6;\n",
       "  --sklearn-color-unfitted-level-1: #f6e4d2;\n",
       "  --sklearn-color-unfitted-level-2: #ffe0b3;\n",
       "  --sklearn-color-unfitted-level-3: chocolate;\n",
       "  /* Definition of color scheme for fitted estimators */\n",
       "  --sklearn-color-fitted-level-0: #f0f8ff;\n",
       "  --sklearn-color-fitted-level-1: #d4ebff;\n",
       "  --sklearn-color-fitted-level-2: #b3dbfd;\n",
       "  --sklearn-color-fitted-level-3: cornflowerblue;\n",
       "\n",
       "  /* Specific color for light theme */\n",
       "  --sklearn-color-text-on-default-background: var(--sg-text-color, var(--theme-code-foreground, var(--jp-content-font-color1, black)));\n",
       "  --sklearn-color-background: var(--sg-background-color, var(--theme-background, var(--jp-layout-color0, white)));\n",
       "  --sklearn-color-border-box: var(--sg-text-color, var(--theme-code-foreground, var(--jp-content-font-color1, black)));\n",
       "  --sklearn-color-icon: #696969;\n",
       "\n",
       "  @media (prefers-color-scheme: dark) {\n",
       "    /* Redefinition of color scheme for dark theme */\n",
       "    --sklearn-color-text-on-default-background: var(--sg-text-color, var(--theme-code-foreground, var(--jp-content-font-color1, white)));\n",
       "    --sklearn-color-background: var(--sg-background-color, var(--theme-background, var(--jp-layout-color0, #111)));\n",
       "    --sklearn-color-border-box: var(--sg-text-color, var(--theme-code-foreground, var(--jp-content-font-color1, white)));\n",
       "    --sklearn-color-icon: #878787;\n",
       "  }\n",
       "}\n",
       "\n",
       "#sk-container-id-1 {\n",
       "  color: var(--sklearn-color-text);\n",
       "}\n",
       "\n",
       "#sk-container-id-1 pre {\n",
       "  padding: 0;\n",
       "}\n",
       "\n",
       "#sk-container-id-1 input.sk-hidden--visually {\n",
       "  border: 0;\n",
       "  clip: rect(1px 1px 1px 1px);\n",
       "  clip: rect(1px, 1px, 1px, 1px);\n",
       "  height: 1px;\n",
       "  margin: -1px;\n",
       "  overflow: hidden;\n",
       "  padding: 0;\n",
       "  position: absolute;\n",
       "  width: 1px;\n",
       "}\n",
       "\n",
       "#sk-container-id-1 div.sk-dashed-wrapped {\n",
       "  border: 1px dashed var(--sklearn-color-line);\n",
       "  margin: 0 0.4em 0.5em 0.4em;\n",
       "  box-sizing: border-box;\n",
       "  padding-bottom: 0.4em;\n",
       "  background-color: var(--sklearn-color-background);\n",
       "}\n",
       "\n",
       "#sk-container-id-1 div.sk-container {\n",
       "  /* jupyter's `normalize.less` sets `[hidden] { display: none; }`\n",
       "     but bootstrap.min.css set `[hidden] { display: none !important; }`\n",
       "     so we also need the `!important` here to be able to override the\n",
       "     default hidden behavior on the sphinx rendered scikit-learn.org.\n",
       "     See: https://github.com/scikit-learn/scikit-learn/issues/21755 */\n",
       "  display: inline-block !important;\n",
       "  position: relative;\n",
       "}\n",
       "\n",
       "#sk-container-id-1 div.sk-text-repr-fallback {\n",
       "  display: none;\n",
       "}\n",
       "\n",
       "div.sk-parallel-item,\n",
       "div.sk-serial,\n",
       "div.sk-item {\n",
       "  /* draw centered vertical line to link estimators */\n",
       "  background-image: linear-gradient(var(--sklearn-color-text-on-default-background), var(--sklearn-color-text-on-default-background));\n",
       "  background-size: 2px 100%;\n",
       "  background-repeat: no-repeat;\n",
       "  background-position: center center;\n",
       "}\n",
       "\n",
       "/* Parallel-specific style estimator block */\n",
       "\n",
       "#sk-container-id-1 div.sk-parallel-item::after {\n",
       "  content: \"\";\n",
       "  width: 100%;\n",
       "  border-bottom: 2px solid var(--sklearn-color-text-on-default-background);\n",
       "  flex-grow: 1;\n",
       "}\n",
       "\n",
       "#sk-container-id-1 div.sk-parallel {\n",
       "  display: flex;\n",
       "  align-items: stretch;\n",
       "  justify-content: center;\n",
       "  background-color: var(--sklearn-color-background);\n",
       "  position: relative;\n",
       "}\n",
       "\n",
       "#sk-container-id-1 div.sk-parallel-item {\n",
       "  display: flex;\n",
       "  flex-direction: column;\n",
       "}\n",
       "\n",
       "#sk-container-id-1 div.sk-parallel-item:first-child::after {\n",
       "  align-self: flex-end;\n",
       "  width: 50%;\n",
       "}\n",
       "\n",
       "#sk-container-id-1 div.sk-parallel-item:last-child::after {\n",
       "  align-self: flex-start;\n",
       "  width: 50%;\n",
       "}\n",
       "\n",
       "#sk-container-id-1 div.sk-parallel-item:only-child::after {\n",
       "  width: 0;\n",
       "}\n",
       "\n",
       "/* Serial-specific style estimator block */\n",
       "\n",
       "#sk-container-id-1 div.sk-serial {\n",
       "  display: flex;\n",
       "  flex-direction: column;\n",
       "  align-items: center;\n",
       "  background-color: var(--sklearn-color-background);\n",
       "  padding-right: 1em;\n",
       "  padding-left: 1em;\n",
       "}\n",
       "\n",
       "\n",
       "/* Toggleable style: style used for estimator/Pipeline/ColumnTransformer box that is\n",
       "clickable and can be expanded/collapsed.\n",
       "- Pipeline and ColumnTransformer use this feature and define the default style\n",
       "- Estimators will overwrite some part of the style using the `sk-estimator` class\n",
       "*/\n",
       "\n",
       "/* Pipeline and ColumnTransformer style (default) */\n",
       "\n",
       "#sk-container-id-1 div.sk-toggleable {\n",
       "  /* Default theme specific background. It is overwritten whether we have a\n",
       "  specific estimator or a Pipeline/ColumnTransformer */\n",
       "  background-color: var(--sklearn-color-background);\n",
       "}\n",
       "\n",
       "/* Toggleable label */\n",
       "#sk-container-id-1 label.sk-toggleable__label {\n",
       "  cursor: pointer;\n",
       "  display: flex;\n",
       "  width: 100%;\n",
       "  margin-bottom: 0;\n",
       "  padding: 0.5em;\n",
       "  box-sizing: border-box;\n",
       "  text-align: center;\n",
       "  align-items: start;\n",
       "  justify-content: space-between;\n",
       "  gap: 0.5em;\n",
       "}\n",
       "\n",
       "#sk-container-id-1 label.sk-toggleable__label .caption {\n",
       "  font-size: 0.6rem;\n",
       "  font-weight: lighter;\n",
       "  color: var(--sklearn-color-text-muted);\n",
       "}\n",
       "\n",
       "#sk-container-id-1 label.sk-toggleable__label-arrow:before {\n",
       "  /* Arrow on the left of the label */\n",
       "  content: \"▸\";\n",
       "  float: left;\n",
       "  margin-right: 0.25em;\n",
       "  color: var(--sklearn-color-icon);\n",
       "}\n",
       "\n",
       "#sk-container-id-1 label.sk-toggleable__label-arrow:hover:before {\n",
       "  color: var(--sklearn-color-text);\n",
       "}\n",
       "\n",
       "/* Toggleable content - dropdown */\n",
       "\n",
       "#sk-container-id-1 div.sk-toggleable__content {\n",
       "  max-height: 0;\n",
       "  max-width: 0;\n",
       "  overflow: hidden;\n",
       "  text-align: left;\n",
       "  /* unfitted */\n",
       "  background-color: var(--sklearn-color-unfitted-level-0);\n",
       "}\n",
       "\n",
       "#sk-container-id-1 div.sk-toggleable__content.fitted {\n",
       "  /* fitted */\n",
       "  background-color: var(--sklearn-color-fitted-level-0);\n",
       "}\n",
       "\n",
       "#sk-container-id-1 div.sk-toggleable__content pre {\n",
       "  margin: 0.2em;\n",
       "  border-radius: 0.25em;\n",
       "  color: var(--sklearn-color-text);\n",
       "  /* unfitted */\n",
       "  background-color: var(--sklearn-color-unfitted-level-0);\n",
       "}\n",
       "\n",
       "#sk-container-id-1 div.sk-toggleable__content.fitted pre {\n",
       "  /* unfitted */\n",
       "  background-color: var(--sklearn-color-fitted-level-0);\n",
       "}\n",
       "\n",
       "#sk-container-id-1 input.sk-toggleable__control:checked~div.sk-toggleable__content {\n",
       "  /* Expand drop-down */\n",
       "  max-height: 200px;\n",
       "  max-width: 100%;\n",
       "  overflow: auto;\n",
       "}\n",
       "\n",
       "#sk-container-id-1 input.sk-toggleable__control:checked~label.sk-toggleable__label-arrow:before {\n",
       "  content: \"▾\";\n",
       "}\n",
       "\n",
       "/* Pipeline/ColumnTransformer-specific style */\n",
       "\n",
       "#sk-container-id-1 div.sk-label input.sk-toggleable__control:checked~label.sk-toggleable__label {\n",
       "  color: var(--sklearn-color-text);\n",
       "  background-color: var(--sklearn-color-unfitted-level-2);\n",
       "}\n",
       "\n",
       "#sk-container-id-1 div.sk-label.fitted input.sk-toggleable__control:checked~label.sk-toggleable__label {\n",
       "  background-color: var(--sklearn-color-fitted-level-2);\n",
       "}\n",
       "\n",
       "/* Estimator-specific style */\n",
       "\n",
       "/* Colorize estimator box */\n",
       "#sk-container-id-1 div.sk-estimator input.sk-toggleable__control:checked~label.sk-toggleable__label {\n",
       "  /* unfitted */\n",
       "  background-color: var(--sklearn-color-unfitted-level-2);\n",
       "}\n",
       "\n",
       "#sk-container-id-1 div.sk-estimator.fitted input.sk-toggleable__control:checked~label.sk-toggleable__label {\n",
       "  /* fitted */\n",
       "  background-color: var(--sklearn-color-fitted-level-2);\n",
       "}\n",
       "\n",
       "#sk-container-id-1 div.sk-label label.sk-toggleable__label,\n",
       "#sk-container-id-1 div.sk-label label {\n",
       "  /* The background is the default theme color */\n",
       "  color: var(--sklearn-color-text-on-default-background);\n",
       "}\n",
       "\n",
       "/* On hover, darken the color of the background */\n",
       "#sk-container-id-1 div.sk-label:hover label.sk-toggleable__label {\n",
       "  color: var(--sklearn-color-text);\n",
       "  background-color: var(--sklearn-color-unfitted-level-2);\n",
       "}\n",
       "\n",
       "/* Label box, darken color on hover, fitted */\n",
       "#sk-container-id-1 div.sk-label.fitted:hover label.sk-toggleable__label.fitted {\n",
       "  color: var(--sklearn-color-text);\n",
       "  background-color: var(--sklearn-color-fitted-level-2);\n",
       "}\n",
       "\n",
       "/* Estimator label */\n",
       "\n",
       "#sk-container-id-1 div.sk-label label {\n",
       "  font-family: monospace;\n",
       "  font-weight: bold;\n",
       "  display: inline-block;\n",
       "  line-height: 1.2em;\n",
       "}\n",
       "\n",
       "#sk-container-id-1 div.sk-label-container {\n",
       "  text-align: center;\n",
       "}\n",
       "\n",
       "/* Estimator-specific */\n",
       "#sk-container-id-1 div.sk-estimator {\n",
       "  font-family: monospace;\n",
       "  border: 1px dotted var(--sklearn-color-border-box);\n",
       "  border-radius: 0.25em;\n",
       "  box-sizing: border-box;\n",
       "  margin-bottom: 0.5em;\n",
       "  /* unfitted */\n",
       "  background-color: var(--sklearn-color-unfitted-level-0);\n",
       "}\n",
       "\n",
       "#sk-container-id-1 div.sk-estimator.fitted {\n",
       "  /* fitted */\n",
       "  background-color: var(--sklearn-color-fitted-level-0);\n",
       "}\n",
       "\n",
       "/* on hover */\n",
       "#sk-container-id-1 div.sk-estimator:hover {\n",
       "  /* unfitted */\n",
       "  background-color: var(--sklearn-color-unfitted-level-2);\n",
       "}\n",
       "\n",
       "#sk-container-id-1 div.sk-estimator.fitted:hover {\n",
       "  /* fitted */\n",
       "  background-color: var(--sklearn-color-fitted-level-2);\n",
       "}\n",
       "\n",
       "/* Specification for estimator info (e.g. \"i\" and \"?\") */\n",
       "\n",
       "/* Common style for \"i\" and \"?\" */\n",
       "\n",
       ".sk-estimator-doc-link,\n",
       "a:link.sk-estimator-doc-link,\n",
       "a:visited.sk-estimator-doc-link {\n",
       "  float: right;\n",
       "  font-size: smaller;\n",
       "  line-height: 1em;\n",
       "  font-family: monospace;\n",
       "  background-color: var(--sklearn-color-background);\n",
       "  border-radius: 1em;\n",
       "  height: 1em;\n",
       "  width: 1em;\n",
       "  text-decoration: none !important;\n",
       "  margin-left: 0.5em;\n",
       "  text-align: center;\n",
       "  /* unfitted */\n",
       "  border: var(--sklearn-color-unfitted-level-1) 1pt solid;\n",
       "  color: var(--sklearn-color-unfitted-level-1);\n",
       "}\n",
       "\n",
       ".sk-estimator-doc-link.fitted,\n",
       "a:link.sk-estimator-doc-link.fitted,\n",
       "a:visited.sk-estimator-doc-link.fitted {\n",
       "  /* fitted */\n",
       "  border: var(--sklearn-color-fitted-level-1) 1pt solid;\n",
       "  color: var(--sklearn-color-fitted-level-1);\n",
       "}\n",
       "\n",
       "/* On hover */\n",
       "div.sk-estimator:hover .sk-estimator-doc-link:hover,\n",
       ".sk-estimator-doc-link:hover,\n",
       "div.sk-label-container:hover .sk-estimator-doc-link:hover,\n",
       ".sk-estimator-doc-link:hover {\n",
       "  /* unfitted */\n",
       "  background-color: var(--sklearn-color-unfitted-level-3);\n",
       "  color: var(--sklearn-color-background);\n",
       "  text-decoration: none;\n",
       "}\n",
       "\n",
       "div.sk-estimator.fitted:hover .sk-estimator-doc-link.fitted:hover,\n",
       ".sk-estimator-doc-link.fitted:hover,\n",
       "div.sk-label-container:hover .sk-estimator-doc-link.fitted:hover,\n",
       ".sk-estimator-doc-link.fitted:hover {\n",
       "  /* fitted */\n",
       "  background-color: var(--sklearn-color-fitted-level-3);\n",
       "  color: var(--sklearn-color-background);\n",
       "  text-decoration: none;\n",
       "}\n",
       "\n",
       "/* Span, style for the box shown on hovering the info icon */\n",
       ".sk-estimator-doc-link span {\n",
       "  display: none;\n",
       "  z-index: 9999;\n",
       "  position: relative;\n",
       "  font-weight: normal;\n",
       "  right: .2ex;\n",
       "  padding: .5ex;\n",
       "  margin: .5ex;\n",
       "  width: min-content;\n",
       "  min-width: 20ex;\n",
       "  max-width: 50ex;\n",
       "  color: var(--sklearn-color-text);\n",
       "  box-shadow: 2pt 2pt 4pt #999;\n",
       "  /* unfitted */\n",
       "  background: var(--sklearn-color-unfitted-level-0);\n",
       "  border: .5pt solid var(--sklearn-color-unfitted-level-3);\n",
       "}\n",
       "\n",
       ".sk-estimator-doc-link.fitted span {\n",
       "  /* fitted */\n",
       "  background: var(--sklearn-color-fitted-level-0);\n",
       "  border: var(--sklearn-color-fitted-level-3);\n",
       "}\n",
       "\n",
       ".sk-estimator-doc-link:hover span {\n",
       "  display: block;\n",
       "}\n",
       "\n",
       "/* \"?\"-specific style due to the `<a>` HTML tag */\n",
       "\n",
       "#sk-container-id-1 a.estimator_doc_link {\n",
       "  float: right;\n",
       "  font-size: 1rem;\n",
       "  line-height: 1em;\n",
       "  font-family: monospace;\n",
       "  background-color: var(--sklearn-color-background);\n",
       "  border-radius: 1rem;\n",
       "  height: 1rem;\n",
       "  width: 1rem;\n",
       "  text-decoration: none;\n",
       "  /* unfitted */\n",
       "  color: var(--sklearn-color-unfitted-level-1);\n",
       "  border: var(--sklearn-color-unfitted-level-1) 1pt solid;\n",
       "}\n",
       "\n",
       "#sk-container-id-1 a.estimator_doc_link.fitted {\n",
       "  /* fitted */\n",
       "  border: var(--sklearn-color-fitted-level-1) 1pt solid;\n",
       "  color: var(--sklearn-color-fitted-level-1);\n",
       "}\n",
       "\n",
       "/* On hover */\n",
       "#sk-container-id-1 a.estimator_doc_link:hover {\n",
       "  /* unfitted */\n",
       "  background-color: var(--sklearn-color-unfitted-level-3);\n",
       "  color: var(--sklearn-color-background);\n",
       "  text-decoration: none;\n",
       "}\n",
       "\n",
       "#sk-container-id-1 a.estimator_doc_link.fitted:hover {\n",
       "  /* fitted */\n",
       "  background-color: var(--sklearn-color-fitted-level-3);\n",
       "}\n",
       "</style><div id=\"sk-container-id-1\" class=\"sk-top-container\"><div class=\"sk-text-repr-fallback\"><pre>XGBRegressor(base_score=None, booster=None, callbacks=None,\n",
       "             colsample_bylevel=None, colsample_bynode=None,\n",
       "             colsample_bytree=None, device=None, early_stopping_rounds=None,\n",
       "             enable_categorical=False, eval_metric=None, feature_types=None,\n",
       "             gamma=None, grow_policy=None, importance_type=None,\n",
       "             interaction_constraints=None, learning_rate=None, max_bin=None,\n",
       "             max_cat_threshold=None, max_cat_to_onehot=None,\n",
       "             max_delta_step=None, max_depth=None, max_leaves=None,\n",
       "             min_child_weight=None, missing=nan, monotone_constraints=None,\n",
       "             multi_strategy=None, n_estimators=None, n_jobs=None,\n",
       "             num_parallel_tree=None, random_state=42, ...)</pre><b>In a Jupyter environment, please rerun this cell to show the HTML representation or trust the notebook. <br />On GitHub, the HTML representation is unable to render, please try loading this page with nbviewer.org.</b></div><div class=\"sk-container\" hidden><div class=\"sk-item\"><div class=\"sk-estimator fitted sk-toggleable\"><input class=\"sk-toggleable__control sk-hidden--visually\" id=\"sk-estimator-id-1\" type=\"checkbox\" checked><label for=\"sk-estimator-id-1\" class=\"sk-toggleable__label fitted sk-toggleable__label-arrow\"><div><div>XGBRegressor</div></div><div><span class=\"sk-estimator-doc-link fitted\">i<span>Fitted</span></span></div></label><div class=\"sk-toggleable__content fitted\"><pre>XGBRegressor(base_score=None, booster=None, callbacks=None,\n",
       "             colsample_bylevel=None, colsample_bynode=None,\n",
       "             colsample_bytree=None, device=None, early_stopping_rounds=None,\n",
       "             enable_categorical=False, eval_metric=None, feature_types=None,\n",
       "             gamma=None, grow_policy=None, importance_type=None,\n",
       "             interaction_constraints=None, learning_rate=None, max_bin=None,\n",
       "             max_cat_threshold=None, max_cat_to_onehot=None,\n",
       "             max_delta_step=None, max_depth=None, max_leaves=None,\n",
       "             min_child_weight=None, missing=nan, monotone_constraints=None,\n",
       "             multi_strategy=None, n_estimators=None, n_jobs=None,\n",
       "             num_parallel_tree=None, random_state=42, ...)</pre></div> </div></div></div></div>"
      ],
      "text/plain": [
       "XGBRegressor(base_score=None, booster=None, callbacks=None,\n",
       "             colsample_bylevel=None, colsample_bynode=None,\n",
       "             colsample_bytree=None, device=None, early_stopping_rounds=None,\n",
       "             enable_categorical=False, eval_metric=None, feature_types=None,\n",
       "             gamma=None, grow_policy=None, importance_type=None,\n",
       "             interaction_constraints=None, learning_rate=None, max_bin=None,\n",
       "             max_cat_threshold=None, max_cat_to_onehot=None,\n",
       "             max_delta_step=None, max_depth=None, max_leaves=None,\n",
       "             min_child_weight=None, missing=nan, monotone_constraints=None,\n",
       "             multi_strategy=None, n_estimators=None, n_jobs=None,\n",
       "             num_parallel_tree=None, random_state=42, ...)"
      ]
     },
     "execution_count": 9,
     "metadata": {},
     "output_type": "execute_result"
    }
   ],
   "source": [
    "# Create baseline XGBoost model\n",
    "baseline_model = xgb.XGBRegressor(\n",
    "    random_state=42,\n",
    "    verbosity=1\n",
    ")\n",
    "\n",
    "print(\"Training baseline model...\")\n",
    "baseline_model.fit(X_train, y_train)\n"
   ]
  },
  {
   "cell_type": "code",
   "execution_count": 10,
   "id": "ff3b4a04",
   "metadata": {},
   "outputs": [
    {
     "name": "stdout",
     "output_type": "stream",
     "text": [
      "Baseline Model Performance:\n",
      "RMSE: 4.2227\n",
      "MAE: 2.9705\n",
      "R2: 0.4614\n",
      "Top-3 Accuracy: 64.46%\n",
      "Top-5 Accuracy: 81.17%\n"
     ]
    }
   ],
   "source": [
    "# Evaluate baseline model performance\n",
    "y_pred_baseline = baseline_model.predict(X_test)\n",
    "\n",
    "# Calculate Top-3 and Top-5 accuracy\n",
    "def calculate_topk_accuracy(y_true, y_pred, k):\n",
    "    \"\"\"Calculate how many predictions are within k positions of actual\"\"\"\n",
    "    correct = np.abs(y_true - y_pred) <= k\n",
    "    return correct.mean()\n",
    "\n",
    "baseline_metrics = {\n",
    "    'RMSE': np.sqrt(mean_squared_error(y_test, y_pred_baseline)),\n",
    "    'MAE': mean_absolute_error(y_test, y_pred_baseline),\n",
    "    'R2': r2_score(y_test, y_pred_baseline),\n",
    "    'Top-3 Accuracy': calculate_topk_accuracy(y_test, y_pred_baseline, 3),\n",
    "    'Top-5 Accuracy': calculate_topk_accuracy(y_test, y_pred_baseline, 5)\n",
    "}\n",
    "\n",
    "print(\"Baseline Model Performance:\")\n",
    "for metric, value in baseline_metrics.items():\n",
    "    if 'Accuracy' in metric:\n",
    "        print(f\"{metric}: {value:.2%}\")\n",
    "    else:\n",
    "        print(f\"{metric}: {value:.4f}\")\n"
   ]
  },
  {
   "cell_type": "markdown",
   "id": "1f641e61",
   "metadata": {},
   "source": [
    "## 3. Cross-Validation Model Evaluation\n"
   ]
  },
  {
   "cell_type": "code",
   "execution_count": 11,
   "id": "068fbd53",
   "metadata": {},
   "outputs": [
    {
     "name": "stdout",
     "output_type": "stream",
     "text": [
      "CV RMSE Scores: [-4.25705194 -4.08816957 -4.650846   -4.36111307 -4.28251839]\n",
      "CV RMSE Mean: 4.3279\n",
      "CV RMSE Std: 0.1844\n"
     ]
    }
   ],
   "source": [
    "# Evaluate model performance using cross-validation\n",
    "cv_scores = cross_val_score(\n",
    "    baseline_model, X_train, y_train,\n",
    "    cv=5, scoring='neg_root_mean_squared_error'\n",
    ")\n",
    "\n",
    "print(f\"CV RMSE Scores: {cv_scores}\")\n",
    "print(f\"CV RMSE Mean: {-cv_scores.mean():.4f}\")\n",
    "print(f\"CV RMSE Std: {cv_scores.std():.4f}\")\n"
   ]
  },
  {
   "cell_type": "markdown",
   "id": "b05db997",
   "metadata": {},
   "source": [
    "## 4. Hyperparameter Optimization\n",
    "\n",
    "Let's use Optuna for hyperparameter optimization."
   ]
  },
  {
   "cell_type": "code",
   "execution_count": 12,
   "id": "83219874",
   "metadata": {},
   "outputs": [],
   "source": [
    "# Optuna objective function\n",
    "def objective(trial):\n",
    "    params = {\n",
    "        'max_depth': trial.suggest_int('max_depth', 3, 10),\n",
    "        'learning_rate': trial.suggest_float('learning_rate', 0.01, 0.3),\n",
    "        'n_estimators': trial.suggest_int('n_estimators', 100, 1000),\n",
    "        'min_child_weight': trial.suggest_int('min_child_weight', 1, 10),\n",
    "        'subsample': trial.suggest_float('subsample', 0.5, 1.0),\n",
    "        'colsample_bytree': trial.suggest_float('colsample_bytree', 0.5, 1.0),\n",
    "        'reg_alpha': trial.suggest_float('reg_alpha', 0, 10),\n",
    "        'reg_lambda': trial.suggest_float('reg_lambda', 0, 10),\n",
    "        'random_state': 42,\n",
    "        'verbosity': 0\n",
    "    }\n",
    "    \n",
    "    model = xgb.XGBRegressor(**params)\n",
    "    \n",
    "    # We want to maximize Top-3 Accuracy, but Optuna minimizes by default\n",
    "    # So we'll use negative Top-3 Accuracy\n",
    "    model.fit(X_train, y_train)\n",
    "    y_pred = model.predict(X_test)\n",
    "    \n",
    "    # Calculate Top-3 accuracy (we want to maximize this)\n",
    "    top3_accuracy = calculate_topk_accuracy(y_test, y_pred, 3)\n",
    "    \n",
    "    # Return negative because Optuna minimizes\n",
    "    return -top3_accuracy\n"
   ]
  },
  {
   "cell_type": "code",
   "execution_count": 13,
   "id": "83e07421",
   "metadata": {},
   "outputs": [
    {
     "name": "stderr",
     "output_type": "stream",
     "text": [
      "[I 2025-09-29 22:01:49,982] Using an existing study with name 'xgboost_f1_prediction' instead of creating a new one.\n"
     ]
    },
    {
     "name": "stdout",
     "output_type": "stream",
     "text": [
      "Starting Optuna optimization (optimizing for Top-3 Accuracy)...\n"
     ]
    },
    {
     "name": "stderr",
     "output_type": "stream",
     "text": [
      "[I 2025-09-29 22:01:50,412] Trial 50 finished with value: -0.6581325301204819 and parameters: {'max_depth': 4, 'learning_rate': 0.017738827359057557, 'n_estimators': 422, 'min_child_weight': 6, 'subsample': 0.9324711959678738, 'colsample_bytree': 0.5752962075577248, 'reg_alpha': 4.513416896838153, 'reg_lambda': 2.8509281398258337}. Best is trial 46 with value: -0.8433734939759037.\n",
      "[I 2025-09-29 22:01:51,094] Trial 51 finished with value: -0.6566265060240963 and parameters: {'max_depth': 5, 'learning_rate': 0.026772684657947236, 'n_estimators': 578, 'min_child_weight': 8, 'subsample': 0.9702924734806871, 'colsample_bytree': 0.634512350204665, 'reg_alpha': 6.002455866085112, 'reg_lambda': 4.249965498448076}. Best is trial 46 with value: -0.8433734939759037.\n",
      "[I 2025-09-29 22:01:51,747] Trial 52 finished with value: -0.6581325301204819 and parameters: {'max_depth': 4, 'learning_rate': 0.012495365157665618, 'n_estimators': 685, 'min_child_weight': 8, 'subsample': 0.8094799083621989, 'colsample_bytree': 0.6743593504333216, 'reg_alpha': 4.874605282016748, 'reg_lambda': 4.8380848571975}. Best is trial 46 with value: -0.8433734939759037.\n",
      "[I 2025-09-29 22:01:52,165] Trial 53 finished with value: -0.661144578313253 and parameters: {'max_depth': 3, 'learning_rate': 0.03398577604056864, 'n_estimators': 536, 'min_child_weight': 8, 'subsample': 0.8556121340359105, 'colsample_bytree': 0.7188902554339317, 'reg_alpha': 3.7604960443898334, 'reg_lambda': 4.047801230018911}. Best is trial 46 with value: -0.8433734939759037.\n",
      "[I 2025-09-29 22:01:52,869] Trial 54 finished with value: -0.6460843373493976 and parameters: {'max_depth': 5, 'learning_rate': 0.048183961107494136, 'n_estimators': 602, 'min_child_weight': 7, 'subsample': 0.8908240044200934, 'colsample_bytree': 0.7573575308142778, 'reg_alpha': 5.723230683981754, 'reg_lambda': 3.8808717892476965}. Best is trial 46 with value: -0.8433734939759037.\n",
      "[I 2025-09-29 22:01:53,497] Trial 55 finished with value: -0.6581325301204819 and parameters: {'max_depth': 4, 'learning_rate': 0.023013207752067052, 'n_estimators': 668, 'min_child_weight': 7, 'subsample': 0.9479182532791143, 'colsample_bytree': 0.6894519345465887, 'reg_alpha': 7.002306753497317, 'reg_lambda': 3.350964291652832}. Best is trial 46 with value: -0.8433734939759037.\n",
      "[I 2025-09-29 22:01:54,018] Trial 56 finished with value: -0.6430722891566265 and parameters: {'max_depth': 5, 'learning_rate': 0.03504754410926844, 'n_estimators': 447, 'min_child_weight': 8, 'subsample': 0.7916758367883047, 'colsample_bytree': 0.6381333511881568, 'reg_alpha': 6.3910887157090235, 'reg_lambda': 5.247473375565297}. Best is trial 46 with value: -0.8433734939759037.\n",
      "[I 2025-09-29 22:01:54,999] Trial 57 finished with value: -0.6490963855421686 and parameters: {'max_depth': 6, 'learning_rate': 0.055517460471550956, 'n_estimators': 720, 'min_child_weight': 6, 'subsample': 0.8189547272700033, 'colsample_bytree': 0.5964682437780848, 'reg_alpha': 5.0009778353659735, 'reg_lambda': 6.418521033714363}. Best is trial 46 with value: -0.8433734939759037.\n",
      "[I 2025-09-29 22:01:55,706] Trial 58 finished with value: -0.608433734939759 and parameters: {'max_depth': 5, 'learning_rate': 0.2728227056992625, 'n_estimators': 604, 'min_child_weight': 9, 'subsample': 0.9831449911784896, 'colsample_bytree': 0.5457213696081413, 'reg_alpha': 2.4111673408632077, 'reg_lambda': 4.670728697966954}. Best is trial 46 with value: -0.8433734939759037.\n",
      "[I 2025-09-29 22:01:56,188] Trial 59 finished with value: -0.6656626506024096 and parameters: {'max_depth': 4, 'learning_rate': 0.010680083733702633, 'n_estimators': 493, 'min_child_weight': 7, 'subsample': 0.8836978340421573, 'colsample_bytree': 0.6219022834439745, 'reg_alpha': 7.368964620960218, 'reg_lambda': 2.804937815613073}. Best is trial 46 with value: -0.8433734939759037.\n",
      "[I 2025-09-29 22:01:56,310] Trial 60 finished with value: -0.6641566265060241 and parameters: {'max_depth': 3, 'learning_rate': 0.04181133848705329, 'n_estimators': 128, 'min_child_weight': 5, 'subsample': 0.7723891994887149, 'colsample_bytree': 0.6523177457170698, 'reg_alpha': 6.271081704901059, 'reg_lambda': 5.643174280836096}. Best is trial 46 with value: -0.8433734939759037.\n",
      "[I 2025-09-29 22:01:56,935] Trial 61 finished with value: -0.6536144578313253 and parameters: {'max_depth': 5, 'learning_rate': 0.022198556095231088, 'n_estimators': 542, 'min_child_weight': 7, 'subsample': 0.9101605395751929, 'colsample_bytree': 0.655825813897967, 'reg_alpha': 6.662552152909622, 'reg_lambda': 3.494612772869532}. Best is trial 46 with value: -0.8433734939759037.\n",
      "[I 2025-09-29 22:01:57,572] Trial 62 finished with value: -0.6475903614457831 and parameters: {'max_depth': 5, 'learning_rate': 0.023919635488019193, 'n_estimators': 569, 'min_child_weight': 8, 'subsample': 0.9322516380753739, 'colsample_bytree': 0.6745179621944043, 'reg_alpha': 5.4411170491146015, 'reg_lambda': 3.1847674272778264}. Best is trial 46 with value: -0.8433734939759037.\n",
      "[I 2025-09-29 22:01:58,282] Trial 63 finished with value: -0.6536144578313253 and parameters: {'max_depth': 6, 'learning_rate': 0.020367488196538008, 'n_estimators': 515, 'min_child_weight': 8, 'subsample': 0.9156914367081181, 'colsample_bytree': 0.7279535998986267, 'reg_alpha': 6.71566547970966, 'reg_lambda': 4.4814521474291515}. Best is trial 46 with value: -0.8433734939759037.\n",
      "[I 2025-09-29 22:01:59,024] Trial 64 finished with value: -0.6295180722891566 and parameters: {'max_depth': 5, 'learning_rate': 0.06830466122586709, 'n_estimators': 629, 'min_child_weight': 9, 'subsample': 0.8613622929027476, 'colsample_bytree': 0.7540614670075375, 'reg_alpha': 4.04160943469058, 'reg_lambda': 3.798752515418272}. Best is trial 46 with value: -0.8433734939759037.\n",
      "[I 2025-09-29 22:01:59,723] Trial 65 finished with value: -0.6566265060240963 and parameters: {'max_depth': 4, 'learning_rate': 0.03111114234509363, 'n_estimators': 751, 'min_child_weight': 7, 'subsample': 0.7371756873403498, 'colsample_bytree': 0.7084247976839032, 'reg_alpha': 6.142861431636855, 'reg_lambda': 2.9228865511596114}. Best is trial 46 with value: -0.8433734939759037.\n",
      "[I 2025-09-29 22:02:00,827] Trial 66 finished with value: -0.6506024096385542 and parameters: {'max_depth': 6, 'learning_rate': 0.03983749703087986, 'n_estimators': 806, 'min_child_weight': 6, 'subsample': 0.9558677472812437, 'colsample_bytree': 0.7771336577345046, 'reg_alpha': 6.943870142419225, 'reg_lambda': 3.4667646842226}. Best is trial 46 with value: -0.8433734939759037.\n",
      "[I 2025-09-29 22:02:01,518] Trial 67 finished with value: -0.5978915662650602 and parameters: {'max_depth': 5, 'learning_rate': 0.20301046533950634, 'n_estimators': 547, 'min_child_weight': 9, 'subsample': 0.88745914934876, 'colsample_bytree': 0.7379594478978898, 'reg_alpha': 7.572485528199332, 'reg_lambda': 6.3552991125912826}. Best is trial 46 with value: -0.8433734939759037.\n",
      "[I 2025-09-29 22:02:02,322] Trial 68 finished with value: -0.6506024096385542 and parameters: {'max_depth': 5, 'learning_rate': 0.05489940779196434, 'n_estimators': 705, 'min_child_weight': 4, 'subsample': 0.9274170117061427, 'colsample_bytree': 0.6798817859119888, 'reg_alpha': 3.1254441620628683, 'reg_lambda': 2.200359320985762}. Best is trial 46 with value: -0.8433734939759037.\n",
      "[I 2025-09-29 22:02:02,956] Trial 69 finished with value: -0.625 and parameters: {'max_depth': 4, 'learning_rate': 0.11832696335886989, 'n_estimators': 664, 'min_child_weight': 8, 'subsample': 0.8444786195864423, 'colsample_bytree': 0.7568177621847385, 'reg_alpha': 9.647927851079144, 'reg_lambda': 6.976603454825591}. Best is trial 46 with value: -0.8433734939759037.\n",
      "[I 2025-09-29 22:02:03,596] Trial 70 finished with value: -0.6310240963855421 and parameters: {'max_depth': 6, 'learning_rate': 0.1567118819283106, 'n_estimators': 445, 'min_child_weight': 10, 'subsample': 0.824387034746756, 'colsample_bytree': 0.665081624774243, 'reg_alpha': 7.7911992783339725, 'reg_lambda': 3.136571628444427}. Best is trial 46 with value: -0.8433734939759037.\n",
      "[I 2025-09-29 22:02:04,360] Trial 71 finished with value: -0.6536144578313253 and parameters: {'max_depth': 5, 'learning_rate': 0.029479760044786668, 'n_estimators': 632, 'min_child_weight': 9, 'subsample': 0.7987537579176628, 'colsample_bytree': 0.8270677254209355, 'reg_alpha': 8.44332311098921, 'reg_lambda': 4.055144036140649}. Best is trial 46 with value: -0.8433734939759037.\n",
      "[I 2025-09-29 22:02:05,155] Trial 72 finished with value: -0.6536144578313253 and parameters: {'max_depth': 6, 'learning_rate': 0.01767473163177852, 'n_estimators': 582, 'min_child_weight': 9, 'subsample': 0.5631268008939713, 'colsample_bytree': 0.803942539572939, 'reg_alpha': 7.187764568049973, 'reg_lambda': 3.659474843274426}. Best is trial 46 with value: -0.8433734939759037.\n",
      "[I 2025-09-29 22:02:06,135] Trial 73 finished with value: -0.6234939759036144 and parameters: {'max_depth': 7, 'learning_rate': 0.03936014575665071, 'n_estimators': 621, 'min_child_weight': 8, 'subsample': 0.5324879204330976, 'colsample_bytree': 0.8426785721428522, 'reg_alpha': 8.922426337334517, 'reg_lambda': 1.858940398314753}. Best is trial 46 with value: -0.8433734939759037.\n",
      "[I 2025-09-29 22:02:06,847] Trial 74 finished with value: -0.6325301204819277 and parameters: {'max_depth': 6, 'learning_rate': 0.08865683032192506, 'n_estimators': 515, 'min_child_weight': 5, 'subsample': 0.5943517033647343, 'colsample_bytree': 0.9528762067744645, 'reg_alpha': 9.674111052301896, 'reg_lambda': 1.5278983409405695}. Best is trial 46 with value: -0.8433734939759037.\n",
      "[I 2025-09-29 22:02:07,403] Trial 75 finished with value: -0.6310240963855421 and parameters: {'max_depth': 4, 'learning_rate': 0.23655264262075798, 'n_estimators': 593, 'min_child_weight': 7, 'subsample': 0.8991479098773588, 'colsample_bytree': 0.7875059091915344, 'reg_alpha': 8.226089646276476, 'reg_lambda': 2.629855257260963}. Best is trial 46 with value: -0.8433734939759037.\n",
      "[I 2025-09-29 22:02:08,316] Trial 76 finished with value: -0.6566265060240963 and parameters: {'max_depth': 5, 'learning_rate': 0.0522344213887915, 'n_estimators': 833, 'min_child_weight': 10, 'subsample': 0.9741637541533882, 'colsample_bytree': 0.6142175550058098, 'reg_alpha': 9.329030463709309, 'reg_lambda': 0.826811559978287}. Best is trial 46 with value: -0.8433734939759037.\n",
      "[I 2025-09-29 22:02:09,032] Trial 77 finished with value: -0.6385542168674698 and parameters: {'max_depth': 4, 'learning_rate': 0.06313020887345813, 'n_estimators': 769, 'min_child_weight': 9, 'subsample': 0.8069116745542392, 'colsample_bytree': 0.7689146580594408, 'reg_alpha': 8.660161282315157, 'reg_lambda': 6.083399236667117}. Best is trial 46 with value: -0.8433734939759037.\n",
      "[I 2025-09-29 22:02:10,102] Trial 78 finished with value: -0.6536144578313253 and parameters: {'max_depth': 7, 'learning_rate': 0.016282579135240616, 'n_estimators': 649, 'min_child_weight': 8, 'subsample': 0.8508688973644366, 'colsample_bytree': 0.9162577290465705, 'reg_alpha': 5.739255040875079, 'reg_lambda': 5.098338122951589}. Best is trial 46 with value: -0.8433734939759037.\n",
      "[I 2025-09-29 22:02:10,746] Trial 79 finished with value: -0.6310240963855421 and parameters: {'max_depth': 5, 'learning_rate': 0.09997375053430316, 'n_estimators': 554, 'min_child_weight': 7, 'subsample': 0.876309770121258, 'colsample_bytree': 0.8686792362904993, 'reg_alpha': 9.005949103340388, 'reg_lambda': 2.124644109175885}. Best is trial 46 with value: -0.8433734939759037.\n",
      "[I 2025-09-29 22:02:11,664] Trial 80 finished with value: -0.6475903614457831 and parameters: {'max_depth': 6, 'learning_rate': 0.030045643948809264, 'n_estimators': 682, 'min_child_weight': 8, 'subsample': 0.765766267311436, 'colsample_bytree': 0.7100555336968613, 'reg_alpha': 7.938375980968269, 'reg_lambda': 3.28731559950651}. Best is trial 46 with value: -0.8433734939759037.\n",
      "[I 2025-09-29 22:02:12,809] Trial 81 finished with value: -0.6506024096385542 and parameters: {'max_depth': 8, 'learning_rate': 0.04389539643348665, 'n_estimators': 630, 'min_child_weight': 9, 'subsample': 0.6197841734499608, 'colsample_bytree': 0.8512571076225816, 'reg_alpha': 9.581402002134046, 'reg_lambda': 1.2359565118413998}. Best is trial 46 with value: -0.8433734939759037.\n",
      "[I 2025-09-29 22:02:14,008] Trial 82 finished with value: -0.6114457831325302 and parameters: {'max_depth': 8, 'learning_rate': 0.18232257892689308, 'n_estimators': 694, 'min_child_weight': 10, 'subsample': 0.565741033721415, 'colsample_bytree': 0.9699937381194158, 'reg_alpha': 8.841871013272897, 'reg_lambda': 0.36118052207223805}. Best is trial 46 with value: -0.8433734939759037.\n",
      "[I 2025-09-29 22:02:15,227] Trial 83 finished with value: -0.6581325301204819 and parameters: {'max_depth': 7, 'learning_rate': 0.010534950108696102, 'n_estimators': 730, 'min_child_weight': 9, 'subsample': 0.7427869048817185, 'colsample_bytree': 0.9209330925054566, 'reg_alpha': 9.291802073175162, 'reg_lambda': 0.9611466773406768}. Best is trial 46 with value: -0.8433734939759037.\n",
      "[I 2025-09-29 22:02:15,818] Trial 84 finished with value: -0.6551204819277109 and parameters: {'max_depth': 5, 'learning_rate': 0.036390144637736405, 'n_estimators': 500, 'min_child_weight': 8, 'subsample': 0.9470748428334013, 'colsample_bytree': 0.8824113127252095, 'reg_alpha': 6.822364650404241, 'reg_lambda': 2.4967854632681026}. Best is trial 46 with value: -0.8433734939759037.\n",
      "[I 2025-09-29 22:02:16,470] Trial 85 finished with value: -0.6536144578313253 and parameters: {'max_depth': 6, 'learning_rate': 0.026068639835382608, 'n_estimators': 473, 'min_child_weight': 9, 'subsample': 0.5843468806684796, 'colsample_bytree': 0.8189793541899597, 'reg_alpha': 8.379570217210276, 'reg_lambda': 3.012311150590242}. Best is trial 46 with value: -0.8433734939759037.\n",
      "[I 2025-09-29 22:02:17,220] Trial 86 finished with value: -0.6204819277108434 and parameters: {'max_depth': 5, 'learning_rate': 0.07470199195722813, 'n_estimators': 586, 'min_child_weight': 10, 'subsample': 0.5171528301862778, 'colsample_bytree': 0.9314817103528739, 'reg_alpha': 4.6479026042022635, 'reg_lambda': 1.9430546093619219}. Best is trial 46 with value: -0.8433734939759037.\n",
      "[I 2025-09-29 22:02:17,703] Trial 87 finished with value: -0.6385542168674698 and parameters: {'max_depth': 3, 'learning_rate': 0.06185425180805604, 'n_estimators': 652, 'min_child_weight': 9, 'subsample': 0.6953847104877746, 'colsample_bytree': 0.6931200467939809, 'reg_alpha': 6.49812571366627, 'reg_lambda': 1.4686192268722151}. Best is trial 46 with value: -0.8433734939759037.\n",
      "[I 2025-09-29 22:02:18,225] Trial 88 finished with value: -0.6370481927710844 and parameters: {'max_depth': 4, 'learning_rate': 0.0509203497637985, 'n_estimators': 534, 'min_child_weight': 6, 'subsample': 0.7143438478604018, 'colsample_bytree': 0.8976601320326564, 'reg_alpha': 7.522404702306029, 'reg_lambda': 3.977040278700586}. Best is trial 46 with value: -0.8433734939759037.\n",
      "[I 2025-09-29 22:02:18,949] Trial 89 finished with value: -0.6490963855421686 and parameters: {'max_depth': 5, 'learning_rate': 0.020849996300157513, 'n_estimators': 616, 'min_child_weight': 7, 'subsample': 0.78176236368058, 'colsample_bytree': 0.8372315725556132, 'reg_alpha': 5.273575945208247, 'reg_lambda': 4.303833107344055}. Best is trial 46 with value: -0.8433734939759037.\n",
      "[I 2025-09-29 22:02:20,302] Trial 90 finished with value: -0.6400602409638554 and parameters: {'max_depth': 8, 'learning_rate': 0.03775043631130039, 'n_estimators': 743, 'min_child_weight': 8, 'subsample': 0.656030071326613, 'colsample_bytree': 0.8601951940711476, 'reg_alpha': 9.902241757221201, 'reg_lambda': 3.543918419757271}. Best is trial 46 with value: -0.8433734939759037.\n",
      "[I 2025-09-29 22:02:21,085] Trial 91 finished with value: -0.6460843373493976 and parameters: {'max_depth': 7, 'learning_rate': 0.07736612032230171, 'n_estimators': 477, 'min_child_weight': 7, 'subsample': 0.7847938721107528, 'colsample_bytree': 0.8026529632381221, 'reg_alpha': 9.437626427208325, 'reg_lambda': 2.389910988329024}. Best is trial 46 with value: -0.8433734939759037.\n",
      "[I 2025-09-29 22:02:22,191] Trial 92 finished with value: -0.6400602409638554 and parameters: {'max_depth': 9, 'learning_rate': 0.04588563608046798, 'n_estimators': 567, 'min_child_weight': 7, 'subsample': 0.6131794337437951, 'colsample_bytree': 0.7938214448421326, 'reg_alpha': 9.220938639475738, 'reg_lambda': 1.767683312567486}. Best is trial 46 with value: -0.8433734939759037.\n",
      "[I 2025-09-29 22:02:22,678] Trial 93 finished with value: -0.6581325301204819 and parameters: {'max_depth': 9, 'learning_rate': 0.13154153468113408, 'n_estimators': 517, 'min_child_weight': 5, 'subsample': 0.9999038586583128, 'colsample_bytree': 0.8194722717055869, 'reg_alpha': 9.73727939040649, 'reg_lambda': 2.522440517111251}. Best is trial 46 with value: -0.8433734939759037.\n",
      "[I 2025-09-29 22:02:23,440] Trial 94 finished with value: -0.6445783132530121 and parameters: {'max_depth': 6, 'learning_rate': 0.02816448137957306, 'n_estimators': 550, 'min_child_weight': 8, 'subsample': 0.6766392534386823, 'colsample_bytree': 0.6479385297213963, 'reg_alpha': 8.686596034192444, 'reg_lambda': 2.7238515083198642}. Best is trial 46 with value: -0.8433734939759037.\n",
      "[I 2025-09-29 22:02:24,440] Trial 95 finished with value: -0.6551204819277109 and parameters: {'max_depth': 10, 'learning_rate': 0.03401218817433165, 'n_estimators': 418, 'min_child_weight': 7, 'subsample': 0.9231327561629457, 'colsample_bytree': 0.7696905202658704, 'reg_alpha': 7.18968107357714, 'reg_lambda': 4.7842263039961646}. Best is trial 46 with value: -0.8433734939759037.\n",
      "[I 2025-09-29 22:02:25,236] Trial 96 finished with value: -0.641566265060241 and parameters: {'max_depth': 5, 'learning_rate': 0.018160595262348003, 'n_estimators': 676, 'min_child_weight': 6, 'subsample': 0.7720999105971068, 'colsample_bytree': 0.7962231920398859, 'reg_alpha': 9.011496789463667, 'reg_lambda': 2.228145842785399}. Best is trial 46 with value: -0.8433734939759037.\n",
      "[I 2025-09-29 22:02:25,798] Trial 97 finished with value: -0.6536144578313253 and parameters: {'max_depth': 4, 'learning_rate': 0.06583330917738153, 'n_estimators': 593, 'min_child_weight': 6, 'subsample': 0.7559700621154569, 'colsample_bytree': 0.7816898953114506, 'reg_alpha': 8.177556161607722, 'reg_lambda': 3.05253021567782}. Best is trial 46 with value: -0.8433734939759037.\n",
      "[I 2025-09-29 22:02:26,864] Trial 98 finished with value: -0.6445783132530121 and parameters: {'max_depth': 10, 'learning_rate': 0.057282933433687094, 'n_estimators': 491, 'min_child_weight': 9, 'subsample': 0.8209633482366889, 'colsample_bytree': 0.6326766555597881, 'reg_alpha': 7.858343028278196, 'reg_lambda': 1.0706195779951653}. Best is trial 46 with value: -0.8433734939759037.\n",
      "[I 2025-09-29 22:02:27,325] Trial 99 finished with value: -0.6521084337349398 and parameters: {'max_depth': 5, 'learning_rate': 0.04163737604490634, 'n_estimators': 373, 'min_child_weight': 8, 'subsample': 0.7971273918979475, 'colsample_bytree': 0.7422207105104826, 'reg_alpha': 9.46542091351534, 'reg_lambda': 0.6459373007339189}. Best is trial 46 with value: -0.8433734939759037.\n"
     ]
    },
    {
     "name": "stdout",
     "output_type": "stream",
     "text": [
      "\n",
      "Optimization completed!\n",
      "Best parameters:\n",
      "{'max_depth': 5, 'learning_rate': 0.019850452680855984, 'n_estimators': 606, 'min_child_weight': 8, 'subsample': 0.8167221884669023, 'colsample_bytree': 0.7562065999812263, 'reg_alpha': 6.6853646799780435, 'reg_lambda': 3.10940013512786}\n",
      "Best Top-3 Accuracy: 84.34%\n"
     ]
    }
   ],
   "source": [
    "# Create Optuna study\n",
    "study = optuna.create_study(\n",
    "    direction='minimize',  # Minimize because we return negative Top-3 accuracy\n",
    "    study_name='xgboost_f1_prediction',\n",
    "    storage='sqlite:///xgboost_optimization.db',\n",
    "    load_if_exists=True\n",
    ")\n",
    "\n",
    "print(\"Starting Optuna optimization (optimizing for Top-3 Accuracy)...\")\n",
    "study.optimize(objective, n_trials=50, timeout=600)  # 50 trials or 10 minutes\n",
    "\n",
    "print(\"\\nOptimization completed!\")\n",
    "print(\"Best parameters:\")\n",
    "print(study.best_params)\n",
    "print(f\"Best Top-3 Accuracy: {-study.best_value:.2%}\")  # Convert back to positive\n"
   ]
  },
  {
   "cell_type": "code",
   "execution_count": 14,
   "id": "cbb14f50",
   "metadata": {},
   "outputs": [
    {
     "data": {
      "application/vnd.plotly.v1+json": {
       "config": {
        "plotlyServerURL": "https://plot.ly"
       },
       "data": [
        {
         "mode": "markers",
         "name": "Objective Value",
         "type": "scatter",
         "x": [
          0,
          1,
          2,
          3,
          4,
          5,
          6,
          7,
          8,
          9,
          10,
          11,
          12,
          13,
          14,
          15,
          16,
          17,
          18,
          19,
          20,
          21,
          22,
          23,
          24,
          25,
          26,
          27,
          28,
          29,
          30,
          31,
          32,
          33,
          34,
          35,
          36,
          37,
          38,
          39,
          40,
          41,
          42,
          43,
          44,
          45,
          46,
          47,
          48,
          49,
          50,
          51,
          52,
          53,
          54,
          55,
          56,
          57,
          58,
          59,
          60,
          61,
          62,
          63,
          64,
          65,
          66,
          67,
          68,
          69,
          70,
          71,
          72,
          73,
          74,
          75,
          76,
          77,
          78,
          79,
          80,
          81,
          82,
          83,
          84,
          85,
          86,
          87,
          88,
          89,
          90,
          91,
          92,
          93,
          94,
          95,
          96,
          97,
          98,
          99
         ],
         "y": [
          -0.8403614457831325,
          -0.8042168674698795,
          -0.8192771084337349,
          -0.8042168674698795,
          -0.8253012048192772,
          -0.8237951807228916,
          -0.8343373493975904,
          -0.8057228915662651,
          -0.8192771084337349,
          -0.8253012048192772,
          -0.8162650602409639,
          -0.8147590361445783,
          -0.8298192771084337,
          -0.8253012048192772,
          -0.8268072289156626,
          -0.8328313253012049,
          -0.8373493975903614,
          -0.7996987951807228,
          -0.8147590361445783,
          -0.8057228915662651,
          -0.8207831325301205,
          -0.8358433734939759,
          -0.8177710843373494,
          -0.8268072289156626,
          -0.8147590361445783,
          -0.8162650602409639,
          -0.8268072289156626,
          -0.8177710843373494,
          -0.8283132530120482,
          -0.7996987951807228,
          -0.8298192771084337,
          -0.8237951807228916,
          -0.8298192771084337,
          -0.8207831325301205,
          -0.8177710843373494,
          -0.8207831325301205,
          -0.8207831325301205,
          -0.8237951807228916,
          -0.802710843373494,
          -0.8237951807228916,
          -0.8117469879518072,
          -0.8343373493975904,
          -0.8237951807228916,
          -0.8313253012048193,
          -0.8298192771084337,
          -0.8403614457831325,
          -0.8433734939759037,
          -0.8418674698795181,
          -0.8373493975903614,
          -0.8433734939759037,
          -0.6581325301204819,
          -0.6566265060240963,
          -0.6581325301204819,
          -0.661144578313253,
          -0.6460843373493976,
          -0.6581325301204819,
          -0.6430722891566265,
          -0.6490963855421686,
          -0.608433734939759,
          -0.6656626506024096,
          -0.6641566265060241,
          -0.6536144578313253,
          -0.6475903614457831,
          -0.6536144578313253,
          -0.6295180722891566,
          -0.6566265060240963,
          -0.6506024096385542,
          -0.5978915662650602,
          -0.6506024096385542,
          -0.625,
          -0.6310240963855421,
          -0.6536144578313253,
          -0.6536144578313253,
          -0.6234939759036144,
          -0.6325301204819277,
          -0.6310240963855421,
          -0.6566265060240963,
          -0.6385542168674698,
          -0.6536144578313253,
          -0.6310240963855421,
          -0.6475903614457831,
          -0.6506024096385542,
          -0.6114457831325302,
          -0.6581325301204819,
          -0.6551204819277109,
          -0.6536144578313253,
          -0.6204819277108434,
          -0.6385542168674698,
          -0.6370481927710844,
          -0.6490963855421686,
          -0.6400602409638554,
          -0.6460843373493976,
          -0.6400602409638554,
          -0.6581325301204819,
          -0.6445783132530121,
          -0.6551204819277109,
          -0.641566265060241,
          -0.6536144578313253,
          -0.6445783132530121,
          -0.6521084337349398
         ]
        },
        {
         "mode": "lines",
         "name": "Best Value",
         "type": "scatter",
         "x": [
          0,
          1,
          2,
          3,
          4,
          5,
          6,
          7,
          8,
          9,
          10,
          11,
          12,
          13,
          14,
          15,
          16,
          17,
          18,
          19,
          20,
          21,
          22,
          23,
          24,
          25,
          26,
          27,
          28,
          29,
          30,
          31,
          32,
          33,
          34,
          35,
          36,
          37,
          38,
          39,
          40,
          41,
          42,
          43,
          44,
          45,
          46,
          47,
          48,
          49,
          50,
          51,
          52,
          53,
          54,
          55,
          56,
          57,
          58,
          59,
          60,
          61,
          62,
          63,
          64,
          65,
          66,
          67,
          68,
          69,
          70,
          71,
          72,
          73,
          74,
          75,
          76,
          77,
          78,
          79,
          80,
          81,
          82,
          83,
          84,
          85,
          86,
          87,
          88,
          89,
          90,
          91,
          92,
          93,
          94,
          95,
          96,
          97,
          98,
          99
         ],
         "y": [
          -0.8403614457831325,
          -0.8403614457831325,
          -0.8403614457831325,
          -0.8403614457831325,
          -0.8403614457831325,
          -0.8403614457831325,
          -0.8403614457831325,
          -0.8403614457831325,
          -0.8403614457831325,
          -0.8403614457831325,
          -0.8403614457831325,
          -0.8403614457831325,
          -0.8403614457831325,
          -0.8403614457831325,
          -0.8403614457831325,
          -0.8403614457831325,
          -0.8403614457831325,
          -0.8403614457831325,
          -0.8403614457831325,
          -0.8403614457831325,
          -0.8403614457831325,
          -0.8403614457831325,
          -0.8403614457831325,
          -0.8403614457831325,
          -0.8403614457831325,
          -0.8403614457831325,
          -0.8403614457831325,
          -0.8403614457831325,
          -0.8403614457831325,
          -0.8403614457831325,
          -0.8403614457831325,
          -0.8403614457831325,
          -0.8403614457831325,
          -0.8403614457831325,
          -0.8403614457831325,
          -0.8403614457831325,
          -0.8403614457831325,
          -0.8403614457831325,
          -0.8403614457831325,
          -0.8403614457831325,
          -0.8403614457831325,
          -0.8403614457831325,
          -0.8403614457831325,
          -0.8403614457831325,
          -0.8403614457831325,
          -0.8403614457831325,
          -0.8433734939759037,
          -0.8433734939759037,
          -0.8433734939759037,
          -0.8433734939759037,
          -0.8433734939759037,
          -0.8433734939759037,
          -0.8433734939759037,
          -0.8433734939759037,
          -0.8433734939759037,
          -0.8433734939759037,
          -0.8433734939759037,
          -0.8433734939759037,
          -0.8433734939759037,
          -0.8433734939759037,
          -0.8433734939759037,
          -0.8433734939759037,
          -0.8433734939759037,
          -0.8433734939759037,
          -0.8433734939759037,
          -0.8433734939759037,
          -0.8433734939759037,
          -0.8433734939759037,
          -0.8433734939759037,
          -0.8433734939759037,
          -0.8433734939759037,
          -0.8433734939759037,
          -0.8433734939759037,
          -0.8433734939759037,
          -0.8433734939759037,
          -0.8433734939759037,
          -0.8433734939759037,
          -0.8433734939759037,
          -0.8433734939759037,
          -0.8433734939759037,
          -0.8433734939759037,
          -0.8433734939759037,
          -0.8433734939759037,
          -0.8433734939759037,
          -0.8433734939759037,
          -0.8433734939759037,
          -0.8433734939759037,
          -0.8433734939759037,
          -0.8433734939759037,
          -0.8433734939759037,
          -0.8433734939759037,
          -0.8433734939759037,
          -0.8433734939759037,
          -0.8433734939759037,
          -0.8433734939759037,
          -0.8433734939759037,
          -0.8433734939759037,
          -0.8433734939759037,
          -0.8433734939759037,
          -0.8433734939759037
         ]
        },
        {
         "marker": {
          "color": "#cccccc"
         },
         "mode": "markers",
         "name": "Infeasible Trial",
         "showlegend": false,
         "type": "scatter",
         "x": [],
         "y": []
        }
       ],
       "layout": {
        "template": {
         "data": {
          "bar": [
           {
            "error_x": {
             "color": "#2a3f5f"
            },
            "error_y": {
             "color": "#2a3f5f"
            },
            "marker": {
             "line": {
              "color": "white",
              "width": 0.5
             },
             "pattern": {
              "fillmode": "overlay",
              "size": 10,
              "solidity": 0.2
             }
            },
            "type": "bar"
           }
          ],
          "barpolar": [
           {
            "marker": {
             "line": {
              "color": "white",
              "width": 0.5
             },
             "pattern": {
              "fillmode": "overlay",
              "size": 10,
              "solidity": 0.2
             }
            },
            "type": "barpolar"
           }
          ],
          "carpet": [
           {
            "aaxis": {
             "endlinecolor": "#2a3f5f",
             "gridcolor": "#C8D4E3",
             "linecolor": "#C8D4E3",
             "minorgridcolor": "#C8D4E3",
             "startlinecolor": "#2a3f5f"
            },
            "baxis": {
             "endlinecolor": "#2a3f5f",
             "gridcolor": "#C8D4E3",
             "linecolor": "#C8D4E3",
             "minorgridcolor": "#C8D4E3",
             "startlinecolor": "#2a3f5f"
            },
            "type": "carpet"
           }
          ],
          "choropleth": [
           {
            "colorbar": {
             "outlinewidth": 0,
             "ticks": ""
            },
            "type": "choropleth"
           }
          ],
          "contour": [
           {
            "colorbar": {
             "outlinewidth": 0,
             "ticks": ""
            },
            "colorscale": [
             [
              0,
              "#0d0887"
             ],
             [
              0.1111111111111111,
              "#46039f"
             ],
             [
              0.2222222222222222,
              "#7201a8"
             ],
             [
              0.3333333333333333,
              "#9c179e"
             ],
             [
              0.4444444444444444,
              "#bd3786"
             ],
             [
              0.5555555555555556,
              "#d8576b"
             ],
             [
              0.6666666666666666,
              "#ed7953"
             ],
             [
              0.7777777777777778,
              "#fb9f3a"
             ],
             [
              0.8888888888888888,
              "#fdca26"
             ],
             [
              1,
              "#f0f921"
             ]
            ],
            "type": "contour"
           }
          ],
          "contourcarpet": [
           {
            "colorbar": {
             "outlinewidth": 0,
             "ticks": ""
            },
            "type": "contourcarpet"
           }
          ],
          "heatmap": [
           {
            "colorbar": {
             "outlinewidth": 0,
             "ticks": ""
            },
            "colorscale": [
             [
              0,
              "#0d0887"
             ],
             [
              0.1111111111111111,
              "#46039f"
             ],
             [
              0.2222222222222222,
              "#7201a8"
             ],
             [
              0.3333333333333333,
              "#9c179e"
             ],
             [
              0.4444444444444444,
              "#bd3786"
             ],
             [
              0.5555555555555556,
              "#d8576b"
             ],
             [
              0.6666666666666666,
              "#ed7953"
             ],
             [
              0.7777777777777778,
              "#fb9f3a"
             ],
             [
              0.8888888888888888,
              "#fdca26"
             ],
             [
              1,
              "#f0f921"
             ]
            ],
            "type": "heatmap"
           }
          ],
          "histogram": [
           {
            "marker": {
             "pattern": {
              "fillmode": "overlay",
              "size": 10,
              "solidity": 0.2
             }
            },
            "type": "histogram"
           }
          ],
          "histogram2d": [
           {
            "colorbar": {
             "outlinewidth": 0,
             "ticks": ""
            },
            "colorscale": [
             [
              0,
              "#0d0887"
             ],
             [
              0.1111111111111111,
              "#46039f"
             ],
             [
              0.2222222222222222,
              "#7201a8"
             ],
             [
              0.3333333333333333,
              "#9c179e"
             ],
             [
              0.4444444444444444,
              "#bd3786"
             ],
             [
              0.5555555555555556,
              "#d8576b"
             ],
             [
              0.6666666666666666,
              "#ed7953"
             ],
             [
              0.7777777777777778,
              "#fb9f3a"
             ],
             [
              0.8888888888888888,
              "#fdca26"
             ],
             [
              1,
              "#f0f921"
             ]
            ],
            "type": "histogram2d"
           }
          ],
          "histogram2dcontour": [
           {
            "colorbar": {
             "outlinewidth": 0,
             "ticks": ""
            },
            "colorscale": [
             [
              0,
              "#0d0887"
             ],
             [
              0.1111111111111111,
              "#46039f"
             ],
             [
              0.2222222222222222,
              "#7201a8"
             ],
             [
              0.3333333333333333,
              "#9c179e"
             ],
             [
              0.4444444444444444,
              "#bd3786"
             ],
             [
              0.5555555555555556,
              "#d8576b"
             ],
             [
              0.6666666666666666,
              "#ed7953"
             ],
             [
              0.7777777777777778,
              "#fb9f3a"
             ],
             [
              0.8888888888888888,
              "#fdca26"
             ],
             [
              1,
              "#f0f921"
             ]
            ],
            "type": "histogram2dcontour"
           }
          ],
          "mesh3d": [
           {
            "colorbar": {
             "outlinewidth": 0,
             "ticks": ""
            },
            "type": "mesh3d"
           }
          ],
          "parcoords": [
           {
            "line": {
             "colorbar": {
              "outlinewidth": 0,
              "ticks": ""
             }
            },
            "type": "parcoords"
           }
          ],
          "pie": [
           {
            "automargin": true,
            "type": "pie"
           }
          ],
          "scatter": [
           {
            "fillpattern": {
             "fillmode": "overlay",
             "size": 10,
             "solidity": 0.2
            },
            "type": "scatter"
           }
          ],
          "scatter3d": [
           {
            "line": {
             "colorbar": {
              "outlinewidth": 0,
              "ticks": ""
             }
            },
            "marker": {
             "colorbar": {
              "outlinewidth": 0,
              "ticks": ""
             }
            },
            "type": "scatter3d"
           }
          ],
          "scattercarpet": [
           {
            "marker": {
             "colorbar": {
              "outlinewidth": 0,
              "ticks": ""
             }
            },
            "type": "scattercarpet"
           }
          ],
          "scattergeo": [
           {
            "marker": {
             "colorbar": {
              "outlinewidth": 0,
              "ticks": ""
             }
            },
            "type": "scattergeo"
           }
          ],
          "scattergl": [
           {
            "marker": {
             "colorbar": {
              "outlinewidth": 0,
              "ticks": ""
             }
            },
            "type": "scattergl"
           }
          ],
          "scattermap": [
           {
            "marker": {
             "colorbar": {
              "outlinewidth": 0,
              "ticks": ""
             }
            },
            "type": "scattermap"
           }
          ],
          "scattermapbox": [
           {
            "marker": {
             "colorbar": {
              "outlinewidth": 0,
              "ticks": ""
             }
            },
            "type": "scattermapbox"
           }
          ],
          "scatterpolar": [
           {
            "marker": {
             "colorbar": {
              "outlinewidth": 0,
              "ticks": ""
             }
            },
            "type": "scatterpolar"
           }
          ],
          "scatterpolargl": [
           {
            "marker": {
             "colorbar": {
              "outlinewidth": 0,
              "ticks": ""
             }
            },
            "type": "scatterpolargl"
           }
          ],
          "scatterternary": [
           {
            "marker": {
             "colorbar": {
              "outlinewidth": 0,
              "ticks": ""
             }
            },
            "type": "scatterternary"
           }
          ],
          "surface": [
           {
            "colorbar": {
             "outlinewidth": 0,
             "ticks": ""
            },
            "colorscale": [
             [
              0,
              "#0d0887"
             ],
             [
              0.1111111111111111,
              "#46039f"
             ],
             [
              0.2222222222222222,
              "#7201a8"
             ],
             [
              0.3333333333333333,
              "#9c179e"
             ],
             [
              0.4444444444444444,
              "#bd3786"
             ],
             [
              0.5555555555555556,
              "#d8576b"
             ],
             [
              0.6666666666666666,
              "#ed7953"
             ],
             [
              0.7777777777777778,
              "#fb9f3a"
             ],
             [
              0.8888888888888888,
              "#fdca26"
             ],
             [
              1,
              "#f0f921"
             ]
            ],
            "type": "surface"
           }
          ],
          "table": [
           {
            "cells": {
             "fill": {
              "color": "#EBF0F8"
             },
             "line": {
              "color": "white"
             }
            },
            "header": {
             "fill": {
              "color": "#C8D4E3"
             },
             "line": {
              "color": "white"
             }
            },
            "type": "table"
           }
          ]
         },
         "layout": {
          "annotationdefaults": {
           "arrowcolor": "#2a3f5f",
           "arrowhead": 0,
           "arrowwidth": 1
          },
          "autotypenumbers": "strict",
          "coloraxis": {
           "colorbar": {
            "outlinewidth": 0,
            "ticks": ""
           }
          },
          "colorscale": {
           "diverging": [
            [
             0,
             "#8e0152"
            ],
            [
             0.1,
             "#c51b7d"
            ],
            [
             0.2,
             "#de77ae"
            ],
            [
             0.3,
             "#f1b6da"
            ],
            [
             0.4,
             "#fde0ef"
            ],
            [
             0.5,
             "#f7f7f7"
            ],
            [
             0.6,
             "#e6f5d0"
            ],
            [
             0.7,
             "#b8e186"
            ],
            [
             0.8,
             "#7fbc41"
            ],
            [
             0.9,
             "#4d9221"
            ],
            [
             1,
             "#276419"
            ]
           ],
           "sequential": [
            [
             0,
             "#0d0887"
            ],
            [
             0.1111111111111111,
             "#46039f"
            ],
            [
             0.2222222222222222,
             "#7201a8"
            ],
            [
             0.3333333333333333,
             "#9c179e"
            ],
            [
             0.4444444444444444,
             "#bd3786"
            ],
            [
             0.5555555555555556,
             "#d8576b"
            ],
            [
             0.6666666666666666,
             "#ed7953"
            ],
            [
             0.7777777777777778,
             "#fb9f3a"
            ],
            [
             0.8888888888888888,
             "#fdca26"
            ],
            [
             1,
             "#f0f921"
            ]
           ],
           "sequentialminus": [
            [
             0,
             "#0d0887"
            ],
            [
             0.1111111111111111,
             "#46039f"
            ],
            [
             0.2222222222222222,
             "#7201a8"
            ],
            [
             0.3333333333333333,
             "#9c179e"
            ],
            [
             0.4444444444444444,
             "#bd3786"
            ],
            [
             0.5555555555555556,
             "#d8576b"
            ],
            [
             0.6666666666666666,
             "#ed7953"
            ],
            [
             0.7777777777777778,
             "#fb9f3a"
            ],
            [
             0.8888888888888888,
             "#fdca26"
            ],
            [
             1,
             "#f0f921"
            ]
           ]
          },
          "colorway": [
           "#636efa",
           "#EF553B",
           "#00cc96",
           "#ab63fa",
           "#FFA15A",
           "#19d3f3",
           "#FF6692",
           "#B6E880",
           "#FF97FF",
           "#FECB52"
          ],
          "font": {
           "color": "#2a3f5f"
          },
          "geo": {
           "bgcolor": "white",
           "lakecolor": "white",
           "landcolor": "white",
           "showlakes": true,
           "showland": true,
           "subunitcolor": "#C8D4E3"
          },
          "hoverlabel": {
           "align": "left"
          },
          "hovermode": "closest",
          "mapbox": {
           "style": "light"
          },
          "paper_bgcolor": "white",
          "plot_bgcolor": "white",
          "polar": {
           "angularaxis": {
            "gridcolor": "#EBF0F8",
            "linecolor": "#EBF0F8",
            "ticks": ""
           },
           "bgcolor": "white",
           "radialaxis": {
            "gridcolor": "#EBF0F8",
            "linecolor": "#EBF0F8",
            "ticks": ""
           }
          },
          "scene": {
           "xaxis": {
            "backgroundcolor": "white",
            "gridcolor": "#DFE8F3",
            "gridwidth": 2,
            "linecolor": "#EBF0F8",
            "showbackground": true,
            "ticks": "",
            "zerolinecolor": "#EBF0F8"
           },
           "yaxis": {
            "backgroundcolor": "white",
            "gridcolor": "#DFE8F3",
            "gridwidth": 2,
            "linecolor": "#EBF0F8",
            "showbackground": true,
            "ticks": "",
            "zerolinecolor": "#EBF0F8"
           },
           "zaxis": {
            "backgroundcolor": "white",
            "gridcolor": "#DFE8F3",
            "gridwidth": 2,
            "linecolor": "#EBF0F8",
            "showbackground": true,
            "ticks": "",
            "zerolinecolor": "#EBF0F8"
           }
          },
          "shapedefaults": {
           "line": {
            "color": "#2a3f5f"
           }
          },
          "ternary": {
           "aaxis": {
            "gridcolor": "#DFE8F3",
            "linecolor": "#A2B1C6",
            "ticks": ""
           },
           "baxis": {
            "gridcolor": "#DFE8F3",
            "linecolor": "#A2B1C6",
            "ticks": ""
           },
           "bgcolor": "white",
           "caxis": {
            "gridcolor": "#DFE8F3",
            "linecolor": "#A2B1C6",
            "ticks": ""
           }
          },
          "title": {
           "x": 0.05
          },
          "xaxis": {
           "automargin": true,
           "gridcolor": "#EBF0F8",
           "linecolor": "#EBF0F8",
           "ticks": "",
           "title": {
            "standoff": 15
           },
           "zerolinecolor": "#EBF0F8",
           "zerolinewidth": 2
          },
          "yaxis": {
           "automargin": true,
           "gridcolor": "#EBF0F8",
           "linecolor": "#EBF0F8",
           "ticks": "",
           "title": {
            "standoff": 15
           },
           "zerolinecolor": "#EBF0F8",
           "zerolinewidth": 2
          }
         }
        },
        "title": {
         "text": "Optimization History Plot"
        },
        "xaxis": {
         "title": {
          "text": "Trial"
         }
        },
        "yaxis": {
         "title": {
          "text": "Objective Value"
         }
        }
       }
      }
     },
     "metadata": {},
     "output_type": "display_data"
    },
    {
     "data": {
      "application/vnd.plotly.v1+json": {
       "config": {
        "plotlyServerURL": "https://plot.ly"
       },
       "data": [
        {
         "cliponaxis": false,
         "hovertemplate": [
          "reg_alpha (FloatDistribution): 0.04490107881813079<extra></extra>",
          "min_child_weight (IntDistribution): 0.061948517005698985<extra></extra>",
          "max_depth (IntDistribution): 0.08842314147546794<extra></extra>",
          "colsample_bytree (FloatDistribution): 0.11988960959581507<extra></extra>",
          "learning_rate (FloatDistribution): 0.12075993002450224<extra></extra>",
          "reg_lambda (FloatDistribution): 0.12118552936810884<extra></extra>",
          "n_estimators (IntDistribution): 0.18354527194528608<extra></extra>",
          "subsample (FloatDistribution): 0.25934692176699<extra></extra>"
         ],
         "name": "Objective Value",
         "orientation": "h",
         "text": [
          "0.04",
          "0.06",
          "0.09",
          "0.12",
          "0.12",
          "0.12",
          "0.18",
          "0.26"
         ],
         "textposition": "outside",
         "type": "bar",
         "x": [
          0.04490107881813079,
          0.061948517005698985,
          0.08842314147546794,
          0.11988960959581507,
          0.12075993002450224,
          0.12118552936810884,
          0.18354527194528608,
          0.25934692176699
         ],
         "y": [
          "reg_alpha",
          "min_child_weight",
          "max_depth",
          "colsample_bytree",
          "learning_rate",
          "reg_lambda",
          "n_estimators",
          "subsample"
         ]
        }
       ],
       "layout": {
        "template": {
         "data": {
          "bar": [
           {
            "error_x": {
             "color": "#2a3f5f"
            },
            "error_y": {
             "color": "#2a3f5f"
            },
            "marker": {
             "line": {
              "color": "white",
              "width": 0.5
             },
             "pattern": {
              "fillmode": "overlay",
              "size": 10,
              "solidity": 0.2
             }
            },
            "type": "bar"
           }
          ],
          "barpolar": [
           {
            "marker": {
             "line": {
              "color": "white",
              "width": 0.5
             },
             "pattern": {
              "fillmode": "overlay",
              "size": 10,
              "solidity": 0.2
             }
            },
            "type": "barpolar"
           }
          ],
          "carpet": [
           {
            "aaxis": {
             "endlinecolor": "#2a3f5f",
             "gridcolor": "#C8D4E3",
             "linecolor": "#C8D4E3",
             "minorgridcolor": "#C8D4E3",
             "startlinecolor": "#2a3f5f"
            },
            "baxis": {
             "endlinecolor": "#2a3f5f",
             "gridcolor": "#C8D4E3",
             "linecolor": "#C8D4E3",
             "minorgridcolor": "#C8D4E3",
             "startlinecolor": "#2a3f5f"
            },
            "type": "carpet"
           }
          ],
          "choropleth": [
           {
            "colorbar": {
             "outlinewidth": 0,
             "ticks": ""
            },
            "type": "choropleth"
           }
          ],
          "contour": [
           {
            "colorbar": {
             "outlinewidth": 0,
             "ticks": ""
            },
            "colorscale": [
             [
              0,
              "#0d0887"
             ],
             [
              0.1111111111111111,
              "#46039f"
             ],
             [
              0.2222222222222222,
              "#7201a8"
             ],
             [
              0.3333333333333333,
              "#9c179e"
             ],
             [
              0.4444444444444444,
              "#bd3786"
             ],
             [
              0.5555555555555556,
              "#d8576b"
             ],
             [
              0.6666666666666666,
              "#ed7953"
             ],
             [
              0.7777777777777778,
              "#fb9f3a"
             ],
             [
              0.8888888888888888,
              "#fdca26"
             ],
             [
              1,
              "#f0f921"
             ]
            ],
            "type": "contour"
           }
          ],
          "contourcarpet": [
           {
            "colorbar": {
             "outlinewidth": 0,
             "ticks": ""
            },
            "type": "contourcarpet"
           }
          ],
          "heatmap": [
           {
            "colorbar": {
             "outlinewidth": 0,
             "ticks": ""
            },
            "colorscale": [
             [
              0,
              "#0d0887"
             ],
             [
              0.1111111111111111,
              "#46039f"
             ],
             [
              0.2222222222222222,
              "#7201a8"
             ],
             [
              0.3333333333333333,
              "#9c179e"
             ],
             [
              0.4444444444444444,
              "#bd3786"
             ],
             [
              0.5555555555555556,
              "#d8576b"
             ],
             [
              0.6666666666666666,
              "#ed7953"
             ],
             [
              0.7777777777777778,
              "#fb9f3a"
             ],
             [
              0.8888888888888888,
              "#fdca26"
             ],
             [
              1,
              "#f0f921"
             ]
            ],
            "type": "heatmap"
           }
          ],
          "histogram": [
           {
            "marker": {
             "pattern": {
              "fillmode": "overlay",
              "size": 10,
              "solidity": 0.2
             }
            },
            "type": "histogram"
           }
          ],
          "histogram2d": [
           {
            "colorbar": {
             "outlinewidth": 0,
             "ticks": ""
            },
            "colorscale": [
             [
              0,
              "#0d0887"
             ],
             [
              0.1111111111111111,
              "#46039f"
             ],
             [
              0.2222222222222222,
              "#7201a8"
             ],
             [
              0.3333333333333333,
              "#9c179e"
             ],
             [
              0.4444444444444444,
              "#bd3786"
             ],
             [
              0.5555555555555556,
              "#d8576b"
             ],
             [
              0.6666666666666666,
              "#ed7953"
             ],
             [
              0.7777777777777778,
              "#fb9f3a"
             ],
             [
              0.8888888888888888,
              "#fdca26"
             ],
             [
              1,
              "#f0f921"
             ]
            ],
            "type": "histogram2d"
           }
          ],
          "histogram2dcontour": [
           {
            "colorbar": {
             "outlinewidth": 0,
             "ticks": ""
            },
            "colorscale": [
             [
              0,
              "#0d0887"
             ],
             [
              0.1111111111111111,
              "#46039f"
             ],
             [
              0.2222222222222222,
              "#7201a8"
             ],
             [
              0.3333333333333333,
              "#9c179e"
             ],
             [
              0.4444444444444444,
              "#bd3786"
             ],
             [
              0.5555555555555556,
              "#d8576b"
             ],
             [
              0.6666666666666666,
              "#ed7953"
             ],
             [
              0.7777777777777778,
              "#fb9f3a"
             ],
             [
              0.8888888888888888,
              "#fdca26"
             ],
             [
              1,
              "#f0f921"
             ]
            ],
            "type": "histogram2dcontour"
           }
          ],
          "mesh3d": [
           {
            "colorbar": {
             "outlinewidth": 0,
             "ticks": ""
            },
            "type": "mesh3d"
           }
          ],
          "parcoords": [
           {
            "line": {
             "colorbar": {
              "outlinewidth": 0,
              "ticks": ""
             }
            },
            "type": "parcoords"
           }
          ],
          "pie": [
           {
            "automargin": true,
            "type": "pie"
           }
          ],
          "scatter": [
           {
            "fillpattern": {
             "fillmode": "overlay",
             "size": 10,
             "solidity": 0.2
            },
            "type": "scatter"
           }
          ],
          "scatter3d": [
           {
            "line": {
             "colorbar": {
              "outlinewidth": 0,
              "ticks": ""
             }
            },
            "marker": {
             "colorbar": {
              "outlinewidth": 0,
              "ticks": ""
             }
            },
            "type": "scatter3d"
           }
          ],
          "scattercarpet": [
           {
            "marker": {
             "colorbar": {
              "outlinewidth": 0,
              "ticks": ""
             }
            },
            "type": "scattercarpet"
           }
          ],
          "scattergeo": [
           {
            "marker": {
             "colorbar": {
              "outlinewidth": 0,
              "ticks": ""
             }
            },
            "type": "scattergeo"
           }
          ],
          "scattergl": [
           {
            "marker": {
             "colorbar": {
              "outlinewidth": 0,
              "ticks": ""
             }
            },
            "type": "scattergl"
           }
          ],
          "scattermap": [
           {
            "marker": {
             "colorbar": {
              "outlinewidth": 0,
              "ticks": ""
             }
            },
            "type": "scattermap"
           }
          ],
          "scattermapbox": [
           {
            "marker": {
             "colorbar": {
              "outlinewidth": 0,
              "ticks": ""
             }
            },
            "type": "scattermapbox"
           }
          ],
          "scatterpolar": [
           {
            "marker": {
             "colorbar": {
              "outlinewidth": 0,
              "ticks": ""
             }
            },
            "type": "scatterpolar"
           }
          ],
          "scatterpolargl": [
           {
            "marker": {
             "colorbar": {
              "outlinewidth": 0,
              "ticks": ""
             }
            },
            "type": "scatterpolargl"
           }
          ],
          "scatterternary": [
           {
            "marker": {
             "colorbar": {
              "outlinewidth": 0,
              "ticks": ""
             }
            },
            "type": "scatterternary"
           }
          ],
          "surface": [
           {
            "colorbar": {
             "outlinewidth": 0,
             "ticks": ""
            },
            "colorscale": [
             [
              0,
              "#0d0887"
             ],
             [
              0.1111111111111111,
              "#46039f"
             ],
             [
              0.2222222222222222,
              "#7201a8"
             ],
             [
              0.3333333333333333,
              "#9c179e"
             ],
             [
              0.4444444444444444,
              "#bd3786"
             ],
             [
              0.5555555555555556,
              "#d8576b"
             ],
             [
              0.6666666666666666,
              "#ed7953"
             ],
             [
              0.7777777777777778,
              "#fb9f3a"
             ],
             [
              0.8888888888888888,
              "#fdca26"
             ],
             [
              1,
              "#f0f921"
             ]
            ],
            "type": "surface"
           }
          ],
          "table": [
           {
            "cells": {
             "fill": {
              "color": "#EBF0F8"
             },
             "line": {
              "color": "white"
             }
            },
            "header": {
             "fill": {
              "color": "#C8D4E3"
             },
             "line": {
              "color": "white"
             }
            },
            "type": "table"
           }
          ]
         },
         "layout": {
          "annotationdefaults": {
           "arrowcolor": "#2a3f5f",
           "arrowhead": 0,
           "arrowwidth": 1
          },
          "autotypenumbers": "strict",
          "coloraxis": {
           "colorbar": {
            "outlinewidth": 0,
            "ticks": ""
           }
          },
          "colorscale": {
           "diverging": [
            [
             0,
             "#8e0152"
            ],
            [
             0.1,
             "#c51b7d"
            ],
            [
             0.2,
             "#de77ae"
            ],
            [
             0.3,
             "#f1b6da"
            ],
            [
             0.4,
             "#fde0ef"
            ],
            [
             0.5,
             "#f7f7f7"
            ],
            [
             0.6,
             "#e6f5d0"
            ],
            [
             0.7,
             "#b8e186"
            ],
            [
             0.8,
             "#7fbc41"
            ],
            [
             0.9,
             "#4d9221"
            ],
            [
             1,
             "#276419"
            ]
           ],
           "sequential": [
            [
             0,
             "#0d0887"
            ],
            [
             0.1111111111111111,
             "#46039f"
            ],
            [
             0.2222222222222222,
             "#7201a8"
            ],
            [
             0.3333333333333333,
             "#9c179e"
            ],
            [
             0.4444444444444444,
             "#bd3786"
            ],
            [
             0.5555555555555556,
             "#d8576b"
            ],
            [
             0.6666666666666666,
             "#ed7953"
            ],
            [
             0.7777777777777778,
             "#fb9f3a"
            ],
            [
             0.8888888888888888,
             "#fdca26"
            ],
            [
             1,
             "#f0f921"
            ]
           ],
           "sequentialminus": [
            [
             0,
             "#0d0887"
            ],
            [
             0.1111111111111111,
             "#46039f"
            ],
            [
             0.2222222222222222,
             "#7201a8"
            ],
            [
             0.3333333333333333,
             "#9c179e"
            ],
            [
             0.4444444444444444,
             "#bd3786"
            ],
            [
             0.5555555555555556,
             "#d8576b"
            ],
            [
             0.6666666666666666,
             "#ed7953"
            ],
            [
             0.7777777777777778,
             "#fb9f3a"
            ],
            [
             0.8888888888888888,
             "#fdca26"
            ],
            [
             1,
             "#f0f921"
            ]
           ]
          },
          "colorway": [
           "#636efa",
           "#EF553B",
           "#00cc96",
           "#ab63fa",
           "#FFA15A",
           "#19d3f3",
           "#FF6692",
           "#B6E880",
           "#FF97FF",
           "#FECB52"
          ],
          "font": {
           "color": "#2a3f5f"
          },
          "geo": {
           "bgcolor": "white",
           "lakecolor": "white",
           "landcolor": "white",
           "showlakes": true,
           "showland": true,
           "subunitcolor": "#C8D4E3"
          },
          "hoverlabel": {
           "align": "left"
          },
          "hovermode": "closest",
          "mapbox": {
           "style": "light"
          },
          "paper_bgcolor": "white",
          "plot_bgcolor": "white",
          "polar": {
           "angularaxis": {
            "gridcolor": "#EBF0F8",
            "linecolor": "#EBF0F8",
            "ticks": ""
           },
           "bgcolor": "white",
           "radialaxis": {
            "gridcolor": "#EBF0F8",
            "linecolor": "#EBF0F8",
            "ticks": ""
           }
          },
          "scene": {
           "xaxis": {
            "backgroundcolor": "white",
            "gridcolor": "#DFE8F3",
            "gridwidth": 2,
            "linecolor": "#EBF0F8",
            "showbackground": true,
            "ticks": "",
            "zerolinecolor": "#EBF0F8"
           },
           "yaxis": {
            "backgroundcolor": "white",
            "gridcolor": "#DFE8F3",
            "gridwidth": 2,
            "linecolor": "#EBF0F8",
            "showbackground": true,
            "ticks": "",
            "zerolinecolor": "#EBF0F8"
           },
           "zaxis": {
            "backgroundcolor": "white",
            "gridcolor": "#DFE8F3",
            "gridwidth": 2,
            "linecolor": "#EBF0F8",
            "showbackground": true,
            "ticks": "",
            "zerolinecolor": "#EBF0F8"
           }
          },
          "shapedefaults": {
           "line": {
            "color": "#2a3f5f"
           }
          },
          "ternary": {
           "aaxis": {
            "gridcolor": "#DFE8F3",
            "linecolor": "#A2B1C6",
            "ticks": ""
           },
           "baxis": {
            "gridcolor": "#DFE8F3",
            "linecolor": "#A2B1C6",
            "ticks": ""
           },
           "bgcolor": "white",
           "caxis": {
            "gridcolor": "#DFE8F3",
            "linecolor": "#A2B1C6",
            "ticks": ""
           }
          },
          "title": {
           "x": 0.05
          },
          "xaxis": {
           "automargin": true,
           "gridcolor": "#EBF0F8",
           "linecolor": "#EBF0F8",
           "ticks": "",
           "title": {
            "standoff": 15
           },
           "zerolinecolor": "#EBF0F8",
           "zerolinewidth": 2
          },
          "yaxis": {
           "automargin": true,
           "gridcolor": "#EBF0F8",
           "linecolor": "#EBF0F8",
           "ticks": "",
           "title": {
            "standoff": 15
           },
           "zerolinecolor": "#EBF0F8",
           "zerolinewidth": 2
          }
         }
        },
        "title": {
         "text": "Hyperparameter Importances"
        },
        "xaxis": {
         "title": {
          "text": "Hyperparameter Importance"
         }
        },
        "yaxis": {
         "title": {
          "text": "Hyperparameter"
         }
        }
       }
      }
     },
     "metadata": {},
     "output_type": "display_data"
    }
   ],
   "source": [
    "# Visualize optimization results\n",
    "fig = optuna.visualization.plot_optimization_history(study)\n",
    "fig.show()\n",
    "\n",
    "fig = optuna.visualization.plot_param_importances(study)\n",
    "fig.show()\n"
   ]
  },
  {
   "cell_type": "markdown",
   "id": "e5eee80f",
   "metadata": {},
   "source": [
    "## 5. Training with Optimized Model\n"
   ]
  },
  {
   "cell_type": "code",
   "execution_count": 15,
   "id": "7854b82f",
   "metadata": {},
   "outputs": [
    {
     "name": "stdout",
     "output_type": "stream",
     "text": [
      "Training optimized model...\n"
     ]
    },
    {
     "data": {
      "text/html": [
       "<style>#sk-container-id-2 {\n",
       "  /* Definition of color scheme common for light and dark mode */\n",
       "  --sklearn-color-text: #000;\n",
       "  --sklearn-color-text-muted: #666;\n",
       "  --sklearn-color-line: gray;\n",
       "  /* Definition of color scheme for unfitted estimators */\n",
       "  --sklearn-color-unfitted-level-0: #fff5e6;\n",
       "  --sklearn-color-unfitted-level-1: #f6e4d2;\n",
       "  --sklearn-color-unfitted-level-2: #ffe0b3;\n",
       "  --sklearn-color-unfitted-level-3: chocolate;\n",
       "  /* Definition of color scheme for fitted estimators */\n",
       "  --sklearn-color-fitted-level-0: #f0f8ff;\n",
       "  --sklearn-color-fitted-level-1: #d4ebff;\n",
       "  --sklearn-color-fitted-level-2: #b3dbfd;\n",
       "  --sklearn-color-fitted-level-3: cornflowerblue;\n",
       "\n",
       "  /* Specific color for light theme */\n",
       "  --sklearn-color-text-on-default-background: var(--sg-text-color, var(--theme-code-foreground, var(--jp-content-font-color1, black)));\n",
       "  --sklearn-color-background: var(--sg-background-color, var(--theme-background, var(--jp-layout-color0, white)));\n",
       "  --sklearn-color-border-box: var(--sg-text-color, var(--theme-code-foreground, var(--jp-content-font-color1, black)));\n",
       "  --sklearn-color-icon: #696969;\n",
       "\n",
       "  @media (prefers-color-scheme: dark) {\n",
       "    /* Redefinition of color scheme for dark theme */\n",
       "    --sklearn-color-text-on-default-background: var(--sg-text-color, var(--theme-code-foreground, var(--jp-content-font-color1, white)));\n",
       "    --sklearn-color-background: var(--sg-background-color, var(--theme-background, var(--jp-layout-color0, #111)));\n",
       "    --sklearn-color-border-box: var(--sg-text-color, var(--theme-code-foreground, var(--jp-content-font-color1, white)));\n",
       "    --sklearn-color-icon: #878787;\n",
       "  }\n",
       "}\n",
       "\n",
       "#sk-container-id-2 {\n",
       "  color: var(--sklearn-color-text);\n",
       "}\n",
       "\n",
       "#sk-container-id-2 pre {\n",
       "  padding: 0;\n",
       "}\n",
       "\n",
       "#sk-container-id-2 input.sk-hidden--visually {\n",
       "  border: 0;\n",
       "  clip: rect(1px 1px 1px 1px);\n",
       "  clip: rect(1px, 1px, 1px, 1px);\n",
       "  height: 1px;\n",
       "  margin: -1px;\n",
       "  overflow: hidden;\n",
       "  padding: 0;\n",
       "  position: absolute;\n",
       "  width: 1px;\n",
       "}\n",
       "\n",
       "#sk-container-id-2 div.sk-dashed-wrapped {\n",
       "  border: 1px dashed var(--sklearn-color-line);\n",
       "  margin: 0 0.4em 0.5em 0.4em;\n",
       "  box-sizing: border-box;\n",
       "  padding-bottom: 0.4em;\n",
       "  background-color: var(--sklearn-color-background);\n",
       "}\n",
       "\n",
       "#sk-container-id-2 div.sk-container {\n",
       "  /* jupyter's `normalize.less` sets `[hidden] { display: none; }`\n",
       "     but bootstrap.min.css set `[hidden] { display: none !important; }`\n",
       "     so we also need the `!important` here to be able to override the\n",
       "     default hidden behavior on the sphinx rendered scikit-learn.org.\n",
       "     See: https://github.com/scikit-learn/scikit-learn/issues/21755 */\n",
       "  display: inline-block !important;\n",
       "  position: relative;\n",
       "}\n",
       "\n",
       "#sk-container-id-2 div.sk-text-repr-fallback {\n",
       "  display: none;\n",
       "}\n",
       "\n",
       "div.sk-parallel-item,\n",
       "div.sk-serial,\n",
       "div.sk-item {\n",
       "  /* draw centered vertical line to link estimators */\n",
       "  background-image: linear-gradient(var(--sklearn-color-text-on-default-background), var(--sklearn-color-text-on-default-background));\n",
       "  background-size: 2px 100%;\n",
       "  background-repeat: no-repeat;\n",
       "  background-position: center center;\n",
       "}\n",
       "\n",
       "/* Parallel-specific style estimator block */\n",
       "\n",
       "#sk-container-id-2 div.sk-parallel-item::after {\n",
       "  content: \"\";\n",
       "  width: 100%;\n",
       "  border-bottom: 2px solid var(--sklearn-color-text-on-default-background);\n",
       "  flex-grow: 1;\n",
       "}\n",
       "\n",
       "#sk-container-id-2 div.sk-parallel {\n",
       "  display: flex;\n",
       "  align-items: stretch;\n",
       "  justify-content: center;\n",
       "  background-color: var(--sklearn-color-background);\n",
       "  position: relative;\n",
       "}\n",
       "\n",
       "#sk-container-id-2 div.sk-parallel-item {\n",
       "  display: flex;\n",
       "  flex-direction: column;\n",
       "}\n",
       "\n",
       "#sk-container-id-2 div.sk-parallel-item:first-child::after {\n",
       "  align-self: flex-end;\n",
       "  width: 50%;\n",
       "}\n",
       "\n",
       "#sk-container-id-2 div.sk-parallel-item:last-child::after {\n",
       "  align-self: flex-start;\n",
       "  width: 50%;\n",
       "}\n",
       "\n",
       "#sk-container-id-2 div.sk-parallel-item:only-child::after {\n",
       "  width: 0;\n",
       "}\n",
       "\n",
       "/* Serial-specific style estimator block */\n",
       "\n",
       "#sk-container-id-2 div.sk-serial {\n",
       "  display: flex;\n",
       "  flex-direction: column;\n",
       "  align-items: center;\n",
       "  background-color: var(--sklearn-color-background);\n",
       "  padding-right: 1em;\n",
       "  padding-left: 1em;\n",
       "}\n",
       "\n",
       "\n",
       "/* Toggleable style: style used for estimator/Pipeline/ColumnTransformer box that is\n",
       "clickable and can be expanded/collapsed.\n",
       "- Pipeline and ColumnTransformer use this feature and define the default style\n",
       "- Estimators will overwrite some part of the style using the `sk-estimator` class\n",
       "*/\n",
       "\n",
       "/* Pipeline and ColumnTransformer style (default) */\n",
       "\n",
       "#sk-container-id-2 div.sk-toggleable {\n",
       "  /* Default theme specific background. It is overwritten whether we have a\n",
       "  specific estimator or a Pipeline/ColumnTransformer */\n",
       "  background-color: var(--sklearn-color-background);\n",
       "}\n",
       "\n",
       "/* Toggleable label */\n",
       "#sk-container-id-2 label.sk-toggleable__label {\n",
       "  cursor: pointer;\n",
       "  display: flex;\n",
       "  width: 100%;\n",
       "  margin-bottom: 0;\n",
       "  padding: 0.5em;\n",
       "  box-sizing: border-box;\n",
       "  text-align: center;\n",
       "  align-items: start;\n",
       "  justify-content: space-between;\n",
       "  gap: 0.5em;\n",
       "}\n",
       "\n",
       "#sk-container-id-2 label.sk-toggleable__label .caption {\n",
       "  font-size: 0.6rem;\n",
       "  font-weight: lighter;\n",
       "  color: var(--sklearn-color-text-muted);\n",
       "}\n",
       "\n",
       "#sk-container-id-2 label.sk-toggleable__label-arrow:before {\n",
       "  /* Arrow on the left of the label */\n",
       "  content: \"▸\";\n",
       "  float: left;\n",
       "  margin-right: 0.25em;\n",
       "  color: var(--sklearn-color-icon);\n",
       "}\n",
       "\n",
       "#sk-container-id-2 label.sk-toggleable__label-arrow:hover:before {\n",
       "  color: var(--sklearn-color-text);\n",
       "}\n",
       "\n",
       "/* Toggleable content - dropdown */\n",
       "\n",
       "#sk-container-id-2 div.sk-toggleable__content {\n",
       "  max-height: 0;\n",
       "  max-width: 0;\n",
       "  overflow: hidden;\n",
       "  text-align: left;\n",
       "  /* unfitted */\n",
       "  background-color: var(--sklearn-color-unfitted-level-0);\n",
       "}\n",
       "\n",
       "#sk-container-id-2 div.sk-toggleable__content.fitted {\n",
       "  /* fitted */\n",
       "  background-color: var(--sklearn-color-fitted-level-0);\n",
       "}\n",
       "\n",
       "#sk-container-id-2 div.sk-toggleable__content pre {\n",
       "  margin: 0.2em;\n",
       "  border-radius: 0.25em;\n",
       "  color: var(--sklearn-color-text);\n",
       "  /* unfitted */\n",
       "  background-color: var(--sklearn-color-unfitted-level-0);\n",
       "}\n",
       "\n",
       "#sk-container-id-2 div.sk-toggleable__content.fitted pre {\n",
       "  /* unfitted */\n",
       "  background-color: var(--sklearn-color-fitted-level-0);\n",
       "}\n",
       "\n",
       "#sk-container-id-2 input.sk-toggleable__control:checked~div.sk-toggleable__content {\n",
       "  /* Expand drop-down */\n",
       "  max-height: 200px;\n",
       "  max-width: 100%;\n",
       "  overflow: auto;\n",
       "}\n",
       "\n",
       "#sk-container-id-2 input.sk-toggleable__control:checked~label.sk-toggleable__label-arrow:before {\n",
       "  content: \"▾\";\n",
       "}\n",
       "\n",
       "/* Pipeline/ColumnTransformer-specific style */\n",
       "\n",
       "#sk-container-id-2 div.sk-label input.sk-toggleable__control:checked~label.sk-toggleable__label {\n",
       "  color: var(--sklearn-color-text);\n",
       "  background-color: var(--sklearn-color-unfitted-level-2);\n",
       "}\n",
       "\n",
       "#sk-container-id-2 div.sk-label.fitted input.sk-toggleable__control:checked~label.sk-toggleable__label {\n",
       "  background-color: var(--sklearn-color-fitted-level-2);\n",
       "}\n",
       "\n",
       "/* Estimator-specific style */\n",
       "\n",
       "/* Colorize estimator box */\n",
       "#sk-container-id-2 div.sk-estimator input.sk-toggleable__control:checked~label.sk-toggleable__label {\n",
       "  /* unfitted */\n",
       "  background-color: var(--sklearn-color-unfitted-level-2);\n",
       "}\n",
       "\n",
       "#sk-container-id-2 div.sk-estimator.fitted input.sk-toggleable__control:checked~label.sk-toggleable__label {\n",
       "  /* fitted */\n",
       "  background-color: var(--sklearn-color-fitted-level-2);\n",
       "}\n",
       "\n",
       "#sk-container-id-2 div.sk-label label.sk-toggleable__label,\n",
       "#sk-container-id-2 div.sk-label label {\n",
       "  /* The background is the default theme color */\n",
       "  color: var(--sklearn-color-text-on-default-background);\n",
       "}\n",
       "\n",
       "/* On hover, darken the color of the background */\n",
       "#sk-container-id-2 div.sk-label:hover label.sk-toggleable__label {\n",
       "  color: var(--sklearn-color-text);\n",
       "  background-color: var(--sklearn-color-unfitted-level-2);\n",
       "}\n",
       "\n",
       "/* Label box, darken color on hover, fitted */\n",
       "#sk-container-id-2 div.sk-label.fitted:hover label.sk-toggleable__label.fitted {\n",
       "  color: var(--sklearn-color-text);\n",
       "  background-color: var(--sklearn-color-fitted-level-2);\n",
       "}\n",
       "\n",
       "/* Estimator label */\n",
       "\n",
       "#sk-container-id-2 div.sk-label label {\n",
       "  font-family: monospace;\n",
       "  font-weight: bold;\n",
       "  display: inline-block;\n",
       "  line-height: 1.2em;\n",
       "}\n",
       "\n",
       "#sk-container-id-2 div.sk-label-container {\n",
       "  text-align: center;\n",
       "}\n",
       "\n",
       "/* Estimator-specific */\n",
       "#sk-container-id-2 div.sk-estimator {\n",
       "  font-family: monospace;\n",
       "  border: 1px dotted var(--sklearn-color-border-box);\n",
       "  border-radius: 0.25em;\n",
       "  box-sizing: border-box;\n",
       "  margin-bottom: 0.5em;\n",
       "  /* unfitted */\n",
       "  background-color: var(--sklearn-color-unfitted-level-0);\n",
       "}\n",
       "\n",
       "#sk-container-id-2 div.sk-estimator.fitted {\n",
       "  /* fitted */\n",
       "  background-color: var(--sklearn-color-fitted-level-0);\n",
       "}\n",
       "\n",
       "/* on hover */\n",
       "#sk-container-id-2 div.sk-estimator:hover {\n",
       "  /* unfitted */\n",
       "  background-color: var(--sklearn-color-unfitted-level-2);\n",
       "}\n",
       "\n",
       "#sk-container-id-2 div.sk-estimator.fitted:hover {\n",
       "  /* fitted */\n",
       "  background-color: var(--sklearn-color-fitted-level-2);\n",
       "}\n",
       "\n",
       "/* Specification for estimator info (e.g. \"i\" and \"?\") */\n",
       "\n",
       "/* Common style for \"i\" and \"?\" */\n",
       "\n",
       ".sk-estimator-doc-link,\n",
       "a:link.sk-estimator-doc-link,\n",
       "a:visited.sk-estimator-doc-link {\n",
       "  float: right;\n",
       "  font-size: smaller;\n",
       "  line-height: 1em;\n",
       "  font-family: monospace;\n",
       "  background-color: var(--sklearn-color-background);\n",
       "  border-radius: 1em;\n",
       "  height: 1em;\n",
       "  width: 1em;\n",
       "  text-decoration: none !important;\n",
       "  margin-left: 0.5em;\n",
       "  text-align: center;\n",
       "  /* unfitted */\n",
       "  border: var(--sklearn-color-unfitted-level-1) 1pt solid;\n",
       "  color: var(--sklearn-color-unfitted-level-1);\n",
       "}\n",
       "\n",
       ".sk-estimator-doc-link.fitted,\n",
       "a:link.sk-estimator-doc-link.fitted,\n",
       "a:visited.sk-estimator-doc-link.fitted {\n",
       "  /* fitted */\n",
       "  border: var(--sklearn-color-fitted-level-1) 1pt solid;\n",
       "  color: var(--sklearn-color-fitted-level-1);\n",
       "}\n",
       "\n",
       "/* On hover */\n",
       "div.sk-estimator:hover .sk-estimator-doc-link:hover,\n",
       ".sk-estimator-doc-link:hover,\n",
       "div.sk-label-container:hover .sk-estimator-doc-link:hover,\n",
       ".sk-estimator-doc-link:hover {\n",
       "  /* unfitted */\n",
       "  background-color: var(--sklearn-color-unfitted-level-3);\n",
       "  color: var(--sklearn-color-background);\n",
       "  text-decoration: none;\n",
       "}\n",
       "\n",
       "div.sk-estimator.fitted:hover .sk-estimator-doc-link.fitted:hover,\n",
       ".sk-estimator-doc-link.fitted:hover,\n",
       "div.sk-label-container:hover .sk-estimator-doc-link.fitted:hover,\n",
       ".sk-estimator-doc-link.fitted:hover {\n",
       "  /* fitted */\n",
       "  background-color: var(--sklearn-color-fitted-level-3);\n",
       "  color: var(--sklearn-color-background);\n",
       "  text-decoration: none;\n",
       "}\n",
       "\n",
       "/* Span, style for the box shown on hovering the info icon */\n",
       ".sk-estimator-doc-link span {\n",
       "  display: none;\n",
       "  z-index: 9999;\n",
       "  position: relative;\n",
       "  font-weight: normal;\n",
       "  right: .2ex;\n",
       "  padding: .5ex;\n",
       "  margin: .5ex;\n",
       "  width: min-content;\n",
       "  min-width: 20ex;\n",
       "  max-width: 50ex;\n",
       "  color: var(--sklearn-color-text);\n",
       "  box-shadow: 2pt 2pt 4pt #999;\n",
       "  /* unfitted */\n",
       "  background: var(--sklearn-color-unfitted-level-0);\n",
       "  border: .5pt solid var(--sklearn-color-unfitted-level-3);\n",
       "}\n",
       "\n",
       ".sk-estimator-doc-link.fitted span {\n",
       "  /* fitted */\n",
       "  background: var(--sklearn-color-fitted-level-0);\n",
       "  border: var(--sklearn-color-fitted-level-3);\n",
       "}\n",
       "\n",
       ".sk-estimator-doc-link:hover span {\n",
       "  display: block;\n",
       "}\n",
       "\n",
       "/* \"?\"-specific style due to the `<a>` HTML tag */\n",
       "\n",
       "#sk-container-id-2 a.estimator_doc_link {\n",
       "  float: right;\n",
       "  font-size: 1rem;\n",
       "  line-height: 1em;\n",
       "  font-family: monospace;\n",
       "  background-color: var(--sklearn-color-background);\n",
       "  border-radius: 1rem;\n",
       "  height: 1rem;\n",
       "  width: 1rem;\n",
       "  text-decoration: none;\n",
       "  /* unfitted */\n",
       "  color: var(--sklearn-color-unfitted-level-1);\n",
       "  border: var(--sklearn-color-unfitted-level-1) 1pt solid;\n",
       "}\n",
       "\n",
       "#sk-container-id-2 a.estimator_doc_link.fitted {\n",
       "  /* fitted */\n",
       "  border: var(--sklearn-color-fitted-level-1) 1pt solid;\n",
       "  color: var(--sklearn-color-fitted-level-1);\n",
       "}\n",
       "\n",
       "/* On hover */\n",
       "#sk-container-id-2 a.estimator_doc_link:hover {\n",
       "  /* unfitted */\n",
       "  background-color: var(--sklearn-color-unfitted-level-3);\n",
       "  color: var(--sklearn-color-background);\n",
       "  text-decoration: none;\n",
       "}\n",
       "\n",
       "#sk-container-id-2 a.estimator_doc_link.fitted:hover {\n",
       "  /* fitted */\n",
       "  background-color: var(--sklearn-color-fitted-level-3);\n",
       "}\n",
       "</style><div id=\"sk-container-id-2\" class=\"sk-top-container\"><div class=\"sk-text-repr-fallback\"><pre>XGBRegressor(base_score=None, booster=None, callbacks=None,\n",
       "             colsample_bylevel=None, colsample_bynode=None,\n",
       "             colsample_bytree=0.7562065999812263, device=None,\n",
       "             early_stopping_rounds=None, enable_categorical=False,\n",
       "             eval_metric=None, feature_types=None, gamma=None, grow_policy=None,\n",
       "             importance_type=None, interaction_constraints=None,\n",
       "             learning_rate=0.019850452680855984, max_bin=None,\n",
       "             max_cat_threshold=None, max_cat_to_onehot=None,\n",
       "             max_delta_step=None, max_depth=5, max_leaves=None,\n",
       "             min_child_weight=8, missing=nan, monotone_constraints=None,\n",
       "             multi_strategy=None, n_estimators=606, n_jobs=None,\n",
       "             num_parallel_tree=None, random_state=None, ...)</pre><b>In a Jupyter environment, please rerun this cell to show the HTML representation or trust the notebook. <br />On GitHub, the HTML representation is unable to render, please try loading this page with nbviewer.org.</b></div><div class=\"sk-container\" hidden><div class=\"sk-item\"><div class=\"sk-estimator fitted sk-toggleable\"><input class=\"sk-toggleable__control sk-hidden--visually\" id=\"sk-estimator-id-2\" type=\"checkbox\" checked><label for=\"sk-estimator-id-2\" class=\"sk-toggleable__label fitted sk-toggleable__label-arrow\"><div><div>XGBRegressor</div></div><div><span class=\"sk-estimator-doc-link fitted\">i<span>Fitted</span></span></div></label><div class=\"sk-toggleable__content fitted\"><pre>XGBRegressor(base_score=None, booster=None, callbacks=None,\n",
       "             colsample_bylevel=None, colsample_bynode=None,\n",
       "             colsample_bytree=0.7562065999812263, device=None,\n",
       "             early_stopping_rounds=None, enable_categorical=False,\n",
       "             eval_metric=None, feature_types=None, gamma=None, grow_policy=None,\n",
       "             importance_type=None, interaction_constraints=None,\n",
       "             learning_rate=0.019850452680855984, max_bin=None,\n",
       "             max_cat_threshold=None, max_cat_to_onehot=None,\n",
       "             max_delta_step=None, max_depth=5, max_leaves=None,\n",
       "             min_child_weight=8, missing=nan, monotone_constraints=None,\n",
       "             multi_strategy=None, n_estimators=606, n_jobs=None,\n",
       "             num_parallel_tree=None, random_state=None, ...)</pre></div> </div></div></div></div>"
      ],
      "text/plain": [
       "XGBRegressor(base_score=None, booster=None, callbacks=None,\n",
       "             colsample_bylevel=None, colsample_bynode=None,\n",
       "             colsample_bytree=0.7562065999812263, device=None,\n",
       "             early_stopping_rounds=None, enable_categorical=False,\n",
       "             eval_metric=None, feature_types=None, gamma=None, grow_policy=None,\n",
       "             importance_type=None, interaction_constraints=None,\n",
       "             learning_rate=0.019850452680855984, max_bin=None,\n",
       "             max_cat_threshold=None, max_cat_to_onehot=None,\n",
       "             max_delta_step=None, max_depth=5, max_leaves=None,\n",
       "             min_child_weight=8, missing=nan, monotone_constraints=None,\n",
       "             multi_strategy=None, n_estimators=606, n_jobs=None,\n",
       "             num_parallel_tree=None, random_state=None, ...)"
      ]
     },
     "execution_count": 15,
     "metadata": {},
     "output_type": "execute_result"
    }
   ],
   "source": [
    "# Create model with best parameters\n",
    "best_params = study.best_params\n",
    "optimized_model = xgb.XGBRegressor(**best_params)\n",
    "\n",
    "print(\"Training optimized model...\")\n",
    "optimized_model.fit(X_train, y_train)\n"
   ]
  },
  {
   "cell_type": "code",
   "execution_count": 16,
   "id": "985eb60c",
   "metadata": {},
   "outputs": [
    {
     "name": "stdout",
     "output_type": "stream",
     "text": [
      "Optimized Model Performance:\n",
      "RMSE: 3.9008\n",
      "MAE: 2.7751\n",
      "R2: 0.5404\n",
      "Top-3 Accuracy: 65.06%\n",
      "Top-5 Accuracy: 84.34%\n",
      "\n",
      "============================================================\n",
      "COMPARISON: Baseline vs Optimized\n",
      "============================================================\n",
      "RMSE                : Baseline=4.2227, Optimized=3.9008, Δ=+0.3219 ↑\n",
      "MAE                 : Baseline=2.9705, Optimized=2.7751, Δ=+0.1955 ↑\n",
      "R2                  : Baseline=46.14%, Optimized=54.04%, Δ=+7.90% ↑\n",
      "Top-3 Accuracy      : Baseline=64.46%, Optimized=65.06%, Δ=+0.60% ↑\n",
      "Top-5 Accuracy      : Baseline=81.17%, Optimized=84.34%, Δ=+3.16% ↑\n"
     ]
    }
   ],
   "source": [
    "# Evaluate optimized model performance\n",
    "y_pred_optimized = optimized_model.predict(X_test)\n",
    "\n",
    "optimized_metrics = {\n",
    "    'RMSE': np.sqrt(mean_squared_error(y_test, y_pred_optimized)),\n",
    "    'MAE': mean_absolute_error(y_test, y_pred_optimized),\n",
    "    'R2': r2_score(y_test, y_pred_optimized),\n",
    "    'Top-3 Accuracy': calculate_topk_accuracy(y_test, y_pred_optimized, 3),\n",
    "    'Top-5 Accuracy': calculate_topk_accuracy(y_test, y_pred_optimized, 5)\n",
    "}\n",
    "\n",
    "print(\"Optimized Model Performance:\")\n",
    "for metric, value in optimized_metrics.items():\n",
    "    if 'Accuracy' in metric:\n",
    "        print(f\"{metric}: {value:.2%}\")\n",
    "    else:\n",
    "        print(f\"{metric}: {value:.4f}\")\n",
    "\n",
    "print(\"\\n\" + \"=\"*60)\n",
    "print(\"COMPARISON: Baseline vs Optimized\")\n",
    "print(\"=\"*60)\n",
    "for metric in baseline_metrics:\n",
    "    baseline_val = baseline_metrics[metric]\n",
    "    optimized_val = optimized_metrics[metric]\n",
    "    \n",
    "    if 'Accuracy' in metric or 'R2' in metric:\n",
    "        # For accuracy and R2, higher is better\n",
    "        improvement = optimized_val - baseline_val\n",
    "        symbol = \"↑\" if improvement > 0 else \"↓\"\n",
    "        print(f\"{metric:20s}: Baseline={baseline_val:.2%}, Optimized={optimized_val:.2%}, Δ={improvement:+.2%} {symbol}\")\n",
    "    else:\n",
    "        # For RMSE and MAE, lower is better\n",
    "        improvement = baseline_val - optimized_val\n",
    "        symbol = \"↑\" if improvement > 0 else \"↓\"\n",
    "        print(f\"{metric:20s}: Baseline={baseline_val:.4f}, Optimized={optimized_val:.4f}, Δ={improvement:+.4f} {symbol}\")\n"
   ]
  },
  {
   "cell_type": "markdown",
   "id": "2dc26c60",
   "metadata": {},
   "source": [
    "## 6. Feature Importance Analysis\n"
   ]
  },
  {
   "cell_type": "code",
   "execution_count": 17,
   "id": "b26140dc",
   "metadata": {},
   "outputs": [
    {
     "name": "stdout",
     "output_type": "stream",
     "text": [
      "Top 20 most important features:\n"
     ]
    },
    {
     "data": {
      "text/html": [
       "<div>\n",
       "<style scoped>\n",
       "    .dataframe tbody tr th:only-of-type {\n",
       "        vertical-align: middle;\n",
       "    }\n",
       "\n",
       "    .dataframe tbody tr th {\n",
       "        vertical-align: top;\n",
       "    }\n",
       "\n",
       "    .dataframe thead th {\n",
       "        text-align: right;\n",
       "    }\n",
       "</style>\n",
       "<table border=\"1\" class=\"dataframe\">\n",
       "  <thead>\n",
       "    <tr style=\"text-align: right;\">\n",
       "      <th></th>\n",
       "      <th>feature</th>\n",
       "      <th>importance</th>\n",
       "    </tr>\n",
       "  </thead>\n",
       "  <tbody>\n",
       "    <tr>\n",
       "      <th>5</th>\n",
       "      <td>grid_position</td>\n",
       "      <td>404.580536</td>\n",
       "    </tr>\n",
       "    <tr>\n",
       "      <th>21</th>\n",
       "      <td>driver_track_avg_position</td>\n",
       "      <td>246.224167</td>\n",
       "    </tr>\n",
       "    <tr>\n",
       "      <th>23</th>\n",
       "      <td>constructor_track_avg_position</td>\n",
       "      <td>188.487366</td>\n",
       "    </tr>\n",
       "    <tr>\n",
       "      <th>16</th>\n",
       "      <td>constructor_career_avg_points</td>\n",
       "      <td>135.388367</td>\n",
       "    </tr>\n",
       "    <tr>\n",
       "      <th>11</th>\n",
       "      <td>driver_career_avg_position</td>\n",
       "      <td>81.997437</td>\n",
       "    </tr>\n",
       "    <tr>\n",
       "      <th>14</th>\n",
       "      <td>driver_career_podiums</td>\n",
       "      <td>62.831779</td>\n",
       "    </tr>\n",
       "    <tr>\n",
       "      <th>10</th>\n",
       "      <td>driver_career_avg_points</td>\n",
       "      <td>62.325756</td>\n",
       "    </tr>\n",
       "    <tr>\n",
       "      <th>7</th>\n",
       "      <td>is_covid_season_2020</td>\n",
       "      <td>55.530739</td>\n",
       "    </tr>\n",
       "    <tr>\n",
       "      <th>6</th>\n",
       "      <td>is_2022_plus_era</td>\n",
       "      <td>55.327023</td>\n",
       "    </tr>\n",
       "    <tr>\n",
       "      <th>9</th>\n",
       "      <td>driver_career_total_points</td>\n",
       "      <td>50.516235</td>\n",
       "    </tr>\n",
       "    <tr>\n",
       "      <th>15</th>\n",
       "      <td>constructor_career_total_points</td>\n",
       "      <td>46.786900</td>\n",
       "    </tr>\n",
       "    <tr>\n",
       "      <th>32</th>\n",
       "      <td>is_soft_primary</td>\n",
       "      <td>45.697655</td>\n",
       "    </tr>\n",
       "    <tr>\n",
       "      <th>35</th>\n",
       "      <td>is_intermediate</td>\n",
       "      <td>42.765549</td>\n",
       "    </tr>\n",
       "    <tr>\n",
       "      <th>31</th>\n",
       "      <td>main_compound</td>\n",
       "      <td>42.502556</td>\n",
       "    </tr>\n",
       "    <tr>\n",
       "      <th>13</th>\n",
       "      <td>driver_career_wins</td>\n",
       "      <td>41.825665</td>\n",
       "    </tr>\n",
       "    <tr>\n",
       "      <th>19</th>\n",
       "      <td>constructor_career_wins</td>\n",
       "      <td>41.784176</td>\n",
       "    </tr>\n",
       "    <tr>\n",
       "      <th>12</th>\n",
       "      <td>driver_career_race_count</td>\n",
       "      <td>39.333942</td>\n",
       "    </tr>\n",
       "    <tr>\n",
       "      <th>17</th>\n",
       "      <td>constructor_career_avg_position</td>\n",
       "      <td>38.390064</td>\n",
       "    </tr>\n",
       "    <tr>\n",
       "      <th>30</th>\n",
       "      <td>wind_speed</td>\n",
       "      <td>38.366619</td>\n",
       "    </tr>\n",
       "    <tr>\n",
       "      <th>34</th>\n",
       "      <td>is_medium_primary</td>\n",
       "      <td>37.130867</td>\n",
       "    </tr>\n",
       "  </tbody>\n",
       "</table>\n",
       "</div>"
      ],
      "text/plain": [
       "                            feature  importance\n",
       "5                     grid_position  404.580536\n",
       "21        driver_track_avg_position  246.224167\n",
       "23   constructor_track_avg_position  188.487366\n",
       "16    constructor_career_avg_points  135.388367\n",
       "11       driver_career_avg_position   81.997437\n",
       "14            driver_career_podiums   62.831779\n",
       "10         driver_career_avg_points   62.325756\n",
       "7              is_covid_season_2020   55.530739\n",
       "6                  is_2022_plus_era   55.327023\n",
       "9        driver_career_total_points   50.516235\n",
       "15  constructor_career_total_points   46.786900\n",
       "32                  is_soft_primary   45.697655\n",
       "35                  is_intermediate   42.765549\n",
       "31                    main_compound   42.502556\n",
       "13               driver_career_wins   41.825665\n",
       "19          constructor_career_wins   41.784176\n",
       "12         driver_career_race_count   39.333942\n",
       "17  constructor_career_avg_position   38.390064\n",
       "30                       wind_speed   38.366619\n",
       "34                is_medium_primary   37.130867"
      ]
     },
     "execution_count": 17,
     "metadata": {},
     "output_type": "execute_result"
    }
   ],
   "source": [
    "# Get feature importance scores\n",
    "feature_importance = optimized_model.get_booster().get_score(importance_type='gain')\n",
    "\n",
    "# Convert to DataFrame\n",
    "importance_df = pd.DataFrame([\n",
    "    {'feature': k, 'importance': v}\n",
    "    for k, v in feature_importance.items()\n",
    "]).sort_values('importance', ascending=False)\n",
    "\n",
    "print(\"Top 20 most important features:\")\n",
    "importance_df.head(20)\n"
   ]
  },
  {
   "cell_type": "code",
   "execution_count": 18,
   "id": "d8b45467",
   "metadata": {},
   "outputs": [
    {
     "data": {
      "application/vnd.plotly.v1+json": {
       "config": {
        "plotlyServerURL": "https://plot.ly"
       },
       "data": [
        {
         "hovertemplate": "Importance Score (Gain)=%{x}<br>Feature=%{y}<extra></extra>",
         "legendgroup": "",
         "marker": {
          "color": "#636efa",
          "pattern": {
           "shape": ""
          }
         },
         "name": "",
         "orientation": "h",
         "showlegend": false,
         "textposition": "auto",
         "type": "bar",
         "x": {
          "bdata": "AAAA4ElJeUAAAABgLMduQAAAAICYj2dAAAAAgG3sYEAAAAAA1n9UQAAAAMB3ak9AAAAAYLIpT0AAAABA78NLQAAAAODbqUtAAAAAABRCSUAAAAAguWRHQAAAAMBM2UZAAAAAgP1hRUAAAADAU0BFQAAAAGCv6URAAAAA4F/kREAAAACgvqpDQAAAAKDtMUNAAAAAYO0uQ0AAAABAwJBCQA==",
          "dtype": "f8"
         },
         "xaxis": "x",
         "y": [
          "grid_position",
          "driver_track_avg_position",
          "constructor_track_avg_position",
          "constructor_career_avg_points",
          "driver_career_avg_position",
          "driver_career_podiums",
          "driver_career_avg_points",
          "is_covid_season_2020",
          "is_2022_plus_era",
          "driver_career_total_points",
          "constructor_career_total_points",
          "is_soft_primary",
          "is_intermediate",
          "main_compound",
          "driver_career_wins",
          "constructor_career_wins",
          "driver_career_race_count",
          "constructor_career_avg_position",
          "wind_speed",
          "is_medium_primary"
         ],
         "yaxis": "y"
        }
       ],
       "layout": {
        "barmode": "relative",
        "height": 600,
        "legend": {
         "tracegroupgap": 0
        },
        "showlegend": false,
        "template": {
         "data": {
          "bar": [
           {
            "error_x": {
             "color": "#2a3f5f"
            },
            "error_y": {
             "color": "#2a3f5f"
            },
            "marker": {
             "line": {
              "color": "white",
              "width": 0.5
             },
             "pattern": {
              "fillmode": "overlay",
              "size": 10,
              "solidity": 0.2
             }
            },
            "type": "bar"
           }
          ],
          "barpolar": [
           {
            "marker": {
             "line": {
              "color": "white",
              "width": 0.5
             },
             "pattern": {
              "fillmode": "overlay",
              "size": 10,
              "solidity": 0.2
             }
            },
            "type": "barpolar"
           }
          ],
          "carpet": [
           {
            "aaxis": {
             "endlinecolor": "#2a3f5f",
             "gridcolor": "#C8D4E3",
             "linecolor": "#C8D4E3",
             "minorgridcolor": "#C8D4E3",
             "startlinecolor": "#2a3f5f"
            },
            "baxis": {
             "endlinecolor": "#2a3f5f",
             "gridcolor": "#C8D4E3",
             "linecolor": "#C8D4E3",
             "minorgridcolor": "#C8D4E3",
             "startlinecolor": "#2a3f5f"
            },
            "type": "carpet"
           }
          ],
          "choropleth": [
           {
            "colorbar": {
             "outlinewidth": 0,
             "ticks": ""
            },
            "type": "choropleth"
           }
          ],
          "contour": [
           {
            "colorbar": {
             "outlinewidth": 0,
             "ticks": ""
            },
            "colorscale": [
             [
              0,
              "#0d0887"
             ],
             [
              0.1111111111111111,
              "#46039f"
             ],
             [
              0.2222222222222222,
              "#7201a8"
             ],
             [
              0.3333333333333333,
              "#9c179e"
             ],
             [
              0.4444444444444444,
              "#bd3786"
             ],
             [
              0.5555555555555556,
              "#d8576b"
             ],
             [
              0.6666666666666666,
              "#ed7953"
             ],
             [
              0.7777777777777778,
              "#fb9f3a"
             ],
             [
              0.8888888888888888,
              "#fdca26"
             ],
             [
              1,
              "#f0f921"
             ]
            ],
            "type": "contour"
           }
          ],
          "contourcarpet": [
           {
            "colorbar": {
             "outlinewidth": 0,
             "ticks": ""
            },
            "type": "contourcarpet"
           }
          ],
          "heatmap": [
           {
            "colorbar": {
             "outlinewidth": 0,
             "ticks": ""
            },
            "colorscale": [
             [
              0,
              "#0d0887"
             ],
             [
              0.1111111111111111,
              "#46039f"
             ],
             [
              0.2222222222222222,
              "#7201a8"
             ],
             [
              0.3333333333333333,
              "#9c179e"
             ],
             [
              0.4444444444444444,
              "#bd3786"
             ],
             [
              0.5555555555555556,
              "#d8576b"
             ],
             [
              0.6666666666666666,
              "#ed7953"
             ],
             [
              0.7777777777777778,
              "#fb9f3a"
             ],
             [
              0.8888888888888888,
              "#fdca26"
             ],
             [
              1,
              "#f0f921"
             ]
            ],
            "type": "heatmap"
           }
          ],
          "histogram": [
           {
            "marker": {
             "pattern": {
              "fillmode": "overlay",
              "size": 10,
              "solidity": 0.2
             }
            },
            "type": "histogram"
           }
          ],
          "histogram2d": [
           {
            "colorbar": {
             "outlinewidth": 0,
             "ticks": ""
            },
            "colorscale": [
             [
              0,
              "#0d0887"
             ],
             [
              0.1111111111111111,
              "#46039f"
             ],
             [
              0.2222222222222222,
              "#7201a8"
             ],
             [
              0.3333333333333333,
              "#9c179e"
             ],
             [
              0.4444444444444444,
              "#bd3786"
             ],
             [
              0.5555555555555556,
              "#d8576b"
             ],
             [
              0.6666666666666666,
              "#ed7953"
             ],
             [
              0.7777777777777778,
              "#fb9f3a"
             ],
             [
              0.8888888888888888,
              "#fdca26"
             ],
             [
              1,
              "#f0f921"
             ]
            ],
            "type": "histogram2d"
           }
          ],
          "histogram2dcontour": [
           {
            "colorbar": {
             "outlinewidth": 0,
             "ticks": ""
            },
            "colorscale": [
             [
              0,
              "#0d0887"
             ],
             [
              0.1111111111111111,
              "#46039f"
             ],
             [
              0.2222222222222222,
              "#7201a8"
             ],
             [
              0.3333333333333333,
              "#9c179e"
             ],
             [
              0.4444444444444444,
              "#bd3786"
             ],
             [
              0.5555555555555556,
              "#d8576b"
             ],
             [
              0.6666666666666666,
              "#ed7953"
             ],
             [
              0.7777777777777778,
              "#fb9f3a"
             ],
             [
              0.8888888888888888,
              "#fdca26"
             ],
             [
              1,
              "#f0f921"
             ]
            ],
            "type": "histogram2dcontour"
           }
          ],
          "mesh3d": [
           {
            "colorbar": {
             "outlinewidth": 0,
             "ticks": ""
            },
            "type": "mesh3d"
           }
          ],
          "parcoords": [
           {
            "line": {
             "colorbar": {
              "outlinewidth": 0,
              "ticks": ""
             }
            },
            "type": "parcoords"
           }
          ],
          "pie": [
           {
            "automargin": true,
            "type": "pie"
           }
          ],
          "scatter": [
           {
            "fillpattern": {
             "fillmode": "overlay",
             "size": 10,
             "solidity": 0.2
            },
            "type": "scatter"
           }
          ],
          "scatter3d": [
           {
            "line": {
             "colorbar": {
              "outlinewidth": 0,
              "ticks": ""
             }
            },
            "marker": {
             "colorbar": {
              "outlinewidth": 0,
              "ticks": ""
             }
            },
            "type": "scatter3d"
           }
          ],
          "scattercarpet": [
           {
            "marker": {
             "colorbar": {
              "outlinewidth": 0,
              "ticks": ""
             }
            },
            "type": "scattercarpet"
           }
          ],
          "scattergeo": [
           {
            "marker": {
             "colorbar": {
              "outlinewidth": 0,
              "ticks": ""
             }
            },
            "type": "scattergeo"
           }
          ],
          "scattergl": [
           {
            "marker": {
             "colorbar": {
              "outlinewidth": 0,
              "ticks": ""
             }
            },
            "type": "scattergl"
           }
          ],
          "scattermap": [
           {
            "marker": {
             "colorbar": {
              "outlinewidth": 0,
              "ticks": ""
             }
            },
            "type": "scattermap"
           }
          ],
          "scattermapbox": [
           {
            "marker": {
             "colorbar": {
              "outlinewidth": 0,
              "ticks": ""
             }
            },
            "type": "scattermapbox"
           }
          ],
          "scatterpolar": [
           {
            "marker": {
             "colorbar": {
              "outlinewidth": 0,
              "ticks": ""
             }
            },
            "type": "scatterpolar"
           }
          ],
          "scatterpolargl": [
           {
            "marker": {
             "colorbar": {
              "outlinewidth": 0,
              "ticks": ""
             }
            },
            "type": "scatterpolargl"
           }
          ],
          "scatterternary": [
           {
            "marker": {
             "colorbar": {
              "outlinewidth": 0,
              "ticks": ""
             }
            },
            "type": "scatterternary"
           }
          ],
          "surface": [
           {
            "colorbar": {
             "outlinewidth": 0,
             "ticks": ""
            },
            "colorscale": [
             [
              0,
              "#0d0887"
             ],
             [
              0.1111111111111111,
              "#46039f"
             ],
             [
              0.2222222222222222,
              "#7201a8"
             ],
             [
              0.3333333333333333,
              "#9c179e"
             ],
             [
              0.4444444444444444,
              "#bd3786"
             ],
             [
              0.5555555555555556,
              "#d8576b"
             ],
             [
              0.6666666666666666,
              "#ed7953"
             ],
             [
              0.7777777777777778,
              "#fb9f3a"
             ],
             [
              0.8888888888888888,
              "#fdca26"
             ],
             [
              1,
              "#f0f921"
             ]
            ],
            "type": "surface"
           }
          ],
          "table": [
           {
            "cells": {
             "fill": {
              "color": "#EBF0F8"
             },
             "line": {
              "color": "white"
             }
            },
            "header": {
             "fill": {
              "color": "#C8D4E3"
             },
             "line": {
              "color": "white"
             }
            },
            "type": "table"
           }
          ]
         },
         "layout": {
          "annotationdefaults": {
           "arrowcolor": "#2a3f5f",
           "arrowhead": 0,
           "arrowwidth": 1
          },
          "autotypenumbers": "strict",
          "coloraxis": {
           "colorbar": {
            "outlinewidth": 0,
            "ticks": ""
           }
          },
          "colorscale": {
           "diverging": [
            [
             0,
             "#8e0152"
            ],
            [
             0.1,
             "#c51b7d"
            ],
            [
             0.2,
             "#de77ae"
            ],
            [
             0.3,
             "#f1b6da"
            ],
            [
             0.4,
             "#fde0ef"
            ],
            [
             0.5,
             "#f7f7f7"
            ],
            [
             0.6,
             "#e6f5d0"
            ],
            [
             0.7,
             "#b8e186"
            ],
            [
             0.8,
             "#7fbc41"
            ],
            [
             0.9,
             "#4d9221"
            ],
            [
             1,
             "#276419"
            ]
           ],
           "sequential": [
            [
             0,
             "#0d0887"
            ],
            [
             0.1111111111111111,
             "#46039f"
            ],
            [
             0.2222222222222222,
             "#7201a8"
            ],
            [
             0.3333333333333333,
             "#9c179e"
            ],
            [
             0.4444444444444444,
             "#bd3786"
            ],
            [
             0.5555555555555556,
             "#d8576b"
            ],
            [
             0.6666666666666666,
             "#ed7953"
            ],
            [
             0.7777777777777778,
             "#fb9f3a"
            ],
            [
             0.8888888888888888,
             "#fdca26"
            ],
            [
             1,
             "#f0f921"
            ]
           ],
           "sequentialminus": [
            [
             0,
             "#0d0887"
            ],
            [
             0.1111111111111111,
             "#46039f"
            ],
            [
             0.2222222222222222,
             "#7201a8"
            ],
            [
             0.3333333333333333,
             "#9c179e"
            ],
            [
             0.4444444444444444,
             "#bd3786"
            ],
            [
             0.5555555555555556,
             "#d8576b"
            ],
            [
             0.6666666666666666,
             "#ed7953"
            ],
            [
             0.7777777777777778,
             "#fb9f3a"
            ],
            [
             0.8888888888888888,
             "#fdca26"
            ],
            [
             1,
             "#f0f921"
            ]
           ]
          },
          "colorway": [
           "#636efa",
           "#EF553B",
           "#00cc96",
           "#ab63fa",
           "#FFA15A",
           "#19d3f3",
           "#FF6692",
           "#B6E880",
           "#FF97FF",
           "#FECB52"
          ],
          "font": {
           "color": "#2a3f5f"
          },
          "geo": {
           "bgcolor": "white",
           "lakecolor": "white",
           "landcolor": "white",
           "showlakes": true,
           "showland": true,
           "subunitcolor": "#C8D4E3"
          },
          "hoverlabel": {
           "align": "left"
          },
          "hovermode": "closest",
          "mapbox": {
           "style": "light"
          },
          "paper_bgcolor": "white",
          "plot_bgcolor": "white",
          "polar": {
           "angularaxis": {
            "gridcolor": "#EBF0F8",
            "linecolor": "#EBF0F8",
            "ticks": ""
           },
           "bgcolor": "white",
           "radialaxis": {
            "gridcolor": "#EBF0F8",
            "linecolor": "#EBF0F8",
            "ticks": ""
           }
          },
          "scene": {
           "xaxis": {
            "backgroundcolor": "white",
            "gridcolor": "#DFE8F3",
            "gridwidth": 2,
            "linecolor": "#EBF0F8",
            "showbackground": true,
            "ticks": "",
            "zerolinecolor": "#EBF0F8"
           },
           "yaxis": {
            "backgroundcolor": "white",
            "gridcolor": "#DFE8F3",
            "gridwidth": 2,
            "linecolor": "#EBF0F8",
            "showbackground": true,
            "ticks": "",
            "zerolinecolor": "#EBF0F8"
           },
           "zaxis": {
            "backgroundcolor": "white",
            "gridcolor": "#DFE8F3",
            "gridwidth": 2,
            "linecolor": "#EBF0F8",
            "showbackground": true,
            "ticks": "",
            "zerolinecolor": "#EBF0F8"
           }
          },
          "shapedefaults": {
           "line": {
            "color": "#2a3f5f"
           }
          },
          "ternary": {
           "aaxis": {
            "gridcolor": "#DFE8F3",
            "linecolor": "#A2B1C6",
            "ticks": ""
           },
           "baxis": {
            "gridcolor": "#DFE8F3",
            "linecolor": "#A2B1C6",
            "ticks": ""
           },
           "bgcolor": "white",
           "caxis": {
            "gridcolor": "#DFE8F3",
            "linecolor": "#A2B1C6",
            "ticks": ""
           }
          },
          "title": {
           "x": 0.05
          },
          "xaxis": {
           "automargin": true,
           "gridcolor": "#EBF0F8",
           "linecolor": "#EBF0F8",
           "ticks": "",
           "title": {
            "standoff": 15
           },
           "zerolinecolor": "#EBF0F8",
           "zerolinewidth": 2
          },
          "yaxis": {
           "automargin": true,
           "gridcolor": "#EBF0F8",
           "linecolor": "#EBF0F8",
           "ticks": "",
           "title": {
            "standoff": 15
           },
           "zerolinecolor": "#EBF0F8",
           "zerolinewidth": 2
          }
         }
        },
        "title": {
         "text": "XGBoost Feature Importance Scores (Top 20)"
        },
        "xaxis": {
         "anchor": "y",
         "domain": [
          0,
          1
         ],
         "title": {
          "text": "Importance Score (Gain)"
         }
        },
        "yaxis": {
         "anchor": "x",
         "domain": [
          0,
          1
         ],
         "title": {
          "text": "Feature"
         }
        }
       }
      }
     },
     "metadata": {},
     "output_type": "display_data"
    }
   ],
   "source": [
    "# Feature importance visualization\n",
    "fig = px.bar(\n",
    "    importance_df.head(20),\n",
    "    x='importance',\n",
    "    y='feature',\n",
    "    orientation='h',\n",
    "    title='XGBoost Feature Importance Scores (Top 20)',\n",
    "    labels={'importance': 'Importance Score (Gain)', 'feature': 'Feature'}\n",
    ")\n",
    "fig.update_layout(height=600, showlegend=False)\n",
    "fig.show()\n"
   ]
  },
  {
   "cell_type": "markdown",
   "id": "62852041",
   "metadata": {},
   "source": [
    "## 7. Prediction Analysis and Residual Analysis\n"
   ]
  },
  {
   "cell_type": "code",
   "execution_count": 19,
   "id": "b04a81f7",
   "metadata": {},
   "outputs": [
    {
     "name": "stdout",
     "output_type": "stream",
     "text": [
      "Prediction results samples:\n"
     ]
    },
    {
     "data": {
      "text/html": [
       "<div>\n",
       "<style scoped>\n",
       "    .dataframe tbody tr th:only-of-type {\n",
       "        vertical-align: middle;\n",
       "    }\n",
       "\n",
       "    .dataframe tbody tr th {\n",
       "        vertical-align: top;\n",
       "    }\n",
       "\n",
       "    .dataframe thead th {\n",
       "        text-align: right;\n",
       "    }\n",
       "</style>\n",
       "<table border=\"1\" class=\"dataframe\">\n",
       "  <thead>\n",
       "    <tr style=\"text-align: right;\">\n",
       "      <th></th>\n",
       "      <th>Actual</th>\n",
       "      <th>Predicted</th>\n",
       "      <th>Error</th>\n",
       "    </tr>\n",
       "  </thead>\n",
       "  <tbody>\n",
       "    <tr>\n",
       "      <th>2054</th>\n",
       "      <td>15</td>\n",
       "      <td>16.177143</td>\n",
       "      <td>-1.177143</td>\n",
       "    </tr>\n",
       "    <tr>\n",
       "      <th>2914</th>\n",
       "      <td>16</td>\n",
       "      <td>7.156647</td>\n",
       "      <td>8.843353</td>\n",
       "    </tr>\n",
       "    <tr>\n",
       "      <th>444</th>\n",
       "      <td>5</td>\n",
       "      <td>5.497445</td>\n",
       "      <td>-0.497445</td>\n",
       "    </tr>\n",
       "    <tr>\n",
       "      <th>889</th>\n",
       "      <td>10</td>\n",
       "      <td>14.612656</td>\n",
       "      <td>-4.612656</td>\n",
       "    </tr>\n",
       "    <tr>\n",
       "      <th>2365</th>\n",
       "      <td>6</td>\n",
       "      <td>8.495016</td>\n",
       "      <td>-2.495016</td>\n",
       "    </tr>\n",
       "    <tr>\n",
       "      <th>1007</th>\n",
       "      <td>8</td>\n",
       "      <td>10.373625</td>\n",
       "      <td>-2.373625</td>\n",
       "    </tr>\n",
       "    <tr>\n",
       "      <th>2563</th>\n",
       "      <td>5</td>\n",
       "      <td>3.518329</td>\n",
       "      <td>1.481671</td>\n",
       "    </tr>\n",
       "    <tr>\n",
       "      <th>1609</th>\n",
       "      <td>10</td>\n",
       "      <td>6.133414</td>\n",
       "      <td>3.866586</td>\n",
       "    </tr>\n",
       "    <tr>\n",
       "      <th>1963</th>\n",
       "      <td>4</td>\n",
       "      <td>6.596242</td>\n",
       "      <td>-2.596242</td>\n",
       "    </tr>\n",
       "    <tr>\n",
       "      <th>184</th>\n",
       "      <td>5</td>\n",
       "      <td>7.370552</td>\n",
       "      <td>-2.370552</td>\n",
       "    </tr>\n",
       "  </tbody>\n",
       "</table>\n",
       "</div>"
      ],
      "text/plain": [
       "      Actual  Predicted     Error\n",
       "2054      15  16.177143 -1.177143\n",
       "2914      16   7.156647  8.843353\n",
       "444        5   5.497445 -0.497445\n",
       "889       10  14.612656 -4.612656\n",
       "2365       6   8.495016 -2.495016\n",
       "1007       8  10.373625 -2.373625\n",
       "2563       5   3.518329  1.481671\n",
       "1609      10   6.133414  3.866586\n",
       "1963       4   6.596242 -2.596242\n",
       "184        5   7.370552 -2.370552"
      ]
     },
     "execution_count": 19,
     "metadata": {},
     "output_type": "execute_result"
    }
   ],
   "source": [
    "# Create predictions and actual values comparison\n",
    "results_df = pd.DataFrame({\n",
    "    'Actual': y_test,\n",
    "    'Predicted': y_pred_optimized,\n",
    "    'Error': y_test - y_pred_optimized\n",
    "})\n",
    "\n",
    "print(\"Prediction results samples:\")\n",
    "results_df.head(10)\n"
   ]
  },
  {
   "cell_type": "code",
   "execution_count": 20,
   "id": "1f8e7d08",
   "metadata": {},
   "outputs": [
    {
     "data": {
      "application/vnd.plotly.v1+json": {
       "config": {
        "plotlyServerURL": "https://plot.ly"
       },
       "data": [
        {
         "mode": "markers",
         "name": "Residuals",
         "opacity": 0.5,
         "type": "scatter",
         "x": {
          "bdata": "ymqBQUAD5UAR669AcM1pQZbrB0Fe+iVBTSxhQO5ExEBqFNNAkNvrQFmXY0Da/0lA2ZkVQbgoO0H+QoZBkaU9QdQjk0Fzb49AGi4vQT/VVUE3/T1BdvAMQYpjEEH8tANBRwRNQZXrqD9J6jdBxP6MQdU8o0A/VNhAuFpOQZrs70C1mtBAKfyRQPTSFEFP3ilB+Jm1QPMyS0GJFxVByFCKQRuTikFlcdlAvY9XQbLyVUGT2ChBveKTQeCFtj/tIYdBnNAMQS+gAUFM9WFBiWFPQFOOfkGTTodBqk1OQdh0IkFCBYtB//QBQU5TXEGJnoFBxu14Qa6RFUFfAVFBlCtFQWNpQkARRfw/BfIRQZvqWkE57V5BbJIrQbEyOkGNFB5BKulQQUrEkUFH5V1BiRFyQKuOKkFWp1lAWfoQQJ+QI0G0DoVBcU6OQX8yWkGHkUhBA6OCQR7vyECIkEZAHj+GQR71l0B22xlBA5M8QdTWIEHkG9NAUYKDQKaLRkHXAH5Bb4iPQAF9fUGvsRJB3s86QZT2+0CzRTdAioZpQLy1lECXQS5AZKKAQSjb7UAO1TJBN8JeQXUNtUAjUTVBhgQ4QQEB+0Df7gNB0DMxQbv0P0HBxHJBc1JgQRtqhkD9rANBqAiyQCVJkUE+MgRBCMV+QQAGjEEXCGxBAt3HQHH9dkEdlwZB33dWQW3vDUCluYVBMh1pQYXGWUHzVXtBiy/tQEGNYEFDwyRBqLuMQfOpikHfqyVBWqOIQau3NkG+UUNBKlBXQbkTXEFFA2RAxsD7QELMHEF6LkhAo8zOQFeKPkExLopB+sAvQMfMiUF2nSRBZpVgQW+R5EAk3WpBl9ZTQcFlUkFa9HVB6oEdQVxyj0F1ZAZBHYPxQJa+c0FDWeBAJJ+OQfDtD0FvY4BBepl0QbApmEEVjh1BQBkOQfb5EkB9IjBA/pzeQID6aUGQwo5B2RgAQT1yLECPIWVBQwm1QAPVh0HyTrBAU3hIQTlwW0FomiJBdgSJQV23YUEpRn1BKA8yQZIkMUCOQ4VAQkU9QO8bVEGJiGxBtUEsQY77+kB7wGVBwR81QXdf/0D+u41BfRAdQXN4eEH+6KFAQD7+QNthqECMw15BdEguQe4oQEEtsGtBXWnSQN9AGUG2aGtBXeEpQew23kCYhwFBmoRqQUUbIkEbJFRB8iR9QdKq9EBclppAixJlQGQj10DAF4VBQ7wqQfjolkAhF35BsSdKQf3md0D+HXVBmSVzQcaRakFNRThBBfZwQZp+jUAfzR1B/6GSQcLmxUACwW5ByjNUQG60FEH3AiZBLOJWQe5Hi0GdlzxB6XV8QX0QZUG8sgVABOLlQGMiHUEieyVAcD+AQfHrF0FFajJBcgZOQYk9eECC8WZB8O50QfeoQ0F0ORRBI7VxQVGBaUGg3RRBgo9ZQVg4zEBd/ZRBl80JQZj0CkFKcIdBaDHzQPZ3N0H3ngZAdWcvQR6qOUHsz9tAEv6GQVALe0HTvBBBkc4LQFBDTEGTEmpBLDZiQV0HR0EGtUlA3r9zQaCxI0FLOg1AR9ZEQWkTekEe54hApxNNQQIVgkAPOKpAgtW8QKv8QUB2k71ApLUnQdQKvkDqH/FAp2oQQWEBJ0HcK9dA0rd/QZTXcEGO6yZBvtnbQKBoIEEqaQtBQlpTQWxBI0FiyoJBxAf2QHPTYUH9tgtBO2tKQWqxOEBeSPBAAqdPQSovD0Hks1hBQgouQXyweUF+YTJBgyHEQB5R3z80H5BBdXldQL90fkFng6dATs5zQT8txkBO6kxBPA4AQdvcAUF3nKI//1B0Qb1qwUDqX9BASfBIQeQYdUEcbzlBDfZyQfH3JkEbyalA4oArQLajTkHqW3VBF4ZPQXuJJkELQ/1AUyNRQb0QRkEuBoZB7tSUQGfFeUB2Sl9BHTIIQQmKGUELc4NBt9toQSa7i0Efy2tBSQuFQbYmbkHuxaZAtQHLQAjpQEHCdrpAi8XEQATjf0Fc4i1BCK9jQT8XGEGAXzdBWe0VQXWul0Cz+WdB8QLaQPSnOEHUSmVBZvODQRNRK0Ec3QRB2PUOQeVBREHVDIJB95eqQBADYEHWojw/Ks05QZV+J0E4izRBXYyBQHRbK0E7/0VBSpV9QaUjZ0F435NBWFQOQWTaaUEUYd9AAK0fQa+3OUHyVjNBYnaBQFTLi0FxNMNAV++CQVnU7kDMZA9BzTYHQRuIM0H0uBNBSGBCQY3+DUB17BpBc2pEQM+SUkEGNRVB84MtQMK21UAr/U9BwQ0uQTK8fUClqY1BhV/mQG+3LkHK2ERBNvwaQZ9UTEFlYhJBknR+QUYILkF5ARlAYVx9QR2dREEExlJBVZZXQWtYnj+ssJtANdPSQN7m3UDK08BA4D4VQc83eEHbeHBBBW85QWanVUDpHz5BxPUKQSVgF0GDwXhBeBinQBTlSkH7IXZAGgQ/QepBEEEGo4lA31VEQf92wEDhviVBV3EOQcukAEG8pRZBy9EFQaeFlEEcbmFBhTwZQCcPXUEH2kpATRGNPx0Dj0B640xBvM9CQWI+fkG3P3VAyyAzQV7szUDTzClBOgEaQWn2KUFHvCRBAUn3QODUpUBP6OZA/9CNQCwU1kBWLxtBI9a+QABkikEtY7tAtjo9Qa1LKUEMrlFAybg5QVxJikGNUgRBTzmBQbEBMEHSZ2xB0WRrQXViXUH9Y9tApKrCQAXtT0HY8kNBQKY0QXTn80BlxwJBHznLQGjU6UDiqYBBwxtpQeDKgUFfwYFB/wVoQTrH20A5RZdAE/U/QUfvOUFSpQVBdd/PQCTEiEF6REFBDOyFQaAQeEFkh3xAcJ89QYouQ0HD5YNBpE71QJzGOUFpdVBA6IdOQdLb40AFdUFBG0ZWQFeHEUFPtR9BEOuUQG1l4UCv3qdA2WGGQWGfiUCW8BpBA/25QObyKEGwy19BF6BqQblwB0HvWfJAkoBhQZCJBEGDiVpAeiV0QddDAkFdv2xBqq96QbaUUUG01D5ApIZmQemDdkEj22BA71YeQHJHWEGbrpJBthY0QPuREkENUiJA7CkgQWEzfEEF20JBqiZlQahgekEpc4ZBkwBMQX+sO0ExyAJBs3E1QSw8LEHpxT9AIXE9QZPJMkCcAslA/vAeQAAvb0CCzo5BKk8LQUpZlkEQjqdA860IQWx1ekHgDE1BLkJgQdB0RUE7q15BuZxpQYjvK0FzmMw/krmJQTLT90ClErs/6HjIQCkKRkHyA5pBNi2YQLXIVUGF8oVBtZQJQeu/RkGlRUpAWeRLQUOHMEF6plFBBWKCQY/+cEGpkHhBtTtMQRudeEGhuilBTIiwQOXNKEFmCvBApp8/QLxhWEEVql1B9NTCQKANDkEfGwVAOFUIQe/sUUCbL51AgGFJQMa8c0FTLyxBmvx3QYpFUkF2lVxBWh28QJ9HMEHDfmRBjP+bP7cjKUGF/oJA8EICQXVLQEGEUIBB2hZyQc3TDUFJnytBZfzbP3RiH0Hhe2dBhdQ3QY4CCUBsjlZBealQQeRGpT+hSnVBPUACQA==",
          "dtype": "f4"
         },
         "xaxis": "x",
         "y": {
          "bdata": "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",
          "dtype": "f8"
         },
         "yaxis": "y"
        },
        {
         "name": "Error Distribution",
         "nbinsx": 30,
         "showlegend": false,
         "type": "histogram",
         "x": {
          "bdata": "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",
          "dtype": "f8"
         },
         "xaxis": "x2",
         "yaxis": "y2"
        }
       ],
       "layout": {
        "annotations": [
         {
          "font": {
           "size": 16
          },
          "showarrow": false,
          "text": "Residual Distribution",
          "x": 0.225,
          "xanchor": "center",
          "xref": "paper",
          "y": 1,
          "yanchor": "bottom",
          "yref": "paper"
         },
         {
          "font": {
           "size": 16
          },
          "showarrow": false,
          "text": "Error Distribution Histogram",
          "x": 0.775,
          "xanchor": "center",
          "xref": "paper",
          "y": 1,
          "yanchor": "bottom",
          "yref": "paper"
         }
        ],
        "height": 500,
        "shapes": [
         {
          "line": {
           "color": "red",
           "dash": "dash"
          },
          "type": "line",
          "x0": 0,
          "x1": 1,
          "xref": "x domain",
          "y0": 0,
          "y1": 0,
          "yref": "y"
         }
        ],
        "template": {
         "data": {
          "bar": [
           {
            "error_x": {
             "color": "#2a3f5f"
            },
            "error_y": {
             "color": "#2a3f5f"
            },
            "marker": {
             "line": {
              "color": "white",
              "width": 0.5
             },
             "pattern": {
              "fillmode": "overlay",
              "size": 10,
              "solidity": 0.2
             }
            },
            "type": "bar"
           }
          ],
          "barpolar": [
           {
            "marker": {
             "line": {
              "color": "white",
              "width": 0.5
             },
             "pattern": {
              "fillmode": "overlay",
              "size": 10,
              "solidity": 0.2
             }
            },
            "type": "barpolar"
           }
          ],
          "carpet": [
           {
            "aaxis": {
             "endlinecolor": "#2a3f5f",
             "gridcolor": "#C8D4E3",
             "linecolor": "#C8D4E3",
             "minorgridcolor": "#C8D4E3",
             "startlinecolor": "#2a3f5f"
            },
            "baxis": {
             "endlinecolor": "#2a3f5f",
             "gridcolor": "#C8D4E3",
             "linecolor": "#C8D4E3",
             "minorgridcolor": "#C8D4E3",
             "startlinecolor": "#2a3f5f"
            },
            "type": "carpet"
           }
          ],
          "choropleth": [
           {
            "colorbar": {
             "outlinewidth": 0,
             "ticks": ""
            },
            "type": "choropleth"
           }
          ],
          "contour": [
           {
            "colorbar": {
             "outlinewidth": 0,
             "ticks": ""
            },
            "colorscale": [
             [
              0,
              "#0d0887"
             ],
             [
              0.1111111111111111,
              "#46039f"
             ],
             [
              0.2222222222222222,
              "#7201a8"
             ],
             [
              0.3333333333333333,
              "#9c179e"
             ],
             [
              0.4444444444444444,
              "#bd3786"
             ],
             [
              0.5555555555555556,
              "#d8576b"
             ],
             [
              0.6666666666666666,
              "#ed7953"
             ],
             [
              0.7777777777777778,
              "#fb9f3a"
             ],
             [
              0.8888888888888888,
              "#fdca26"
             ],
             [
              1,
              "#f0f921"
             ]
            ],
            "type": "contour"
           }
          ],
          "contourcarpet": [
           {
            "colorbar": {
             "outlinewidth": 0,
             "ticks": ""
            },
            "type": "contourcarpet"
           }
          ],
          "heatmap": [
           {
            "colorbar": {
             "outlinewidth": 0,
             "ticks": ""
            },
            "colorscale": [
             [
              0,
              "#0d0887"
             ],
             [
              0.1111111111111111,
              "#46039f"
             ],
             [
              0.2222222222222222,
              "#7201a8"
             ],
             [
              0.3333333333333333,
              "#9c179e"
             ],
             [
              0.4444444444444444,
              "#bd3786"
             ],
             [
              0.5555555555555556,
              "#d8576b"
             ],
             [
              0.6666666666666666,
              "#ed7953"
             ],
             [
              0.7777777777777778,
              "#fb9f3a"
             ],
             [
              0.8888888888888888,
              "#fdca26"
             ],
             [
              1,
              "#f0f921"
             ]
            ],
            "type": "heatmap"
           }
          ],
          "histogram": [
           {
            "marker": {
             "pattern": {
              "fillmode": "overlay",
              "size": 10,
              "solidity": 0.2
             }
            },
            "type": "histogram"
           }
          ],
          "histogram2d": [
           {
            "colorbar": {
             "outlinewidth": 0,
             "ticks": ""
            },
            "colorscale": [
             [
              0,
              "#0d0887"
             ],
             [
              0.1111111111111111,
              "#46039f"
             ],
             [
              0.2222222222222222,
              "#7201a8"
             ],
             [
              0.3333333333333333,
              "#9c179e"
             ],
             [
              0.4444444444444444,
              "#bd3786"
             ],
             [
              0.5555555555555556,
              "#d8576b"
             ],
             [
              0.6666666666666666,
              "#ed7953"
             ],
             [
              0.7777777777777778,
              "#fb9f3a"
             ],
             [
              0.8888888888888888,
              "#fdca26"
             ],
             [
              1,
              "#f0f921"
             ]
            ],
            "type": "histogram2d"
           }
          ],
          "histogram2dcontour": [
           {
            "colorbar": {
             "outlinewidth": 0,
             "ticks": ""
            },
            "colorscale": [
             [
              0,
              "#0d0887"
             ],
             [
              0.1111111111111111,
              "#46039f"
             ],
             [
              0.2222222222222222,
              "#7201a8"
             ],
             [
              0.3333333333333333,
              "#9c179e"
             ],
             [
              0.4444444444444444,
              "#bd3786"
             ],
             [
              0.5555555555555556,
              "#d8576b"
             ],
             [
              0.6666666666666666,
              "#ed7953"
             ],
             [
              0.7777777777777778,
              "#fb9f3a"
             ],
             [
              0.8888888888888888,
              "#fdca26"
             ],
             [
              1,
              "#f0f921"
             ]
            ],
            "type": "histogram2dcontour"
           }
          ],
          "mesh3d": [
           {
            "colorbar": {
             "outlinewidth": 0,
             "ticks": ""
            },
            "type": "mesh3d"
           }
          ],
          "parcoords": [
           {
            "line": {
             "colorbar": {
              "outlinewidth": 0,
              "ticks": ""
             }
            },
            "type": "parcoords"
           }
          ],
          "pie": [
           {
            "automargin": true,
            "type": "pie"
           }
          ],
          "scatter": [
           {
            "fillpattern": {
             "fillmode": "overlay",
             "size": 10,
             "solidity": 0.2
            },
            "type": "scatter"
           }
          ],
          "scatter3d": [
           {
            "line": {
             "colorbar": {
              "outlinewidth": 0,
              "ticks": ""
             }
            },
            "marker": {
             "colorbar": {
              "outlinewidth": 0,
              "ticks": ""
             }
            },
            "type": "scatter3d"
           }
          ],
          "scattercarpet": [
           {
            "marker": {
             "colorbar": {
              "outlinewidth": 0,
              "ticks": ""
             }
            },
            "type": "scattercarpet"
           }
          ],
          "scattergeo": [
           {
            "marker": {
             "colorbar": {
              "outlinewidth": 0,
              "ticks": ""
             }
            },
            "type": "scattergeo"
           }
          ],
          "scattergl": [
           {
            "marker": {
             "colorbar": {
              "outlinewidth": 0,
              "ticks": ""
             }
            },
            "type": "scattergl"
           }
          ],
          "scattermap": [
           {
            "marker": {
             "colorbar": {
              "outlinewidth": 0,
              "ticks": ""
             }
            },
            "type": "scattermap"
           }
          ],
          "scattermapbox": [
           {
            "marker": {
             "colorbar": {
              "outlinewidth": 0,
              "ticks": ""
             }
            },
            "type": "scattermapbox"
           }
          ],
          "scatterpolar": [
           {
            "marker": {
             "colorbar": {
              "outlinewidth": 0,
              "ticks": ""
             }
            },
            "type": "scatterpolar"
           }
          ],
          "scatterpolargl": [
           {
            "marker": {
             "colorbar": {
              "outlinewidth": 0,
              "ticks": ""
             }
            },
            "type": "scatterpolargl"
           }
          ],
          "scatterternary": [
           {
            "marker": {
             "colorbar": {
              "outlinewidth": 0,
              "ticks": ""
             }
            },
            "type": "scatterternary"
           }
          ],
          "surface": [
           {
            "colorbar": {
             "outlinewidth": 0,
             "ticks": ""
            },
            "colorscale": [
             [
              0,
              "#0d0887"
             ],
             [
              0.1111111111111111,
              "#46039f"
             ],
             [
              0.2222222222222222,
              "#7201a8"
             ],
             [
              0.3333333333333333,
              "#9c179e"
             ],
             [
              0.4444444444444444,
              "#bd3786"
             ],
             [
              0.5555555555555556,
              "#d8576b"
             ],
             [
              0.6666666666666666,
              "#ed7953"
             ],
             [
              0.7777777777777778,
              "#fb9f3a"
             ],
             [
              0.8888888888888888,
              "#fdca26"
             ],
             [
              1,
              "#f0f921"
             ]
            ],
            "type": "surface"
           }
          ],
          "table": [
           {
            "cells": {
             "fill": {
              "color": "#EBF0F8"
             },
             "line": {
              "color": "white"
             }
            },
            "header": {
             "fill": {
              "color": "#C8D4E3"
             },
             "line": {
              "color": "white"
             }
            },
            "type": "table"
           }
          ]
         },
         "layout": {
          "annotationdefaults": {
           "arrowcolor": "#2a3f5f",
           "arrowhead": 0,
           "arrowwidth": 1
          },
          "autotypenumbers": "strict",
          "coloraxis": {
           "colorbar": {
            "outlinewidth": 0,
            "ticks": ""
           }
          },
          "colorscale": {
           "diverging": [
            [
             0,
             "#8e0152"
            ],
            [
             0.1,
             "#c51b7d"
            ],
            [
             0.2,
             "#de77ae"
            ],
            [
             0.3,
             "#f1b6da"
            ],
            [
             0.4,
             "#fde0ef"
            ],
            [
             0.5,
             "#f7f7f7"
            ],
            [
             0.6,
             "#e6f5d0"
            ],
            [
             0.7,
             "#b8e186"
            ],
            [
             0.8,
             "#7fbc41"
            ],
            [
             0.9,
             "#4d9221"
            ],
            [
             1,
             "#276419"
            ]
           ],
           "sequential": [
            [
             0,
             "#0d0887"
            ],
            [
             0.1111111111111111,
             "#46039f"
            ],
            [
             0.2222222222222222,
             "#7201a8"
            ],
            [
             0.3333333333333333,
             "#9c179e"
            ],
            [
             0.4444444444444444,
             "#bd3786"
            ],
            [
             0.5555555555555556,
             "#d8576b"
            ],
            [
             0.6666666666666666,
             "#ed7953"
            ],
            [
             0.7777777777777778,
             "#fb9f3a"
            ],
            [
             0.8888888888888888,
             "#fdca26"
            ],
            [
             1,
             "#f0f921"
            ]
           ],
           "sequentialminus": [
            [
             0,
             "#0d0887"
            ],
            [
             0.1111111111111111,
             "#46039f"
            ],
            [
             0.2222222222222222,
             "#7201a8"
            ],
            [
             0.3333333333333333,
             "#9c179e"
            ],
            [
             0.4444444444444444,
             "#bd3786"
            ],
            [
             0.5555555555555556,
             "#d8576b"
            ],
            [
             0.6666666666666666,
             "#ed7953"
            ],
            [
             0.7777777777777778,
             "#fb9f3a"
            ],
            [
             0.8888888888888888,
             "#fdca26"
            ],
            [
             1,
             "#f0f921"
            ]
           ]
          },
          "colorway": [
           "#636efa",
           "#EF553B",
           "#00cc96",
           "#ab63fa",
           "#FFA15A",
           "#19d3f3",
           "#FF6692",
           "#B6E880",
           "#FF97FF",
           "#FECB52"
          ],
          "font": {
           "color": "#2a3f5f"
          },
          "geo": {
           "bgcolor": "white",
           "lakecolor": "white",
           "landcolor": "white",
           "showlakes": true,
           "showland": true,
           "subunitcolor": "#C8D4E3"
          },
          "hoverlabel": {
           "align": "left"
          },
          "hovermode": "closest",
          "mapbox": {
           "style": "light"
          },
          "paper_bgcolor": "white",
          "plot_bgcolor": "white",
          "polar": {
           "angularaxis": {
            "gridcolor": "#EBF0F8",
            "linecolor": "#EBF0F8",
            "ticks": ""
           },
           "bgcolor": "white",
           "radialaxis": {
            "gridcolor": "#EBF0F8",
            "linecolor": "#EBF0F8",
            "ticks": ""
           }
          },
          "scene": {
           "xaxis": {
            "backgroundcolor": "white",
            "gridcolor": "#DFE8F3",
            "gridwidth": 2,
            "linecolor": "#EBF0F8",
            "showbackground": true,
            "ticks": "",
            "zerolinecolor": "#EBF0F8"
           },
           "yaxis": {
            "backgroundcolor": "white",
            "gridcolor": "#DFE8F3",
            "gridwidth": 2,
            "linecolor": "#EBF0F8",
            "showbackground": true,
            "ticks": "",
            "zerolinecolor": "#EBF0F8"
           },
           "zaxis": {
            "backgroundcolor": "white",
            "gridcolor": "#DFE8F3",
            "gridwidth": 2,
            "linecolor": "#EBF0F8",
            "showbackground": true,
            "ticks": "",
            "zerolinecolor": "#EBF0F8"
           }
          },
          "shapedefaults": {
           "line": {
            "color": "#2a3f5f"
           }
          },
          "ternary": {
           "aaxis": {
            "gridcolor": "#DFE8F3",
            "linecolor": "#A2B1C6",
            "ticks": ""
           },
           "baxis": {
            "gridcolor": "#DFE8F3",
            "linecolor": "#A2B1C6",
            "ticks": ""
           },
           "bgcolor": "white",
           "caxis": {
            "gridcolor": "#DFE8F3",
            "linecolor": "#A2B1C6",
            "ticks": ""
           }
          },
          "title": {
           "x": 0.05
          },
          "xaxis": {
           "automargin": true,
           "gridcolor": "#EBF0F8",
           "linecolor": "#EBF0F8",
           "ticks": "",
           "title": {
            "standoff": 15
           },
           "zerolinecolor": "#EBF0F8",
           "zerolinewidth": 2
          },
          "yaxis": {
           "automargin": true,
           "gridcolor": "#EBF0F8",
           "linecolor": "#EBF0F8",
           "ticks": "",
           "title": {
            "standoff": 15
           },
           "zerolinecolor": "#EBF0F8",
           "zerolinewidth": 2
          }
         }
        },
        "title": {
         "text": "Residual Analysis"
        },
        "xaxis": {
         "anchor": "y",
         "domain": [
          0,
          0.45
         ],
         "title": {
          "text": "Predicted Position"
         }
        },
        "xaxis2": {
         "anchor": "y2",
         "domain": [
          0.55,
          1
         ],
         "title": {
          "text": "Error Value"
         }
        },
        "yaxis": {
         "anchor": "x",
         "domain": [
          0,
          1
         ],
         "title": {
          "text": "Residual (Error)"
         }
        },
        "yaxis2": {
         "anchor": "x2",
         "domain": [
          0,
          1
         ],
         "title": {
          "text": "Frequency"
         }
        }
       }
      }
     },
     "metadata": {},
     "output_type": "display_data"
    }
   ],
   "source": [
    "# Residual distribution analysis\n",
    "fig = make_subplots(\n",
    "    rows=1, cols=2,\n",
    "    subplot_titles=('Residual Distribution', 'Error Distribution Histogram')\n",
    ")\n",
    "\n",
    "# Residual scatter plot\n",
    "fig.add_trace(\n",
    "    go.Scatter(\n",
    "        x=y_pred_optimized,\n",
    "        y=results_df['Error'],\n",
    "        mode='markers',\n",
    "        opacity=0.5,\n",
    "        name='Residuals'\n",
    "    ),\n",
    "    row=1, col=1\n",
    ")\n",
    "\n",
    "# Add horizontal line at 0\n",
    "fig.add_hline(y=0, line_dash=\"dash\", line_color=\"red\", row=1, col=1)\n",
    "\n",
    "# Error histogram\n",
    "fig.add_trace(\n",
    "    go.Histogram(\n",
    "        x=results_df['Error'],\n",
    "        nbinsx=30,\n",
    "        name='Error Distribution',\n",
    "        showlegend=False\n",
    "    ),\n",
    "    row=1, col=2\n",
    ")\n",
    "\n",
    "fig.update_xaxes(title_text=\"Predicted Position\", row=1, col=1)\n",
    "fig.update_yaxes(title_text=\"Residual (Error)\", row=1, col=1)\n",
    "fig.update_xaxes(title_text=\"Error Value\", row=1, col=2)\n",
    "fig.update_yaxes(title_text=\"Frequency\", row=1, col=2)\n",
    "\n",
    "fig.update_layout(height=500, title_text=\"Residual Analysis\")\n",
    "fig.show()\n"
   ]
  },
  {
   "cell_type": "code",
   "execution_count": 21,
   "id": "c5161ad5",
   "metadata": {},
   "outputs": [
    {
     "data": {
      "application/vnd.plotly.v1+json": {
       "config": {
        "plotlyServerURL": "https://plot.ly"
       },
       "data": [
        {
         "mode": "markers",
         "name": "Predictions",
         "opacity": 0.5,
         "type": "scatter",
         "x": {
          "bdata": "DxAFCgYIBQoEBQECBwoQCBQFEwUEFAkFEAYFEgcHDAkHAQQLBRQQFBEIBgwDFAETCAkQAxMUDQoQBAsUDwYOCAsBCQ8NAgkRCxIPAQ0EAgcTEgoLDwgCEQIOCAcKBBAOCBAFDQgEAgIBFAUQCgcKCwgIDA8TEgEFBhQKCxMQCBAHChMSDQoMBQ4JEgsBEwsSEQsBBwsCAhMRAhMKDgYOEw4UCQ4IExAGEgsRDBMTCAIJBw4RBQENBxEIBA8HEQwSAwEDBAsPDAUIEgMTBBATBgYNBxEOAg4OExQODAMLDwYIBAgMDAEUFAQNEBAHEQENEgMOAxQNFBEJEA8DBRMCEAkMDAMNEgsKEAoSCwIUCQgOCQkBDA4NEQ0JAQsOEgwEDBMBCg8HDQYFAgYRBAIDBgcHEAkLBAgNDAYNBxINDgIMBxENCwwHBgIPBhEDDgYMCQQBEQUGCxMJFAcBAhEPFBQGDgkQAwMMBwMNEw4MCg8BBAsJDRAHDwoSBwUKEwwUEgoGERMQAw4GBhAMBAcLDw4QDQ8GEg4PAwcGFAcFBQsKEQQJAgoIBAcOAwMSCRQMBQwJDgkEDwgLDwMBBAMGCg8NCAEDCBMQAwkICAMKDAMFCQcMBRQRARQGAQEQDxISEgkIAQEJAgILEQMEARECDBACDRILEgsNEw0CBAoPBgEUBxQPEhIQEwUUFAsIBRELEBIDEwoUCQ8CEwENBBITBAkDEQQIEQsLEwIFDgoDDwoHDhQFCxICAg8SAwcSCBEUDRIQCgsJBg8EDQIGBAgRCRMDCRAOEQgUEQwBEQoCBQ4UBA8SBgwCDAQFEQkNEw8NEAoIAw8PBwUEBQIGAw4KDgoRBQYQAQ0FBg0MDw4LAQoMEwcPCAENBA==",
          "dtype": "i1"
         },
         "y": {
          "bdata": "ymqBQUAD5UAR669AcM1pQZbrB0Fe+iVBTSxhQO5ExEBqFNNAkNvrQFmXY0Da/0lA2ZkVQbgoO0H+QoZBkaU9QdQjk0Fzb49AGi4vQT/VVUE3/T1BdvAMQYpjEEH8tANBRwRNQZXrqD9J6jdBxP6MQdU8o0A/VNhAuFpOQZrs70C1mtBAKfyRQPTSFEFP3ilB+Jm1QPMyS0GJFxVByFCKQRuTikFlcdlAvY9XQbLyVUGT2ChBveKTQeCFtj/tIYdBnNAMQS+gAUFM9WFBiWFPQFOOfkGTTodBqk1OQdh0IkFCBYtB//QBQU5TXEGJnoFBxu14Qa6RFUFfAVFBlCtFQWNpQkARRfw/BfIRQZvqWkE57V5BbJIrQbEyOkGNFB5BKulQQUrEkUFH5V1BiRFyQKuOKkFWp1lAWfoQQJ+QI0G0DoVBcU6OQX8yWkGHkUhBA6OCQR7vyECIkEZAHj+GQR71l0B22xlBA5M8QdTWIEHkG9NAUYKDQKaLRkHXAH5Bb4iPQAF9fUGvsRJB3s86QZT2+0CzRTdAioZpQLy1lECXQS5AZKKAQSjb7UAO1TJBN8JeQXUNtUAjUTVBhgQ4QQEB+0Df7gNB0DMxQbv0P0HBxHJBc1JgQRtqhkD9rANBqAiyQCVJkUE+MgRBCMV+QQAGjEEXCGxBAt3HQHH9dkEdlwZB33dWQW3vDUCluYVBMh1pQYXGWUHzVXtBiy/tQEGNYEFDwyRBqLuMQfOpikHfqyVBWqOIQau3NkG+UUNBKlBXQbkTXEFFA2RAxsD7QELMHEF6LkhAo8zOQFeKPkExLopB+sAvQMfMiUF2nSRBZpVgQW+R5EAk3WpBl9ZTQcFlUkFa9HVB6oEdQVxyj0F1ZAZBHYPxQJa+c0FDWeBAJJ+OQfDtD0FvY4BBepl0QbApmEEVjh1BQBkOQfb5EkB9IjBA/pzeQID6aUGQwo5B2RgAQT1yLECPIWVBQwm1QAPVh0HyTrBAU3hIQTlwW0FomiJBdgSJQV23YUEpRn1BKA8yQZIkMUCOQ4VAQkU9QO8bVEGJiGxBtUEsQY77+kB7wGVBwR81QXdf/0D+u41BfRAdQXN4eEH+6KFAQD7+QNthqECMw15BdEguQe4oQEEtsGtBXWnSQN9AGUG2aGtBXeEpQew23kCYhwFBmoRqQUUbIkEbJFRB8iR9QdKq9EBclppAixJlQGQj10DAF4VBQ7wqQfjolkAhF35BsSdKQf3md0D+HXVBmSVzQcaRakFNRThBBfZwQZp+jUAfzR1B/6GSQcLmxUACwW5ByjNUQG60FEH3AiZBLOJWQe5Hi0GdlzxB6XV8QX0QZUG8sgVABOLlQGMiHUEieyVAcD+AQfHrF0FFajJBcgZOQYk9eECC8WZB8O50QfeoQ0F0ORRBI7VxQVGBaUGg3RRBgo9ZQVg4zEBd/ZRBl80JQZj0CkFKcIdBaDHzQPZ3N0H3ngZAdWcvQR6qOUHsz9tAEv6GQVALe0HTvBBBkc4LQFBDTEGTEmpBLDZiQV0HR0EGtUlA3r9zQaCxI0FLOg1AR9ZEQWkTekEe54hApxNNQQIVgkAPOKpAgtW8QKv8QUB2k71ApLUnQdQKvkDqH/FAp2oQQWEBJ0HcK9dA0rd/QZTXcEGO6yZBvtnbQKBoIEEqaQtBQlpTQWxBI0FiyoJBxAf2QHPTYUH9tgtBO2tKQWqxOEBeSPBAAqdPQSovD0Hks1hBQgouQXyweUF+YTJBgyHEQB5R3z80H5BBdXldQL90fkFng6dATs5zQT8txkBO6kxBPA4AQdvcAUF3nKI//1B0Qb1qwUDqX9BASfBIQeQYdUEcbzlBDfZyQfH3JkEbyalA4oArQLajTkHqW3VBF4ZPQXuJJkELQ/1AUyNRQb0QRkEuBoZB7tSUQGfFeUB2Sl9BHTIIQQmKGUELc4NBt9toQSa7i0Efy2tBSQuFQbYmbkHuxaZAtQHLQAjpQEHCdrpAi8XEQATjf0Fc4i1BCK9jQT8XGEGAXzdBWe0VQXWul0Cz+WdB8QLaQPSnOEHUSmVBZvODQRNRK0Ec3QRB2PUOQeVBREHVDIJB95eqQBADYEHWojw/Ks05QZV+J0E4izRBXYyBQHRbK0E7/0VBSpV9QaUjZ0F435NBWFQOQWTaaUEUYd9AAK0fQa+3OUHyVjNBYnaBQFTLi0FxNMNAV++CQVnU7kDMZA9BzTYHQRuIM0H0uBNBSGBCQY3+DUB17BpBc2pEQM+SUkEGNRVB84MtQMK21UAr/U9BwQ0uQTK8fUClqY1BhV/mQG+3LkHK2ERBNvwaQZ9UTEFlYhJBknR+QUYILkF5ARlAYVx9QR2dREEExlJBVZZXQWtYnj+ssJtANdPSQN7m3UDK08BA4D4VQc83eEHbeHBBBW85QWanVUDpHz5BxPUKQSVgF0GDwXhBeBinQBTlSkH7IXZAGgQ/QepBEEEGo4lA31VEQf92wEDhviVBV3EOQcukAEG8pRZBy9EFQaeFlEEcbmFBhTwZQCcPXUEH2kpATRGNPx0Dj0B640xBvM9CQWI+fkG3P3VAyyAzQV7szUDTzClBOgEaQWn2KUFHvCRBAUn3QODUpUBP6OZA/9CNQCwU1kBWLxtBI9a+QABkikEtY7tAtjo9Qa1LKUEMrlFAybg5QVxJikGNUgRBTzmBQbEBMEHSZ2xB0WRrQXViXUH9Y9tApKrCQAXtT0HY8kNBQKY0QXTn80BlxwJBHznLQGjU6UDiqYBBwxtpQeDKgUFfwYFB/wVoQTrH20A5RZdAE/U/QUfvOUFSpQVBdd/PQCTEiEF6REFBDOyFQaAQeEFkh3xAcJ89QYouQ0HD5YNBpE71QJzGOUFpdVBA6IdOQdLb40AFdUFBG0ZWQFeHEUFPtR9BEOuUQG1l4UCv3qdA2WGGQWGfiUCW8BpBA/25QObyKEGwy19BF6BqQblwB0HvWfJAkoBhQZCJBEGDiVpAeiV0QddDAkFdv2xBqq96QbaUUUG01D5ApIZmQemDdkEj22BA71YeQHJHWEGbrpJBthY0QPuREkENUiJA7CkgQWEzfEEF20JBqiZlQahgekEpc4ZBkwBMQX+sO0ExyAJBs3E1QSw8LEHpxT9AIXE9QZPJMkCcAslA/vAeQAAvb0CCzo5BKk8LQUpZlkEQjqdA860IQWx1ekHgDE1BLkJgQdB0RUE7q15BuZxpQYjvK0FzmMw/krmJQTLT90ClErs/6HjIQCkKRkHyA5pBNi2YQLXIVUGF8oVBtZQJQeu/RkGlRUpAWeRLQUOHMEF6plFBBWKCQY/+cEGpkHhBtTtMQRudeEGhuilBTIiwQOXNKEFmCvBApp8/QLxhWEEVql1B9NTCQKANDkEfGwVAOFUIQe/sUUCbL51AgGFJQMa8c0FTLyxBmvx3QYpFUkF2lVxBWh28QJ9HMEHDfmRBjP+bP7cjKUGF/oJA8EICQXVLQEGEUIBB2hZyQc3TDUFJnytBZfzbP3RiH0Hhe2dBhdQ3QY4CCUBsjlZBealQQeRGpT+hSnVBPUACQA==",
          "dtype": "f4"
         }
        },
        {
         "line": {
          "color": "red",
          "dash": "dash"
         },
         "mode": "lines",
         "name": "Perfect Prediction",
         "type": "scatter",
         "x": [
          0,
          20
         ],
         "y": [
          0,
          20
         ]
        }
       ],
       "layout": {
        "height": 600,
        "showlegend": true,
        "template": {
         "data": {
          "bar": [
           {
            "error_x": {
             "color": "#2a3f5f"
            },
            "error_y": {
             "color": "#2a3f5f"
            },
            "marker": {
             "line": {
              "color": "white",
              "width": 0.5
             },
             "pattern": {
              "fillmode": "overlay",
              "size": 10,
              "solidity": 0.2
             }
            },
            "type": "bar"
           }
          ],
          "barpolar": [
           {
            "marker": {
             "line": {
              "color": "white",
              "width": 0.5
             },
             "pattern": {
              "fillmode": "overlay",
              "size": 10,
              "solidity": 0.2
             }
            },
            "type": "barpolar"
           }
          ],
          "carpet": [
           {
            "aaxis": {
             "endlinecolor": "#2a3f5f",
             "gridcolor": "#C8D4E3",
             "linecolor": "#C8D4E3",
             "minorgridcolor": "#C8D4E3",
             "startlinecolor": "#2a3f5f"
            },
            "baxis": {
             "endlinecolor": "#2a3f5f",
             "gridcolor": "#C8D4E3",
             "linecolor": "#C8D4E3",
             "minorgridcolor": "#C8D4E3",
             "startlinecolor": "#2a3f5f"
            },
            "type": "carpet"
           }
          ],
          "choropleth": [
           {
            "colorbar": {
             "outlinewidth": 0,
             "ticks": ""
            },
            "type": "choropleth"
           }
          ],
          "contour": [
           {
            "colorbar": {
             "outlinewidth": 0,
             "ticks": ""
            },
            "colorscale": [
             [
              0,
              "#0d0887"
             ],
             [
              0.1111111111111111,
              "#46039f"
             ],
             [
              0.2222222222222222,
              "#7201a8"
             ],
             [
              0.3333333333333333,
              "#9c179e"
             ],
             [
              0.4444444444444444,
              "#bd3786"
             ],
             [
              0.5555555555555556,
              "#d8576b"
             ],
             [
              0.6666666666666666,
              "#ed7953"
             ],
             [
              0.7777777777777778,
              "#fb9f3a"
             ],
             [
              0.8888888888888888,
              "#fdca26"
             ],
             [
              1,
              "#f0f921"
             ]
            ],
            "type": "contour"
           }
          ],
          "contourcarpet": [
           {
            "colorbar": {
             "outlinewidth": 0,
             "ticks": ""
            },
            "type": "contourcarpet"
           }
          ],
          "heatmap": [
           {
            "colorbar": {
             "outlinewidth": 0,
             "ticks": ""
            },
            "colorscale": [
             [
              0,
              "#0d0887"
             ],
             [
              0.1111111111111111,
              "#46039f"
             ],
             [
              0.2222222222222222,
              "#7201a8"
             ],
             [
              0.3333333333333333,
              "#9c179e"
             ],
             [
              0.4444444444444444,
              "#bd3786"
             ],
             [
              0.5555555555555556,
              "#d8576b"
             ],
             [
              0.6666666666666666,
              "#ed7953"
             ],
             [
              0.7777777777777778,
              "#fb9f3a"
             ],
             [
              0.8888888888888888,
              "#fdca26"
             ],
             [
              1,
              "#f0f921"
             ]
            ],
            "type": "heatmap"
           }
          ],
          "histogram": [
           {
            "marker": {
             "pattern": {
              "fillmode": "overlay",
              "size": 10,
              "solidity": 0.2
             }
            },
            "type": "histogram"
           }
          ],
          "histogram2d": [
           {
            "colorbar": {
             "outlinewidth": 0,
             "ticks": ""
            },
            "colorscale": [
             [
              0,
              "#0d0887"
             ],
             [
              0.1111111111111111,
              "#46039f"
             ],
             [
              0.2222222222222222,
              "#7201a8"
             ],
             [
              0.3333333333333333,
              "#9c179e"
             ],
             [
              0.4444444444444444,
              "#bd3786"
             ],
             [
              0.5555555555555556,
              "#d8576b"
             ],
             [
              0.6666666666666666,
              "#ed7953"
             ],
             [
              0.7777777777777778,
              "#fb9f3a"
             ],
             [
              0.8888888888888888,
              "#fdca26"
             ],
             [
              1,
              "#f0f921"
             ]
            ],
            "type": "histogram2d"
           }
          ],
          "histogram2dcontour": [
           {
            "colorbar": {
             "outlinewidth": 0,
             "ticks": ""
            },
            "colorscale": [
             [
              0,
              "#0d0887"
             ],
             [
              0.1111111111111111,
              "#46039f"
             ],
             [
              0.2222222222222222,
              "#7201a8"
             ],
             [
              0.3333333333333333,
              "#9c179e"
             ],
             [
              0.4444444444444444,
              "#bd3786"
             ],
             [
              0.5555555555555556,
              "#d8576b"
             ],
             [
              0.6666666666666666,
              "#ed7953"
             ],
             [
              0.7777777777777778,
              "#fb9f3a"
             ],
             [
              0.8888888888888888,
              "#fdca26"
             ],
             [
              1,
              "#f0f921"
             ]
            ],
            "type": "histogram2dcontour"
           }
          ],
          "mesh3d": [
           {
            "colorbar": {
             "outlinewidth": 0,
             "ticks": ""
            },
            "type": "mesh3d"
           }
          ],
          "parcoords": [
           {
            "line": {
             "colorbar": {
              "outlinewidth": 0,
              "ticks": ""
             }
            },
            "type": "parcoords"
           }
          ],
          "pie": [
           {
            "automargin": true,
            "type": "pie"
           }
          ],
          "scatter": [
           {
            "fillpattern": {
             "fillmode": "overlay",
             "size": 10,
             "solidity": 0.2
            },
            "type": "scatter"
           }
          ],
          "scatter3d": [
           {
            "line": {
             "colorbar": {
              "outlinewidth": 0,
              "ticks": ""
             }
            },
            "marker": {
             "colorbar": {
              "outlinewidth": 0,
              "ticks": ""
             }
            },
            "type": "scatter3d"
           }
          ],
          "scattercarpet": [
           {
            "marker": {
             "colorbar": {
              "outlinewidth": 0,
              "ticks": ""
             }
            },
            "type": "scattercarpet"
           }
          ],
          "scattergeo": [
           {
            "marker": {
             "colorbar": {
              "outlinewidth": 0,
              "ticks": ""
             }
            },
            "type": "scattergeo"
           }
          ],
          "scattergl": [
           {
            "marker": {
             "colorbar": {
              "outlinewidth": 0,
              "ticks": ""
             }
            },
            "type": "scattergl"
           }
          ],
          "scattermap": [
           {
            "marker": {
             "colorbar": {
              "outlinewidth": 0,
              "ticks": ""
             }
            },
            "type": "scattermap"
           }
          ],
          "scattermapbox": [
           {
            "marker": {
             "colorbar": {
              "outlinewidth": 0,
              "ticks": ""
             }
            },
            "type": "scattermapbox"
           }
          ],
          "scatterpolar": [
           {
            "marker": {
             "colorbar": {
              "outlinewidth": 0,
              "ticks": ""
             }
            },
            "type": "scatterpolar"
           }
          ],
          "scatterpolargl": [
           {
            "marker": {
             "colorbar": {
              "outlinewidth": 0,
              "ticks": ""
             }
            },
            "type": "scatterpolargl"
           }
          ],
          "scatterternary": [
           {
            "marker": {
             "colorbar": {
              "outlinewidth": 0,
              "ticks": ""
             }
            },
            "type": "scatterternary"
           }
          ],
          "surface": [
           {
            "colorbar": {
             "outlinewidth": 0,
             "ticks": ""
            },
            "colorscale": [
             [
              0,
              "#0d0887"
             ],
             [
              0.1111111111111111,
              "#46039f"
             ],
             [
              0.2222222222222222,
              "#7201a8"
             ],
             [
              0.3333333333333333,
              "#9c179e"
             ],
             [
              0.4444444444444444,
              "#bd3786"
             ],
             [
              0.5555555555555556,
              "#d8576b"
             ],
             [
              0.6666666666666666,
              "#ed7953"
             ],
             [
              0.7777777777777778,
              "#fb9f3a"
             ],
             [
              0.8888888888888888,
              "#fdca26"
             ],
             [
              1,
              "#f0f921"
             ]
            ],
            "type": "surface"
           }
          ],
          "table": [
           {
            "cells": {
             "fill": {
              "color": "#EBF0F8"
             },
             "line": {
              "color": "white"
             }
            },
            "header": {
             "fill": {
              "color": "#C8D4E3"
             },
             "line": {
              "color": "white"
             }
            },
            "type": "table"
           }
          ]
         },
         "layout": {
          "annotationdefaults": {
           "arrowcolor": "#2a3f5f",
           "arrowhead": 0,
           "arrowwidth": 1
          },
          "autotypenumbers": "strict",
          "coloraxis": {
           "colorbar": {
            "outlinewidth": 0,
            "ticks": ""
           }
          },
          "colorscale": {
           "diverging": [
            [
             0,
             "#8e0152"
            ],
            [
             0.1,
             "#c51b7d"
            ],
            [
             0.2,
             "#de77ae"
            ],
            [
             0.3,
             "#f1b6da"
            ],
            [
             0.4,
             "#fde0ef"
            ],
            [
             0.5,
             "#f7f7f7"
            ],
            [
             0.6,
             "#e6f5d0"
            ],
            [
             0.7,
             "#b8e186"
            ],
            [
             0.8,
             "#7fbc41"
            ],
            [
             0.9,
             "#4d9221"
            ],
            [
             1,
             "#276419"
            ]
           ],
           "sequential": [
            [
             0,
             "#0d0887"
            ],
            [
             0.1111111111111111,
             "#46039f"
            ],
            [
             0.2222222222222222,
             "#7201a8"
            ],
            [
             0.3333333333333333,
             "#9c179e"
            ],
            [
             0.4444444444444444,
             "#bd3786"
            ],
            [
             0.5555555555555556,
             "#d8576b"
            ],
            [
             0.6666666666666666,
             "#ed7953"
            ],
            [
             0.7777777777777778,
             "#fb9f3a"
            ],
            [
             0.8888888888888888,
             "#fdca26"
            ],
            [
             1,
             "#f0f921"
            ]
           ],
           "sequentialminus": [
            [
             0,
             "#0d0887"
            ],
            [
             0.1111111111111111,
             "#46039f"
            ],
            [
             0.2222222222222222,
             "#7201a8"
            ],
            [
             0.3333333333333333,
             "#9c179e"
            ],
            [
             0.4444444444444444,
             "#bd3786"
            ],
            [
             0.5555555555555556,
             "#d8576b"
            ],
            [
             0.6666666666666666,
             "#ed7953"
            ],
            [
             0.7777777777777778,
             "#fb9f3a"
            ],
            [
             0.8888888888888888,
             "#fdca26"
            ],
            [
             1,
             "#f0f921"
            ]
           ]
          },
          "colorway": [
           "#636efa",
           "#EF553B",
           "#00cc96",
           "#ab63fa",
           "#FFA15A",
           "#19d3f3",
           "#FF6692",
           "#B6E880",
           "#FF97FF",
           "#FECB52"
          ],
          "font": {
           "color": "#2a3f5f"
          },
          "geo": {
           "bgcolor": "white",
           "lakecolor": "white",
           "landcolor": "white",
           "showlakes": true,
           "showland": true,
           "subunitcolor": "#C8D4E3"
          },
          "hoverlabel": {
           "align": "left"
          },
          "hovermode": "closest",
          "mapbox": {
           "style": "light"
          },
          "paper_bgcolor": "white",
          "plot_bgcolor": "white",
          "polar": {
           "angularaxis": {
            "gridcolor": "#EBF0F8",
            "linecolor": "#EBF0F8",
            "ticks": ""
           },
           "bgcolor": "white",
           "radialaxis": {
            "gridcolor": "#EBF0F8",
            "linecolor": "#EBF0F8",
            "ticks": ""
           }
          },
          "scene": {
           "xaxis": {
            "backgroundcolor": "white",
            "gridcolor": "#DFE8F3",
            "gridwidth": 2,
            "linecolor": "#EBF0F8",
            "showbackground": true,
            "ticks": "",
            "zerolinecolor": "#EBF0F8"
           },
           "yaxis": {
            "backgroundcolor": "white",
            "gridcolor": "#DFE8F3",
            "gridwidth": 2,
            "linecolor": "#EBF0F8",
            "showbackground": true,
            "ticks": "",
            "zerolinecolor": "#EBF0F8"
           },
           "zaxis": {
            "backgroundcolor": "white",
            "gridcolor": "#DFE8F3",
            "gridwidth": 2,
            "linecolor": "#EBF0F8",
            "showbackground": true,
            "ticks": "",
            "zerolinecolor": "#EBF0F8"
           }
          },
          "shapedefaults": {
           "line": {
            "color": "#2a3f5f"
           }
          },
          "ternary": {
           "aaxis": {
            "gridcolor": "#DFE8F3",
            "linecolor": "#A2B1C6",
            "ticks": ""
           },
           "baxis": {
            "gridcolor": "#DFE8F3",
            "linecolor": "#A2B1C6",
            "ticks": ""
           },
           "bgcolor": "white",
           "caxis": {
            "gridcolor": "#DFE8F3",
            "linecolor": "#A2B1C6",
            "ticks": ""
           }
          },
          "title": {
           "x": 0.05
          },
          "xaxis": {
           "automargin": true,
           "gridcolor": "#EBF0F8",
           "linecolor": "#EBF0F8",
           "ticks": "",
           "title": {
            "standoff": 15
           },
           "zerolinecolor": "#EBF0F8",
           "zerolinewidth": 2
          },
          "yaxis": {
           "automargin": true,
           "gridcolor": "#EBF0F8",
           "linecolor": "#EBF0F8",
           "ticks": "",
           "title": {
            "standoff": 15
           },
           "zerolinecolor": "#EBF0F8",
           "zerolinewidth": 2
          }
         }
        },
        "title": {
         "text": "Actual vs Predicted Positions"
        },
        "xaxis": {
         "title": {
          "text": "Actual Position"
         }
        },
        "yaxis": {
         "title": {
          "text": "Predicted Position"
         }
        }
       }
      }
     },
     "metadata": {},
     "output_type": "display_data"
    }
   ],
   "source": [
    "# Position comparison plot\n",
    "fig = go.Figure()\n",
    "\n",
    "fig.add_trace(\n",
    "    go.Scatter(\n",
    "        x=results_df['Actual'],\n",
    "        y=results_df['Predicted'],\n",
    "        mode='markers',\n",
    "        opacity=0.5,\n",
    "        name='Predictions'\n",
    "    )\n",
    ")\n",
    "\n",
    "# Perfect prediction line\n",
    "fig.add_trace(\n",
    "    go.Scatter(\n",
    "        x=[0, 20],\n",
    "        y=[0, 20],\n",
    "        mode='lines',\n",
    "        line=dict(dash='dash', color='red'),\n",
    "        name='Perfect Prediction'\n",
    "    )\n",
    ")\n",
    "\n",
    "fig.update_layout(\n",
    "    title='Actual vs Predicted Positions',\n",
    "    xaxis_title='Actual Position',\n",
    "    yaxis_title='Predicted Position',\n",
    "    showlegend=True,\n",
    "    height=600\n",
    ")\n",
    "\n",
    "fig.show()\n"
   ]
  },
  {
   "cell_type": "markdown",
   "id": "e6cb352c",
   "metadata": {},
   "source": [
    "## 8. Model Saving and Results\n"
   ]
  },
  {
   "cell_type": "code",
   "execution_count": 22,
   "id": "9d4a20b7",
   "metadata": {},
   "outputs": [
    {
     "name": "stdout",
     "output_type": "stream",
     "text": [
      "Model saved successfully!\n"
     ]
    }
   ],
   "source": [
    "# Save the model\n",
    "import joblib\n",
    "import os\n",
    "\n",
    "# Create models directory if it doesn't exist\n",
    "os.makedirs('../models/xgboost', exist_ok=True)\n",
    "\n",
    "# Save model and encoders\n",
    "joblib.dump(optimized_model, '../models/xgboost/xgboost_model.pkl')\n",
    "joblib.dump(le_dict, '../models/xgboost/label_encoders.pkl')\n",
    "\n",
    "print(\"Model saved successfully!\")\n"
   ]
  },
  {
   "cell_type": "code",
   "execution_count": null,
   "id": "168702cf",
   "metadata": {},
   "outputs": [],
   "source": [
    "# Final results summary\n",
    "print(\"=== F1 RACE PREDICTION MODEL RESULTS ===\")\n",
    "print(f\"\\nDataset size: {df.shape}\")\n",
    "print(f\"Training set size: {X_train.shape}\")\n",
    "print(f\"Test set size: {X_test.shape}\")\n",
    "\n",
    "print(\"\\n=== MODEL PERFORMANCE ===\")\n",
    "print(\"Baseline Model:\")\n",
    "for metric, value in baseline_metrics.items():\n",
    "    print(f\"  {metric}: {value:.4f}\")\n",
    "\n",
    "print(\"\\nOptimized Model:\")\n",
    "for metric, value in optimized_metrics.items():\n",
    "    print(f\"  {metric}: {value:.4f}\")\n",
    "\n",
    "print(\"\\n=== TOP IMPORTANT FEATURES ===\")\n",
    "for i, row in importance_df.head(10).iterrows():\n",
    "    print(f\"  {row['feature']}: {row['importance']:.2f}\")\n",
    "\n",
    "print(f\"\\nModel file: ../models/xgboost/xgboost_model.pkl\")\n",
    "print(\"Optimization database: xgboost_optimization.db\")"
   ]
  },
  {
   "cell_type": "markdown",
   "id": "a9eb12df",
   "metadata": {},
   "source": [
    "## 9. XGBoost Ranking Model (Learning to Rank)\n",
    "\n",
    "F1 races are fundamentally a ranking problem - we want to predict the order of drivers, not just individual positions. XGBoost's ranking objective (`rank:pairwise`) is specifically designed for this.\n",
    "\n",
    "### Why Ranking Model?\n",
    "- **Pairwise comparison:** Learns which driver will finish ahead of another\n",
    "- **Better for ordinal data:** Position 1 vs 2 is more important than 19 vs 20\n",
    "- **Race-specific grouping:** Considers all drivers in a race together\n"
   ]
  },
  {
   "cell_type": "code",
   "execution_count": 24,
   "id": "7ba6e8a4",
   "metadata": {},
   "outputs": [
    {
     "name": "stdout",
     "output_type": "stream",
     "text": [
      "Ranking dataset shape: (3318, 52)\n",
      "Number of races: 166\n"
     ]
    }
   ],
   "source": [
    "# Prepare data for ranking\n",
    "# We need group information - how many drivers per race\n",
    "df_full = pd.read_csv('../data/processed/xgboost/final_model_dataset.csv')\n",
    "\n",
    "# Create race identifier (year + round)\n",
    "df_full['race_id'] = df_full['year'].astype(str) + '_' + df_full['round'].astype(str)\n",
    "\n",
    "# Encode categorical variables for ranking model\n",
    "le_dict_rank = {}\n",
    "for col in df_full.select_dtypes(exclude=[np.number]).columns:\n",
    "    if col not in ['race_id', 'target_position']:\n",
    "        le = LabelEncoder()\n",
    "        df_full[col] = le.fit_transform(df_full[col])\n",
    "        le_dict_rank[col] = le\n",
    "\n",
    "# Prepare features and target\n",
    "feature_cols_rank = [col for col in df_full.columns if col not in ['target_position', 'race_id']]\n",
    "X_rank = df_full[feature_cols_rank]\n",
    "y_rank = df_full['target_position']\n",
    "\n",
    "print(f\"Ranking dataset shape: {X_rank.shape}\")\n",
    "print(f\"Number of races: {df_full['race_id'].nunique()}\")\n"
   ]
  },
  {
   "cell_type": "code",
   "execution_count": 25,
   "id": "3c62c199",
   "metadata": {},
   "outputs": [
    {
     "name": "stdout",
     "output_type": "stream",
     "text": [
      "Training races: 132\n",
      "Test races: 34\n",
      "Training samples: 2638\n",
      "Test samples: 680\n",
      "Training groups: 132\n",
      "Test groups: 34\n",
      "Average drivers per race: 20.0\n"
     ]
    }
   ],
   "source": [
    "# Split data by races (not randomly by individual records)\n",
    "# Get unique race IDs\n",
    "race_ids = df_full['race_id'].unique()\n",
    "np.random.seed(42)\n",
    "np.random.shuffle(race_ids)\n",
    "\n",
    "# 80-20 split\n",
    "split_idx = int(len(race_ids) * 0.8)\n",
    "train_race_ids = race_ids[:split_idx]\n",
    "test_race_ids = race_ids[split_idx:]\n",
    "\n",
    "# Create train/test masks\n",
    "train_mask = df_full['race_id'].isin(train_race_ids)\n",
    "test_mask = df_full['race_id'].isin(test_race_ids)\n",
    "\n",
    "X_train_rank = X_rank[train_mask]\n",
    "y_train_rank = y_rank[train_mask]\n",
    "X_test_rank = X_rank[test_mask]\n",
    "y_test_rank = y_rank[test_mask]\n",
    "\n",
    "# Create group arrays (number of drivers per race)\n",
    "train_groups = df_full[train_mask].groupby('race_id').size().values\n",
    "test_groups = df_full[test_mask].groupby('race_id').size().values\n",
    "\n",
    "print(f\"Training races: {len(train_race_ids)}\")\n",
    "print(f\"Test races: {len(test_race_ids)}\")\n",
    "print(f\"Training samples: {len(X_train_rank)}\")\n",
    "print(f\"Test samples: {len(X_test_rank)}\")\n",
    "print(f\"Training groups: {len(train_groups)}\")\n",
    "print(f\"Test groups: {len(test_groups)}\")\n",
    "print(f\"Average drivers per race: {train_groups.mean():.1f}\")\n"
   ]
  },
  {
   "cell_type": "code",
   "execution_count": 26,
   "id": "c376ee4a",
   "metadata": {},
   "outputs": [
    {
     "name": "stdout",
     "output_type": "stream",
     "text": [
      "Training XGBoost Ranker...\n",
      "\n",
      "✓ Ranking model trained!\n"
     ]
    }
   ],
   "source": [
    "# Create XGBoost Ranker model\n",
    "ranker_model = xgb.XGBRanker(\n",
    "    objective='rank:pairwise',\n",
    "    learning_rate=0.1,\n",
    "    n_estimators=300,\n",
    "    max_depth=6,\n",
    "    subsample=0.8,\n",
    "    colsample_bytree=0.8,\n",
    "    random_state=42,\n",
    "    verbosity=1\n",
    ")\n",
    "\n",
    "print(\"Training XGBoost Ranker...\")\n",
    "ranker_model.fit(\n",
    "    X_train_rank, \n",
    "    y_train_rank,\n",
    "    group=train_groups,\n",
    "    verbose=True\n",
    ")\n",
    "\n",
    "print(\"\\n✓ Ranking model trained!\")\n"
   ]
  },
  {
   "cell_type": "code",
   "execution_count": 27,
   "id": "260dae8b",
   "metadata": {},
   "outputs": [
    {
     "name": "stdout",
     "output_type": "stream",
     "text": [
      "XGBoost Ranker Performance:\n",
      "Top-3 Accuracy: 71.32%\n",
      "Top-5 Accuracy: 84.41%\n",
      "MAE: 2.9735\n"
     ]
    }
   ],
   "source": [
    "# Evaluate ranking model\n",
    "y_pred_ranker = ranker_model.predict(X_test_rank)\n",
    "\n",
    "# For ranking, we need to evaluate within each race group\n",
    "test_df = df_full[test_mask].copy()\n",
    "test_df['predicted_score'] = y_pred_ranker\n",
    "\n",
    "# Calculate metrics per race and then average\n",
    "def evaluate_ranking_per_race(group):\n",
    "    \"\"\"Evaluate ranking within a single race\"\"\"\n",
    "    actual = group['target_position'].values\n",
    "    predicted_scores = group['predicted_score'].values\n",
    "    \n",
    "    # Convert scores to ranks (lower score = better rank)\n",
    "    predicted_ranks = predicted_scores.argsort().argsort() + 1\n",
    "    \n",
    "    # Calculate metrics\n",
    "    top3_acc = calculate_topk_accuracy(actual, predicted_ranks, 3)\n",
    "    top5_acc = calculate_topk_accuracy(actual, predicted_ranks, 5)\n",
    "    mae = np.abs(actual - predicted_ranks).mean()\n",
    "    \n",
    "    return pd.Series({\n",
    "        'top3_accuracy': top3_acc,\n",
    "        'top5_accuracy': top5_acc,\n",
    "        'mae': mae\n",
    "    })\n",
    "\n",
    "# Evaluate per race\n",
    "race_metrics = test_df.groupby('race_id').apply(evaluate_ranking_per_race)\n",
    "\n",
    "ranker_metrics = {\n",
    "    'Top-3 Accuracy': race_metrics['top3_accuracy'].mean(),\n",
    "    'Top-5 Accuracy': race_metrics['top5_accuracy'].mean(),\n",
    "    'MAE': race_metrics['mae'].mean()\n",
    "}\n",
    "\n",
    "print(\"XGBoost Ranker Performance:\")\n",
    "for metric, value in ranker_metrics.items():\n",
    "    if 'Accuracy' in metric:\n",
    "        print(f\"{metric}: {value:.2%}\")\n",
    "    else:\n",
    "        print(f\"{metric}: {value:.4f}\")\n"
   ]
  },
  {
   "cell_type": "code",
   "execution_count": 28,
   "id": "5b38c500",
   "metadata": {},
   "outputs": [
    {
     "name": "stdout",
     "output_type": "stream",
     "text": [
      "================================================================================\n",
      "FINAL MODEL COMPARISON\n",
      "================================================================================\n",
      "\n",
      "\n",
      "              Model  Top-3 Accuracy  Top-5 Accuracy      MAE\n",
      " Baseline Regressor        0.644578        0.811747 2.970531\n",
      "Optimized Regressor        0.650602        0.843373 2.775074\n",
      "     XGBoost Ranker        0.713235        0.844118 2.973529\n"
     ]
    },
    {
     "data": {
      "application/vnd.plotly.v1+json": {
       "config": {
        "plotlyServerURL": "https://plot.ly"
       },
       "data": [
        {
         "name": "Top-3 Accuracy",
         "text": [
          "64.5%",
          "65.1%",
          "71.3%"
         ],
         "textposition": "auto",
         "type": "bar",
         "x": [
          "Baseline Regressor",
          "Optimized Regressor",
          "XGBoost Ranker"
         ],
         "y": {
          "bdata": "MlDCG00dUEDeaOr82kNQQLa0tLS01FFA",
          "dtype": "f8"
         }
        },
        {
         "name": "Top-5 Accuracy",
         "text": [
          "81.2%",
          "84.3%",
          "84.4%"
         ],
         "textposition": "auto",
         "type": "bar",
         "x": [
          "Baseline Regressor",
          "Optimized Regressor",
          "XGBoost Ranker"
         ],
         "y": {
          "bdata": "6vzaQy5LVEB2fu0hlxVVQFpaWlpaGlVA",
          "dtype": "f8"
         }
        }
       ],
       "layout": {
        "barmode": "group",
        "height": 500,
        "template": {
         "data": {
          "bar": [
           {
            "error_x": {
             "color": "#2a3f5f"
            },
            "error_y": {
             "color": "#2a3f5f"
            },
            "marker": {
             "line": {
              "color": "white",
              "width": 0.5
             },
             "pattern": {
              "fillmode": "overlay",
              "size": 10,
              "solidity": 0.2
             }
            },
            "type": "bar"
           }
          ],
          "barpolar": [
           {
            "marker": {
             "line": {
              "color": "white",
              "width": 0.5
             },
             "pattern": {
              "fillmode": "overlay",
              "size": 10,
              "solidity": 0.2
             }
            },
            "type": "barpolar"
           }
          ],
          "carpet": [
           {
            "aaxis": {
             "endlinecolor": "#2a3f5f",
             "gridcolor": "#C8D4E3",
             "linecolor": "#C8D4E3",
             "minorgridcolor": "#C8D4E3",
             "startlinecolor": "#2a3f5f"
            },
            "baxis": {
             "endlinecolor": "#2a3f5f",
             "gridcolor": "#C8D4E3",
             "linecolor": "#C8D4E3",
             "minorgridcolor": "#C8D4E3",
             "startlinecolor": "#2a3f5f"
            },
            "type": "carpet"
           }
          ],
          "choropleth": [
           {
            "colorbar": {
             "outlinewidth": 0,
             "ticks": ""
            },
            "type": "choropleth"
           }
          ],
          "contour": [
           {
            "colorbar": {
             "outlinewidth": 0,
             "ticks": ""
            },
            "colorscale": [
             [
              0,
              "#0d0887"
             ],
             [
              0.1111111111111111,
              "#46039f"
             ],
             [
              0.2222222222222222,
              "#7201a8"
             ],
             [
              0.3333333333333333,
              "#9c179e"
             ],
             [
              0.4444444444444444,
              "#bd3786"
             ],
             [
              0.5555555555555556,
              "#d8576b"
             ],
             [
              0.6666666666666666,
              "#ed7953"
             ],
             [
              0.7777777777777778,
              "#fb9f3a"
             ],
             [
              0.8888888888888888,
              "#fdca26"
             ],
             [
              1,
              "#f0f921"
             ]
            ],
            "type": "contour"
           }
          ],
          "contourcarpet": [
           {
            "colorbar": {
             "outlinewidth": 0,
             "ticks": ""
            },
            "type": "contourcarpet"
           }
          ],
          "heatmap": [
           {
            "colorbar": {
             "outlinewidth": 0,
             "ticks": ""
            },
            "colorscale": [
             [
              0,
              "#0d0887"
             ],
             [
              0.1111111111111111,
              "#46039f"
             ],
             [
              0.2222222222222222,
              "#7201a8"
             ],
             [
              0.3333333333333333,
              "#9c179e"
             ],
             [
              0.4444444444444444,
              "#bd3786"
             ],
             [
              0.5555555555555556,
              "#d8576b"
             ],
             [
              0.6666666666666666,
              "#ed7953"
             ],
             [
              0.7777777777777778,
              "#fb9f3a"
             ],
             [
              0.8888888888888888,
              "#fdca26"
             ],
             [
              1,
              "#f0f921"
             ]
            ],
            "type": "heatmap"
           }
          ],
          "histogram": [
           {
            "marker": {
             "pattern": {
              "fillmode": "overlay",
              "size": 10,
              "solidity": 0.2
             }
            },
            "type": "histogram"
           }
          ],
          "histogram2d": [
           {
            "colorbar": {
             "outlinewidth": 0,
             "ticks": ""
            },
            "colorscale": [
             [
              0,
              "#0d0887"
             ],
             [
              0.1111111111111111,
              "#46039f"
             ],
             [
              0.2222222222222222,
              "#7201a8"
             ],
             [
              0.3333333333333333,
              "#9c179e"
             ],
             [
              0.4444444444444444,
              "#bd3786"
             ],
             [
              0.5555555555555556,
              "#d8576b"
             ],
             [
              0.6666666666666666,
              "#ed7953"
             ],
             [
              0.7777777777777778,
              "#fb9f3a"
             ],
             [
              0.8888888888888888,
              "#fdca26"
             ],
             [
              1,
              "#f0f921"
             ]
            ],
            "type": "histogram2d"
           }
          ],
          "histogram2dcontour": [
           {
            "colorbar": {
             "outlinewidth": 0,
             "ticks": ""
            },
            "colorscale": [
             [
              0,
              "#0d0887"
             ],
             [
              0.1111111111111111,
              "#46039f"
             ],
             [
              0.2222222222222222,
              "#7201a8"
             ],
             [
              0.3333333333333333,
              "#9c179e"
             ],
             [
              0.4444444444444444,
              "#bd3786"
             ],
             [
              0.5555555555555556,
              "#d8576b"
             ],
             [
              0.6666666666666666,
              "#ed7953"
             ],
             [
              0.7777777777777778,
              "#fb9f3a"
             ],
             [
              0.8888888888888888,
              "#fdca26"
             ],
             [
              1,
              "#f0f921"
             ]
            ],
            "type": "histogram2dcontour"
           }
          ],
          "mesh3d": [
           {
            "colorbar": {
             "outlinewidth": 0,
             "ticks": ""
            },
            "type": "mesh3d"
           }
          ],
          "parcoords": [
           {
            "line": {
             "colorbar": {
              "outlinewidth": 0,
              "ticks": ""
             }
            },
            "type": "parcoords"
           }
          ],
          "pie": [
           {
            "automargin": true,
            "type": "pie"
           }
          ],
          "scatter": [
           {
            "fillpattern": {
             "fillmode": "overlay",
             "size": 10,
             "solidity": 0.2
            },
            "type": "scatter"
           }
          ],
          "scatter3d": [
           {
            "line": {
             "colorbar": {
              "outlinewidth": 0,
              "ticks": ""
             }
            },
            "marker": {
             "colorbar": {
              "outlinewidth": 0,
              "ticks": ""
             }
            },
            "type": "scatter3d"
           }
          ],
          "scattercarpet": [
           {
            "marker": {
             "colorbar": {
              "outlinewidth": 0,
              "ticks": ""
             }
            },
            "type": "scattercarpet"
           }
          ],
          "scattergeo": [
           {
            "marker": {
             "colorbar": {
              "outlinewidth": 0,
              "ticks": ""
             }
            },
            "type": "scattergeo"
           }
          ],
          "scattergl": [
           {
            "marker": {
             "colorbar": {
              "outlinewidth": 0,
              "ticks": ""
             }
            },
            "type": "scattergl"
           }
          ],
          "scattermap": [
           {
            "marker": {
             "colorbar": {
              "outlinewidth": 0,
              "ticks": ""
             }
            },
            "type": "scattermap"
           }
          ],
          "scattermapbox": [
           {
            "marker": {
             "colorbar": {
              "outlinewidth": 0,
              "ticks": ""
             }
            },
            "type": "scattermapbox"
           }
          ],
          "scatterpolar": [
           {
            "marker": {
             "colorbar": {
              "outlinewidth": 0,
              "ticks": ""
             }
            },
            "type": "scatterpolar"
           }
          ],
          "scatterpolargl": [
           {
            "marker": {
             "colorbar": {
              "outlinewidth": 0,
              "ticks": ""
             }
            },
            "type": "scatterpolargl"
           }
          ],
          "scatterternary": [
           {
            "marker": {
             "colorbar": {
              "outlinewidth": 0,
              "ticks": ""
             }
            },
            "type": "scatterternary"
           }
          ],
          "surface": [
           {
            "colorbar": {
             "outlinewidth": 0,
             "ticks": ""
            },
            "colorscale": [
             [
              0,
              "#0d0887"
             ],
             [
              0.1111111111111111,
              "#46039f"
             ],
             [
              0.2222222222222222,
              "#7201a8"
             ],
             [
              0.3333333333333333,
              "#9c179e"
             ],
             [
              0.4444444444444444,
              "#bd3786"
             ],
             [
              0.5555555555555556,
              "#d8576b"
             ],
             [
              0.6666666666666666,
              "#ed7953"
             ],
             [
              0.7777777777777778,
              "#fb9f3a"
             ],
             [
              0.8888888888888888,
              "#fdca26"
             ],
             [
              1,
              "#f0f921"
             ]
            ],
            "type": "surface"
           }
          ],
          "table": [
           {
            "cells": {
             "fill": {
              "color": "#EBF0F8"
             },
             "line": {
              "color": "white"
             }
            },
            "header": {
             "fill": {
              "color": "#C8D4E3"
             },
             "line": {
              "color": "white"
             }
            },
            "type": "table"
           }
          ]
         },
         "layout": {
          "annotationdefaults": {
           "arrowcolor": "#2a3f5f",
           "arrowhead": 0,
           "arrowwidth": 1
          },
          "autotypenumbers": "strict",
          "coloraxis": {
           "colorbar": {
            "outlinewidth": 0,
            "ticks": ""
           }
          },
          "colorscale": {
           "diverging": [
            [
             0,
             "#8e0152"
            ],
            [
             0.1,
             "#c51b7d"
            ],
            [
             0.2,
             "#de77ae"
            ],
            [
             0.3,
             "#f1b6da"
            ],
            [
             0.4,
             "#fde0ef"
            ],
            [
             0.5,
             "#f7f7f7"
            ],
            [
             0.6,
             "#e6f5d0"
            ],
            [
             0.7,
             "#b8e186"
            ],
            [
             0.8,
             "#7fbc41"
            ],
            [
             0.9,
             "#4d9221"
            ],
            [
             1,
             "#276419"
            ]
           ],
           "sequential": [
            [
             0,
             "#0d0887"
            ],
            [
             0.1111111111111111,
             "#46039f"
            ],
            [
             0.2222222222222222,
             "#7201a8"
            ],
            [
             0.3333333333333333,
             "#9c179e"
            ],
            [
             0.4444444444444444,
             "#bd3786"
            ],
            [
             0.5555555555555556,
             "#d8576b"
            ],
            [
             0.6666666666666666,
             "#ed7953"
            ],
            [
             0.7777777777777778,
             "#fb9f3a"
            ],
            [
             0.8888888888888888,
             "#fdca26"
            ],
            [
             1,
             "#f0f921"
            ]
           ],
           "sequentialminus": [
            [
             0,
             "#0d0887"
            ],
            [
             0.1111111111111111,
             "#46039f"
            ],
            [
             0.2222222222222222,
             "#7201a8"
            ],
            [
             0.3333333333333333,
             "#9c179e"
            ],
            [
             0.4444444444444444,
             "#bd3786"
            ],
            [
             0.5555555555555556,
             "#d8576b"
            ],
            [
             0.6666666666666666,
             "#ed7953"
            ],
            [
             0.7777777777777778,
             "#fb9f3a"
            ],
            [
             0.8888888888888888,
             "#fdca26"
            ],
            [
             1,
             "#f0f921"
            ]
           ]
          },
          "colorway": [
           "#636efa",
           "#EF553B",
           "#00cc96",
           "#ab63fa",
           "#FFA15A",
           "#19d3f3",
           "#FF6692",
           "#B6E880",
           "#FF97FF",
           "#FECB52"
          ],
          "font": {
           "color": "#2a3f5f"
          },
          "geo": {
           "bgcolor": "white",
           "lakecolor": "white",
           "landcolor": "white",
           "showlakes": true,
           "showland": true,
           "subunitcolor": "#C8D4E3"
          },
          "hoverlabel": {
           "align": "left"
          },
          "hovermode": "closest",
          "mapbox": {
           "style": "light"
          },
          "paper_bgcolor": "white",
          "plot_bgcolor": "white",
          "polar": {
           "angularaxis": {
            "gridcolor": "#EBF0F8",
            "linecolor": "#EBF0F8",
            "ticks": ""
           },
           "bgcolor": "white",
           "radialaxis": {
            "gridcolor": "#EBF0F8",
            "linecolor": "#EBF0F8",
            "ticks": ""
           }
          },
          "scene": {
           "xaxis": {
            "backgroundcolor": "white",
            "gridcolor": "#DFE8F3",
            "gridwidth": 2,
            "linecolor": "#EBF0F8",
            "showbackground": true,
            "ticks": "",
            "zerolinecolor": "#EBF0F8"
           },
           "yaxis": {
            "backgroundcolor": "white",
            "gridcolor": "#DFE8F3",
            "gridwidth": 2,
            "linecolor": "#EBF0F8",
            "showbackground": true,
            "ticks": "",
            "zerolinecolor": "#EBF0F8"
           },
           "zaxis": {
            "backgroundcolor": "white",
            "gridcolor": "#DFE8F3",
            "gridwidth": 2,
            "linecolor": "#EBF0F8",
            "showbackground": true,
            "ticks": "",
            "zerolinecolor": "#EBF0F8"
           }
          },
          "shapedefaults": {
           "line": {
            "color": "#2a3f5f"
           }
          },
          "ternary": {
           "aaxis": {
            "gridcolor": "#DFE8F3",
            "linecolor": "#A2B1C6",
            "ticks": ""
           },
           "baxis": {
            "gridcolor": "#DFE8F3",
            "linecolor": "#A2B1C6",
            "ticks": ""
           },
           "bgcolor": "white",
           "caxis": {
            "gridcolor": "#DFE8F3",
            "linecolor": "#A2B1C6",
            "ticks": ""
           }
          },
          "title": {
           "x": 0.05
          },
          "xaxis": {
           "automargin": true,
           "gridcolor": "#EBF0F8",
           "linecolor": "#EBF0F8",
           "ticks": "",
           "title": {
            "standoff": 15
           },
           "zerolinecolor": "#EBF0F8",
           "zerolinewidth": 2
          },
          "yaxis": {
           "automargin": true,
           "gridcolor": "#EBF0F8",
           "linecolor": "#EBF0F8",
           "ticks": "",
           "title": {
            "standoff": 15
           },
           "zerolinecolor": "#EBF0F8",
           "zerolinewidth": 2
          }
         }
        },
        "title": {
         "text": "Model Performance Comparison"
        },
        "xaxis": {
         "title": {
          "text": "Model"
         }
        },
        "yaxis": {
         "title": {
          "text": "Accuracy (%)"
         }
        }
       }
      }
     },
     "metadata": {},
     "output_type": "display_data"
    }
   ],
   "source": [
    "# Compare all three models\n",
    "print(\"=\" * 80)\n",
    "print(\"FINAL MODEL COMPARISON\")\n",
    "print(\"=\" * 80)\n",
    "\n",
    "comparison_df = pd.DataFrame({\n",
    "    'Model': ['Baseline Regressor', 'Optimized Regressor', 'XGBoost Ranker'],\n",
    "    'Top-3 Accuracy': [\n",
    "        baseline_metrics.get('Top-3 Accuracy', 0),\n",
    "        optimized_metrics.get('Top-3 Accuracy', 0),\n",
    "        ranker_metrics['Top-3 Accuracy']\n",
    "    ],\n",
    "    'Top-5 Accuracy': [\n",
    "        baseline_metrics.get('Top-5 Accuracy', 0),\n",
    "        optimized_metrics.get('Top-5 Accuracy', 0),\n",
    "        ranker_metrics['Top-5 Accuracy']\n",
    "    ],\n",
    "    'MAE': [\n",
    "        baseline_metrics.get('MAE', 0),\n",
    "        optimized_metrics.get('MAE', 0),\n",
    "        ranker_metrics['MAE']\n",
    "    ]\n",
    "})\n",
    "\n",
    "print(\"\\n\")\n",
    "print(comparison_df.to_string(index=False))\n",
    "\n",
    "# Visualize comparison\n",
    "fig = go.Figure()\n",
    "\n",
    "for metric in ['Top-3 Accuracy', 'Top-5 Accuracy']:\n",
    "    fig.add_trace(go.Bar(\n",
    "        name=metric,\n",
    "        x=comparison_df['Model'],\n",
    "        y=comparison_df[metric] * 100,\n",
    "        text=[f\"{v:.1f}%\" for v in comparison_df[metric] * 100],\n",
    "        textposition='auto',\n",
    "    ))\n",
    "\n",
    "fig.update_layout(\n",
    "    title='Model Performance Comparison',\n",
    "    xaxis_title='Model',\n",
    "    yaxis_title='Accuracy (%)',\n",
    "    barmode='group',\n",
    "    height=500\n",
    ")\n",
    "\n",
    "fig.show()\n"
   ]
  },
  {
   "cell_type": "code",
   "execution_count": 29,
   "id": "80f3c19f",
   "metadata": {},
   "outputs": [
    {
     "name": "stdout",
     "output_type": "stream",
     "text": [
      "\n",
      "================================================================================\n",
      "SAMPLE RACE PREDICTION: 2024_13\n",
      "================================================================================\n",
      "\n",
      " driver_abbreviation  grid_position  target_position  predicted_rank\n",
      "                  25            2.0                1             1.0\n",
      "                  13            5.0                3             2.0\n",
      "                  22            1.0                2             3.0\n",
      "                  29            4.0                6             4.0\n",
      "                   2            7.0               11             5.0\n",
      "                  35            3.0                5             6.0\n",
      "                  28           17.0                8             7.0\n",
      "                  18            6.0                4             8.0\n",
      "                  27            9.0               12             9.0\n",
      "                  32            8.0               10            10.0\n",
      "\n",
      "Top-3 Prediction Accuracy for this race: 80%\n"
     ]
    }
   ],
   "source": [
    "# Example: Show predictions for a sample race\n",
    "sample_race = test_race_ids[0]\n",
    "sample_data = test_df[test_df['race_id'] == sample_race].copy()\n",
    "\n",
    "# Sort by predicted score (lower = better)\n",
    "sample_data['predicted_rank'] = sample_data['predicted_score'].rank(method='min')\n",
    "sample_data = sample_data.sort_values('predicted_rank')\n",
    "\n",
    "print(f\"\\n{'='*80}\")\n",
    "print(f\"SAMPLE RACE PREDICTION: {sample_race}\")\n",
    "print(f\"{'='*80}\\n\")\n",
    "\n",
    "# Show top 10 predictions\n",
    "display_cols = ['driver_abbreviation', 'grid_position', 'target_position', 'predicted_rank']\n",
    "if 'driver_abbreviation' in sample_data.columns:\n",
    "    print(sample_data[display_cols].head(10).to_string(index=False))\n",
    "else:\n",
    "    print(\"Driver names not available in encoded data\")\n",
    "    \n",
    "print(f\"\\nTop-3 Prediction Accuracy for this race: \", end=\"\")\n",
    "top3_correct = (np.abs(sample_data['target_position'].values[:10] - \n",
    "                       sample_data['predicted_rank'].values[:10]) <= 3).mean()\n",
    "print(f\"{top3_correct:.0%}\")\n"
   ]
  },
  {
   "cell_type": "code",
   "execution_count": 30,
   "id": "fe2a6ef6",
   "metadata": {},
   "outputs": [
    {
     "name": "stdout",
     "output_type": "stream",
     "text": [
      "✓ XGBoost Ranker model saved!\n",
      "  Model: ../models/xgboost/xgboost_ranker_model.pkl\n",
      "  Encoders: ../models/xgboost/ranker_label_encoders.pkl\n"
     ]
    }
   ],
   "source": [
    "# Save the ranking model\n",
    "import joblib\n",
    "import os\n",
    "\n",
    "os.makedirs('../models/xgboost', exist_ok=True)\n",
    "\n",
    "joblib.dump(ranker_model, '../models/xgboost/xgboost_ranker_model.pkl')\n",
    "joblib.dump(le_dict_rank, '../models/xgboost/ranker_label_encoders.pkl')\n",
    "\n",
    "print(\"✓ XGBoost Ranker model saved!\")\n",
    "print(\"  Model: ../models/xgboost/xgboost_ranker_model.pkl\")\n",
    "print(\"  Encoders: ../models/xgboost/ranker_label_encoders.pkl\")\n"
   ]
  },
  {
   "cell_type": "markdown",
   "id": "713e131d",
   "metadata": {},
   "source": [
    "### Key Differences: Regressor vs Ranker\n",
    "\n",
    "**XGBoost Regressor:**\n",
    "- Predicts absolute position (1, 2, 3, ...)\n",
    "- Treats each prediction independently\n",
    "- Optimizes for MSE/RMSE\n",
    "\n",
    "**XGBoost Ranker:**\n",
    "- Predicts relative ordering (who finishes ahead)\n",
    "- Learns pairwise comparisons within races\n",
    "- Optimizes for ranking quality (NDCG, MAP)\n",
    "- Better for \"top-k\" predictions\n",
    "\n",
    "**When to use each:**\n",
    "- **Regressor:** When you need exact position numbers\n",
    "- **Ranker:** When you care about relative order (podium predictions, fantasy F1)\n"
   ]
  }
 ],
 "metadata": {
  "kernelspec": {
   "display_name": "racecast_env",
   "language": "python",
   "name": "python3"
  },
  "language_info": {
   "codemirror_mode": {
    "name": "ipython",
    "version": 3
   },
   "file_extension": ".py",
   "mimetype": "text/x-python",
   "name": "python",
   "nbconvert_exporter": "python",
   "pygments_lexer": "ipython3",
   "version": "3.9.6"
  }
 },
 "nbformat": 4,
 "nbformat_minor": 5
}
